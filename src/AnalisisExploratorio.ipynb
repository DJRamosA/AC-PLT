{
 "cells": [
  {
   "cell_type": "code",
   "execution_count": null,
   "metadata": {},
   "outputs": [],
   "source": [
    "import pandas as pd\n",
    "import numpy as np\n",
    "import matplotlib.pyplot as plt"
   ]
  },
  {
   "cell_type": "code",
   "execution_count": null,
   "metadata": {},
   "outputs": [],
   "source": [
    "# Data Extraction\n",
    "data = pd.read_excel(r'../data/Datos Codificados Estudio v2a.xlsx')"
   ]
  },
  {
   "cell_type": "code",
   "execution_count": null,
   "metadata": {},
   "outputs": [],
   "source": [
    "## Analysis Frequency Distribution of Word Counts in Documents\n",
    "#--------------------------------------------------------------------------------------\n",
    "doc_lens = [len(d) for d in df['sentence_clean']]\n",
    "\n",
    "#plot\n",
    "plt.figure(figsize=(16,7), dpi=160)\n",
    "plt.hist(doc_lens, bins = 200, color='navy')\n",
    "plt.text(150, 230, \"Mean   : \" + str(round(np.mean(doc_lens))))\n",
    "plt.text(150,  200, \"Median : \" + str(round(np.median(doc_lens))))\n",
    "plt.text(150,  170, \"Stdev   : \" + str(round(np.std(doc_lens))))\n",
    "plt.text(150,  140, \"1%ile    : \" + str(round(np.quantile(doc_lens, q=0.01))))\n",
    "plt.text(150,  110, \"99%ile  : \" + str(round(np.quantile(doc_lens, q=0.99))))\n",
    "\n",
    "plt.gca().set(xlim=(0, 200), ylabel='Number of Documents', xlabel='Document Word Count')\n",
    "plt.tick_params(size=16)\n",
    "plt.xticks(np.linspace(0,200,9))\n",
    "plt.title('Distribution of Document Word Counts', fontdict=dict(size=22))\n",
    "plt.show()\n",
    "#--------------------------------------------------------------------------------------\n"
   ]
  }
 ],
 "metadata": {
  "language_info": {
   "name": "python"
  },
  "orig_nbformat": 4
 },
 "nbformat": 4,
 "nbformat_minor": 2
}
