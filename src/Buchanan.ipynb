{
 "cells": [
  {
   "cell_type": "code",
   "execution_count": 3,
   "metadata": {},
   "outputs": [],
   "source": [
    "import pandas as pd\n",
    "import numpy as np\n",
    "import spacy\n",
    "import random\n",
    "import es_core_news_sm\n",
    "\n",
    "random.seed(0)"
   ]
  },
  {
   "cell_type": "code",
   "execution_count": 4,
   "metadata": {},
   "outputs": [],
   "source": [
    "# data import\n",
    "data = pd.read_excel(r'../data/Datos Codificados Estudio v2a.xlsx')"
   ]
  },
  {
   "cell_type": "code",
   "execution_count": 5,
   "metadata": {},
   "outputs": [],
   "source": [
    "data_matrix = pd.concat(\n",
    "    (data.iloc[:,2],    # Cue/Concept\n",
    "    data.iloc[:,6],     # Codification\n",
    "    data.iloc[:,3]      # Description of the cue\n",
    "    ),\n",
    "    axis = 1\n",
    ")"
   ]
  },
  {
   "cell_type": "code",
   "execution_count": 56,
   "metadata": {},
   "outputs": [
    {
     "data": {
      "text/html": [
       "<div>\n",
       "<style scoped>\n",
       "    .dataframe tbody tr th:only-of-type {\n",
       "        vertical-align: middle;\n",
       "    }\n",
       "\n",
       "    .dataframe tbody tr th {\n",
       "        vertical-align: top;\n",
       "    }\n",
       "\n",
       "    .dataframe thead th {\n",
       "        text-align: right;\n",
       "    }\n",
       "</style>\n",
       "<table border=\"1\" class=\"dataframe\">\n",
       "  <thead>\n",
       "    <tr style=\"text-align: right;\">\n",
       "      <th></th>\n",
       "      <th>Palabra (concepto)</th>\n",
       "      <th>Codificación</th>\n",
       "      <th>Descripción</th>\n",
       "    </tr>\n",
       "  </thead>\n",
       "  <tbody>\n",
       "    <tr>\n",
       "      <th>0</th>\n",
       "      <td>Compasión</td>\n",
       "      <td>sentimiento</td>\n",
       "      <td>sentimiento</td>\n",
       "    </tr>\n",
       "    <tr>\n",
       "      <th>1</th>\n",
       "      <td>Compasión</td>\n",
       "      <td>perdón</td>\n",
       "      <td>por lo que se le perdona la vida a alguien en ...</td>\n",
       "    </tr>\n",
       "    <tr>\n",
       "      <th>2</th>\n",
       "      <td>plan</td>\n",
       "      <td>objetivos</td>\n",
       "      <td>necesario para cumplir objetivos</td>\n",
       "    </tr>\n",
       "    <tr>\n",
       "      <th>3</th>\n",
       "      <td>plan</td>\n",
       "      <td>organización</td>\n",
       "      <td>organizar recursos o personas</td>\n",
       "    </tr>\n",
       "    <tr>\n",
       "      <th>4</th>\n",
       "      <td>plan</td>\n",
       "      <td>estrategia</td>\n",
       "      <td>estrategia</td>\n",
       "    </tr>\n",
       "    <tr>\n",
       "      <th>...</th>\n",
       "      <td>...</td>\n",
       "      <td>...</td>\n",
       "      <td>...</td>\n",
       "    </tr>\n",
       "    <tr>\n",
       "      <th>4933</th>\n",
       "      <td>Obligación</td>\n",
       "      <td>imposición</td>\n",
       "      <td>imposicion</td>\n",
       "    </tr>\n",
       "    <tr>\n",
       "      <th>4934</th>\n",
       "      <td>Obligación</td>\n",
       "      <td>extricto</td>\n",
       "      <td>carácter extricto</td>\n",
       "    </tr>\n",
       "    <tr>\n",
       "      <th>4935</th>\n",
       "      <td>Obligación</td>\n",
       "      <td>normas</td>\n",
       "      <td>normas</td>\n",
       "    </tr>\n",
       "    <tr>\n",
       "      <th>4936</th>\n",
       "      <td>Obligación</td>\n",
       "      <td>deber</td>\n",
       "      <td>deberes</td>\n",
       "    </tr>\n",
       "    <tr>\n",
       "      <th>4937</th>\n",
       "      <td>Obligación</td>\n",
       "      <td>imposición</td>\n",
       "      <td>acto impuesto por algo o alguien</td>\n",
       "    </tr>\n",
       "  </tbody>\n",
       "</table>\n",
       "<p>4938 rows × 3 columns</p>\n",
       "</div>"
      ],
      "text/plain": [
       "     Palabra (concepto)  Codificación  \\\n",
       "0            Compasión    sentimiento   \n",
       "1            Compasión         perdón   \n",
       "2                  plan     objetivos   \n",
       "3                  plan  organización   \n",
       "4                  plan    estrategia   \n",
       "...                 ...           ...   \n",
       "4933         Obligación    imposición   \n",
       "4934         Obligación      extricto   \n",
       "4935         Obligación        normas   \n",
       "4936         Obligación         deber   \n",
       "4937         Obligación    imposición   \n",
       "\n",
       "                                            Descripción  \n",
       "0                                           sentimiento  \n",
       "1     por lo que se le perdona la vida a alguien en ...  \n",
       "2                      necesario para cumplir objetivos  \n",
       "3                         organizar recursos o personas  \n",
       "4                                            estrategia  \n",
       "...                                                 ...  \n",
       "4933                                         imposicion  \n",
       "4934                                  carácter extricto  \n",
       "4935                                             normas  \n",
       "4936                                            deberes  \n",
       "4937                   acto impuesto por algo o alguien  \n",
       "\n",
       "[4938 rows x 3 columns]"
      ]
     },
     "execution_count": 56,
     "metadata": {},
     "output_type": "execute_result"
    }
   ],
   "source": [
    "data_matrix"
   ]
  },
  {
   "cell_type": "code",
   "execution_count": 32,
   "metadata": {},
   "outputs": [],
   "source": [
    "from sklearn.model_selection import KFold\n",
    "\n",
    "kfold=KFold(n_splits=5)\n",
    "counter = 1\n",
    "for train_index, test_index in kfold.split(data_matrix):\n",
    "    test = data_matrix.iloc[test_index,:]\n",
    "    test.to_csv(r\"../data/data_buchanan/test{}.csv\".format(counter))\n",
    "    counter+=1\n"
   ]
  },
  {
   "cell_type": "code",
   "execution_count": 43,
   "metadata": {},
   "outputs": [
    {
     "data": {
      "text/plain": [
       "0.0006076976401724442"
      ]
     },
     "execution_count": 43,
     "metadata": {},
     "output_type": "execute_result"
    }
   ],
   "source": [
    "buchanan_acc=[]\n",
    "for i in range(5):\n",
    "    test = pd.read_csv(r'../data/data_buchanan/test{}.csv'.format(i+1))\n",
    "    test_result = pd.read_csv(r'../data/data_buchanan/resultados/multi.nostop.lemmas_test{}.csv'.format(i+1))\n",
    "\n",
    "    len_test = len(test)\n",
    "    counter = 0\n",
    "    \n",
    "    for i in range(len_test):\n",
    "        counter += test['Codificación'][i] == np.random.choice(test_result['combined.lemmas'])\n",
    "    buchanan_acc.append(counter/len_test)\n",
    "\n",
    "np.mean(buchanan_acc)"
   ]
  },
  {
   "cell_type": "code",
   "execution_count": 6,
   "metadata": {},
   "outputs": [
    {
     "name": "stderr",
     "output_type": "stream",
     "text": [
      "C:\\Users\\DRamos\\AppData\\Local\\Programs\\Python\\Python38\\lib\\site-packages\\treetaggerwrapper.py:739: FutureWarning: Possible nested set at position 8\n",
      "  punct2find_re = re.compile(\"([^ ])([[\" + ALONEMARKS + \"])\",\n",
      "C:\\Users\\DRamos\\AppData\\Local\\Programs\\Python\\Python38\\lib\\site-packages\\treetaggerwrapper.py:2043: FutureWarning: Possible nested set at position 152\n",
      "  DnsHostMatch_re = re.compile(\"(\" + DnsHost_expression + \")\",\n",
      "C:\\Users\\DRamos\\AppData\\Local\\Programs\\Python\\Python38\\lib\\site-packages\\treetaggerwrapper.py:2067: FutureWarning: Possible nested set at position 409\n",
      "  UrlMatch_re = re.compile(UrlMatch_expression, re.VERBOSE | re.IGNORECASE)\n",
      "C:\\Users\\DRamos\\AppData\\Local\\Programs\\Python\\Python38\\lib\\site-packages\\treetaggerwrapper.py:2079: FutureWarning: Possible nested set at position 192\n",
      "  EmailMatch_re = re.compile(EmailMatch_expression, re.VERBOSE | re.IGNORECASE)\n"
     ]
    }
   ],
   "source": [
    "# Corregir Buchanan \n",
    "# Sacar las codificaciones a partir de la descripcion en concreto\n",
    "# EJ: descrip: sentimiento  =>  cod: sentimiento\n",
    "from hunspell import Hunspell\n",
    "import treetaggerwrapper\n"
   ]
  },
  {
   "cell_type": "code",
   "execution_count": 31,
   "metadata": {},
   "outputs": [],
   "source": [
    "class BuchananProcessor:\n",
    "\n",
    "    def __init__(self, data):\n",
    "        self.data = data\n",
    "        self.nlp = spacy.load('es_core_news_sm')\n",
    "        self.h = Hunspell('es_CL', hunspell_data_dir='../dict')\n",
    "        self.tagger = treetaggerwrapper.TreeTagger(TAGLANG='es')\n",
    "\n",
    "    def _sentenceCheck(self, text):\n",
    "        \"\"\"\n",
    "        Recives a string and returns the same without special caracters and \n",
    "        the correct spelling of the string in spanish\n",
    "        \"\"\"\n",
    "\n",
    "        # Remove all special caracters \n",
    "        words = [t.orth_ for t in self.nlp(text) if not (t.is_punct or t.orth_==\" \")]\n",
    "        tokens = [t.lower() for t in words]\n",
    "\n",
    "        c_spell = [self.h.suggest(t)[0] if (self.h.spell(t)==False and len(self.h.suggest(t))>0) else t for t in tokens]\n",
    "\n",
    "        return \" \".join(c_spell)\n",
    "        \n",
    "    def spellCheck(self):\n",
    "        for i in range(len(self.data.iloc[:,2])):\n",
    "            self.data.iloc[i,2] = self._sentenceCheck(self.data.iloc[i,2]) \n",
    "\n",
    "    def _lemmatize(self,text):\n",
    "        \"\"\"\n",
    "        Recives a string and return a list with the word, pos tagging and the lemma,\n",
    "        for each word\n",
    "        \"\"\"\n",
    "        return [tag for tag in treetaggerwrapper.make_tags(self.tagger.tag_text(text), exclude_nottags=True)]\n",
    "        # Mantener los tags completos porque se van a necesitar para otras funciones\n",
    "\n",
    "    def lemmatization(self):\n",
    "        self.data['lemma'] = [self._lemmatize(self.data.iloc[i,2]) for i in range(len(self.data.iloc[:,2]))]\n",
    "\n",
    "    def stopWordRemoval(self):\n",
    "        for i in range(len(self.data['lemma'])):\n",
    "            self.data['lemma'][i] = [word for word in self.data['lemma'][i] if self.nlp(word[2])[0].is_stop==False]\n",
    "    \n",
    "    def multiWordSequence(self):\n",
    "        \n",
    "\n",
    "    def process(self):\n",
    "        self.spellCheck()\n",
    "        self.lemmatization()\n",
    "        self.stopWordRemoval()"
   ]
  },
  {
   "cell_type": "code",
   "execution_count": 32,
   "metadata": {},
   "outputs": [
    {
     "data": {
      "text/html": [
       "<div>\n",
       "<style scoped>\n",
       "    .dataframe tbody tr th:only-of-type {\n",
       "        vertical-align: middle;\n",
       "    }\n",
       "\n",
       "    .dataframe tbody tr th {\n",
       "        vertical-align: top;\n",
       "    }\n",
       "\n",
       "    .dataframe thead th {\n",
       "        text-align: right;\n",
       "    }\n",
       "</style>\n",
       "<table border=\"1\" class=\"dataframe\">\n",
       "  <thead>\n",
       "    <tr style=\"text-align: right;\">\n",
       "      <th></th>\n",
       "      <th>Palabra (concepto)</th>\n",
       "      <th>Codificación</th>\n",
       "      <th>Descripción</th>\n",
       "      <th>lemma</th>\n",
       "    </tr>\n",
       "  </thead>\n",
       "  <tbody>\n",
       "    <tr>\n",
       "      <th>0</th>\n",
       "      <td>Compasión</td>\n",
       "      <td>sentimiento</td>\n",
       "      <td>sentimiento</td>\n",
       "      <td>[(sentimiento, NC, sentimiento)]</td>\n",
       "    </tr>\n",
       "    <tr>\n",
       "      <th>1</th>\n",
       "      <td>Compasión</td>\n",
       "      <td>perdón</td>\n",
       "      <td>por lo que se le perdona la vida a alguien en ...</td>\n",
       "      <td>[(le, PPC, él|le), (perdona, VLfin, perdonar),...</td>\n",
       "    </tr>\n",
       "    <tr>\n",
       "      <th>2</th>\n",
       "      <td>plan</td>\n",
       "      <td>objetivos</td>\n",
       "      <td>necesario para cumplir objetivos</td>\n",
       "      <td>[(necesario, ADJ, necesario), (cumplir, VLinf,...</td>\n",
       "    </tr>\n",
       "    <tr>\n",
       "      <th>3</th>\n",
       "      <td>plan</td>\n",
       "      <td>organización</td>\n",
       "      <td>organizar recursos o personas</td>\n",
       "      <td>[(organizar, VLinf, organizar), (recursos, NC,...</td>\n",
       "    </tr>\n",
       "    <tr>\n",
       "      <th>4</th>\n",
       "      <td>plan</td>\n",
       "      <td>estrategia</td>\n",
       "      <td>estrategia</td>\n",
       "      <td>[(estrategia, NC, estrategia)]</td>\n",
       "    </tr>\n",
       "    <tr>\n",
       "      <th>...</th>\n",
       "      <td>...</td>\n",
       "      <td>...</td>\n",
       "      <td>...</td>\n",
       "      <td>...</td>\n",
       "    </tr>\n",
       "    <tr>\n",
       "      <th>4933</th>\n",
       "      <td>Obligación</td>\n",
       "      <td>imposición</td>\n",
       "      <td>imposición</td>\n",
       "      <td>[(imposición, NC, imposición)]</td>\n",
       "    </tr>\n",
       "    <tr>\n",
       "      <th>4934</th>\n",
       "      <td>Obligación</td>\n",
       "      <td>extricto</td>\n",
       "      <td>carácter extracto</td>\n",
       "      <td>[(carácter, NC, carácter), (extracto, NC, extr...</td>\n",
       "    </tr>\n",
       "    <tr>\n",
       "      <th>4935</th>\n",
       "      <td>Obligación</td>\n",
       "      <td>normas</td>\n",
       "      <td>normas</td>\n",
       "      <td>[(normas, NC, norma)]</td>\n",
       "    </tr>\n",
       "    <tr>\n",
       "      <th>4936</th>\n",
       "      <td>Obligación</td>\n",
       "      <td>deber</td>\n",
       "      <td>deberes</td>\n",
       "      <td>[(deberes, NC, deber)]</td>\n",
       "    </tr>\n",
       "    <tr>\n",
       "      <th>4937</th>\n",
       "      <td>Obligación</td>\n",
       "      <td>imposición</td>\n",
       "      <td>acto impuesto por algo o alguien</td>\n",
       "      <td>[(acto, NC, acto), (impuesto, VLadj, imponer),...</td>\n",
       "    </tr>\n",
       "  </tbody>\n",
       "</table>\n",
       "<p>4938 rows × 4 columns</p>\n",
       "</div>"
      ],
      "text/plain": [
       "     Palabra (concepto)  Codificación  \\\n",
       "0            Compasión    sentimiento   \n",
       "1            Compasión         perdón   \n",
       "2                  plan     objetivos   \n",
       "3                  plan  organización   \n",
       "4                  plan    estrategia   \n",
       "...                 ...           ...   \n",
       "4933         Obligación    imposición   \n",
       "4934         Obligación      extricto   \n",
       "4935         Obligación        normas   \n",
       "4936         Obligación         deber   \n",
       "4937         Obligación    imposición   \n",
       "\n",
       "                                            Descripción  \\\n",
       "0                                           sentimiento   \n",
       "1     por lo que se le perdona la vida a alguien en ...   \n",
       "2                      necesario para cumplir objetivos   \n",
       "3                         organizar recursos o personas   \n",
       "4                                            estrategia   \n",
       "...                                                 ...   \n",
       "4933                                         imposición   \n",
       "4934                                  carácter extracto   \n",
       "4935                                             normas   \n",
       "4936                                            deberes   \n",
       "4937                   acto impuesto por algo o alguien   \n",
       "\n",
       "                                                  lemma  \n",
       "0                      [(sentimiento, NC, sentimiento)]  \n",
       "1     [(le, PPC, él|le), (perdona, VLfin, perdonar),...  \n",
       "2     [(necesario, ADJ, necesario), (cumplir, VLinf,...  \n",
       "3     [(organizar, VLinf, organizar), (recursos, NC,...  \n",
       "4                        [(estrategia, NC, estrategia)]  \n",
       "...                                                 ...  \n",
       "4933                     [(imposición, NC, imposición)]  \n",
       "4934  [(carácter, NC, carácter), (extracto, NC, extr...  \n",
       "4935                              [(normas, NC, norma)]  \n",
       "4936                             [(deberes, NC, deber)]  \n",
       "4937  [(acto, NC, acto), (impuesto, VLadj, imponer),...  \n",
       "\n",
       "[4938 rows x 4 columns]"
      ]
     },
     "execution_count": 32,
     "metadata": {},
     "output_type": "execute_result"
    }
   ],
   "source": [
    "P = BuchananProcessor(data_matrix)\n",
    "P.process()\n",
    "P.data"
   ]
  },
  {
   "cell_type": "code",
   "execution_count": 113,
   "metadata": {},
   "outputs": [
    {
     "data": {
      "text/plain": [
       "['por', 'el', 'que', 'se', 'él|le', 'perdonar', 'el', 'vano', 'ea', 'alguien']"
      ]
     },
     "execution_count": 113,
     "metadata": {},
     "output_type": "execute_result"
    }
   ],
   "source": [
    "P._lemmatize(\"por lo que se le perdona la vana ea alguien\")"
   ]
  },
  {
   "cell_type": "code",
   "execution_count": 23,
   "metadata": {},
   "outputs": [
    {
     "name": "stdout",
     "output_type": "stream",
     "text": [
      "Tag(word='le', pos='PPC', lemma='él|le')\n",
      "Tag(word='perdona', pos='VLfin', lemma='perdonar')\n",
      "Tag(word='vida', pos='NC', lemma='vida')\n",
      "Tag(word='a', pos='PREP', lemma='a')\n",
      "Tag(word='alguien', pos='QU', lemma='alguien')\n",
      "Tag(word='películas', pos='NC', lemma='película')\n"
     ]
    }
   ],
   "source": [
    "# for word in P.data['lemma'][1]: print(word[2])\n",
    "\n",
    "element = P.data['lemma'][1]\n",
    "for word in element:\n",
    "    if P.nlp(word[2])[0].is_stop==False:\n",
    "        print(word)\n",
    "        "
   ]
  },
  {
   "cell_type": "code",
   "execution_count": 26,
   "metadata": {},
   "outputs": [
    {
     "data": {
      "text/plain": [
       "[Tag(word='por', pos='PREP', lemma='por'),\n",
       " Tag(word='lo', pos='ART', lemma='el'),\n",
       " Tag(word='que', pos='CQUE', lemma='que'),\n",
       " Tag(word='se', pos='SE', lemma='se'),\n",
       " Tag(word='le', pos='PPC', lemma='él|le'),\n",
       " Tag(word='perdona', pos='VLfin', lemma='perdonar'),\n",
       " Tag(word='la', pos='ART', lemma='el'),\n",
       " Tag(word='vida', pos='NC', lemma='vida'),\n",
       " Tag(word='a', pos='PREP', lemma='a'),\n",
       " Tag(word='alguien', pos='QU', lemma='alguien'),\n",
       " Tag(word='en', pos='PREP', lemma='en'),\n",
       " Tag(word='las', pos='ART', lemma='el'),\n",
       " Tag(word='películas', pos='NC', lemma='película')]"
      ]
     },
     "execution_count": 26,
     "metadata": {},
     "output_type": "execute_result"
    }
   ],
   "source": [
    "P.data['lemma'][1]"
   ]
  }
 ],
 "metadata": {
  "interpreter": {
   "hash": "fae2177e18fec49484b61032129f0d52bd80ea0aed801b0ea42284277d6347b1"
  },
  "kernelspec": {
   "display_name": "Python 3.8.6 64-bit",
   "language": "python",
   "name": "python3"
  },
  "language_info": {
   "codemirror_mode": {
    "name": "ipython",
    "version": 3
   },
   "file_extension": ".py",
   "mimetype": "text/x-python",
   "name": "python",
   "nbconvert_exporter": "python",
   "pygments_lexer": "ipython3",
   "version": "3.8.6"
  },
  "orig_nbformat": 4
 },
 "nbformat": 4,
 "nbformat_minor": 2
}
