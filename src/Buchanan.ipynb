{
 "cells": [
  {
   "cell_type": "code",
   "execution_count": 1,
   "metadata": {},
   "outputs": [
    {
     "name": "stderr",
     "output_type": "stream",
     "text": [
      "c:\\Users\\DRamos\\AppData\\Local\\Programs\\Python\\Python38\\lib\\site-packages\\treetaggerwrapper.py:739: FutureWarning: Possible nested set at position 8\n",
      "  punct2find_re = re.compile(\"([^ ])([[\" + ALONEMARKS + \"])\",\n",
      "c:\\Users\\DRamos\\AppData\\Local\\Programs\\Python\\Python38\\lib\\site-packages\\treetaggerwrapper.py:2043: FutureWarning: Possible nested set at position 152\n",
      "  DnsHostMatch_re = re.compile(\"(\" + DnsHost_expression + \")\",\n",
      "c:\\Users\\DRamos\\AppData\\Local\\Programs\\Python\\Python38\\lib\\site-packages\\treetaggerwrapper.py:2067: FutureWarning: Possible nested set at position 409\n",
      "  UrlMatch_re = re.compile(UrlMatch_expression, re.VERBOSE | re.IGNORECASE)\n",
      "c:\\Users\\DRamos\\AppData\\Local\\Programs\\Python\\Python38\\lib\\site-packages\\treetaggerwrapper.py:2079: FutureWarning: Possible nested set at position 192\n",
      "  EmailMatch_re = re.compile(EmailMatch_expression, re.VERBOSE | re.IGNORECASE)\n"
     ]
    }
   ],
   "source": [
    "import pandas as pd\n",
    "import numpy as np\n",
    "import spacy\n",
    "import random\n",
    "# import es_core_news_sm\n",
    "from hunspell import Hunspell\n",
    "import treetaggerwrapper\n",
    "import regex\n",
    "from sklearn.model_selection import KFold\n",
    "\n",
    "\n",
    "random.seed(0)"
   ]
  },
  {
   "cell_type": "code",
   "execution_count": 2,
   "metadata": {},
   "outputs": [],
   "source": [
    "# data import\n",
    "data = pd.read_excel(r'../data/Datos Codificados Estudio v2a.xlsx')"
   ]
  },
  {
   "cell_type": "code",
   "execution_count": 3,
   "metadata": {},
   "outputs": [],
   "source": [
    "data_matrix = pd.concat(\n",
    "    (data.iloc[:,2],    # Cue/Concept\n",
    "    data.iloc[:,6],     # Codification\n",
    "    data.iloc[:,3]      # Description of the cue\n",
    "    ),\n",
    "    axis = 1\n",
    ")"
   ]
  },
  {
   "cell_type": "code",
   "execution_count": 4,
   "metadata": {},
   "outputs": [
    {
     "data": {
      "text/html": [
       "<div>\n",
       "<style scoped>\n",
       "    .dataframe tbody tr th:only-of-type {\n",
       "        vertical-align: middle;\n",
       "    }\n",
       "\n",
       "    .dataframe tbody tr th {\n",
       "        vertical-align: top;\n",
       "    }\n",
       "\n",
       "    .dataframe thead th {\n",
       "        text-align: right;\n",
       "    }\n",
       "</style>\n",
       "<table border=\"1\" class=\"dataframe\">\n",
       "  <thead>\n",
       "    <tr style=\"text-align: right;\">\n",
       "      <th></th>\n",
       "      <th>Palabra (concepto)</th>\n",
       "      <th>Codificación</th>\n",
       "      <th>Descripción</th>\n",
       "    </tr>\n",
       "  </thead>\n",
       "  <tbody>\n",
       "    <tr>\n",
       "      <th>0</th>\n",
       "      <td>Compasión</td>\n",
       "      <td>sentimiento</td>\n",
       "      <td>sentimiento</td>\n",
       "    </tr>\n",
       "    <tr>\n",
       "      <th>1</th>\n",
       "      <td>Compasión</td>\n",
       "      <td>perdón</td>\n",
       "      <td>por lo que se le perdona la vida a alguien en ...</td>\n",
       "    </tr>\n",
       "    <tr>\n",
       "      <th>2</th>\n",
       "      <td>plan</td>\n",
       "      <td>objetivos</td>\n",
       "      <td>necesario para cumplir objetivos</td>\n",
       "    </tr>\n",
       "    <tr>\n",
       "      <th>3</th>\n",
       "      <td>plan</td>\n",
       "      <td>organización</td>\n",
       "      <td>organizar recursos o personas</td>\n",
       "    </tr>\n",
       "    <tr>\n",
       "      <th>4</th>\n",
       "      <td>plan</td>\n",
       "      <td>estrategia</td>\n",
       "      <td>estrategia</td>\n",
       "    </tr>\n",
       "    <tr>\n",
       "      <th>...</th>\n",
       "      <td>...</td>\n",
       "      <td>...</td>\n",
       "      <td>...</td>\n",
       "    </tr>\n",
       "    <tr>\n",
       "      <th>4933</th>\n",
       "      <td>Obligación</td>\n",
       "      <td>imposición</td>\n",
       "      <td>imposicion</td>\n",
       "    </tr>\n",
       "    <tr>\n",
       "      <th>4934</th>\n",
       "      <td>Obligación</td>\n",
       "      <td>extricto</td>\n",
       "      <td>carácter extricto</td>\n",
       "    </tr>\n",
       "    <tr>\n",
       "      <th>4935</th>\n",
       "      <td>Obligación</td>\n",
       "      <td>normas</td>\n",
       "      <td>normas</td>\n",
       "    </tr>\n",
       "    <tr>\n",
       "      <th>4936</th>\n",
       "      <td>Obligación</td>\n",
       "      <td>deber</td>\n",
       "      <td>deberes</td>\n",
       "    </tr>\n",
       "    <tr>\n",
       "      <th>4937</th>\n",
       "      <td>Obligación</td>\n",
       "      <td>imposición</td>\n",
       "      <td>acto impuesto por algo o alguien</td>\n",
       "    </tr>\n",
       "  </tbody>\n",
       "</table>\n",
       "<p>4938 rows × 3 columns</p>\n",
       "</div>"
      ],
      "text/plain": [
       "     Palabra (concepto)  Codificación  \\\n",
       "0            Compasión    sentimiento   \n",
       "1            Compasión         perdón   \n",
       "2                  plan     objetivos   \n",
       "3                  plan  organización   \n",
       "4                  plan    estrategia   \n",
       "...                 ...           ...   \n",
       "4933         Obligación    imposición   \n",
       "4934         Obligación      extricto   \n",
       "4935         Obligación        normas   \n",
       "4936         Obligación         deber   \n",
       "4937         Obligación    imposición   \n",
       "\n",
       "                                            Descripción  \n",
       "0                                           sentimiento  \n",
       "1     por lo que se le perdona la vida a alguien en ...  \n",
       "2                      necesario para cumplir objetivos  \n",
       "3                         organizar recursos o personas  \n",
       "4                                            estrategia  \n",
       "...                                                 ...  \n",
       "4933                                         imposicion  \n",
       "4934                                  carácter extricto  \n",
       "4935                                             normas  \n",
       "4936                                            deberes  \n",
       "4937                   acto impuesto por algo o alguien  \n",
       "\n",
       "[4938 rows x 3 columns]"
      ]
     },
     "execution_count": 4,
     "metadata": {},
     "output_type": "execute_result"
    }
   ],
   "source": [
    "data_matrix"
   ]
  },
  {
   "cell_type": "markdown",
   "metadata": {},
   "source": [
    "* Corregir Buchanan \n",
    "* Sacar las codificaciones a partir de la descripcion en concre\n",
    "* EJ: descrip: sentimiento  =>  cod: sentimiento"
   ]
  },
  {
   "cell_type": "code",
   "execution_count": 4,
   "metadata": {},
   "outputs": [],
   "source": [
    "class BuchananProcessor:\n",
    "\n",
    "    def __init__(self, data):\n",
    "        self.data = data.copy(deep=True)\n",
    "        self.nlp = spacy.load('es_core_news_sm')\n",
    "        self.h = Hunspell('es_CL', hunspell_data_dir='../dict')\n",
    "        self.tagger = treetaggerwrapper.TreeTagger(TAGLANG='es')\n",
    "\n",
    "    def _sentenceCheck(self, text):\n",
    "        \"\"\"\n",
    "        Recives a string and returns the same without special caracters and \n",
    "        the correct spelling of the string in spanish\n",
    "        \"\"\"\n",
    "        # Remove all special caracters \n",
    "        words = [t.orth_ for t in self.nlp(text) if not (t.is_punct or t.orth_==\" \")]\n",
    "        tokens = [t.lower() for t in words]\n",
    "\n",
    "        # Suggestion for each word bad spelled\n",
    "        c_spell = [self.h.suggest(t)[0] if (self.h.spell(t)==False and len(self.h.suggest(t))>0) else t for t in tokens]\n",
    "\n",
    "        # Re-join the words in one string\n",
    "        return \" \".join(c_spell)\n",
    "        \n",
    "    def _lemmatize(self,text):\n",
    "        \"\"\"\n",
    "        Recives a string and return a list with the word, pos tagging and the lemma,\n",
    "        for each word\n",
    "        \"\"\"\n",
    "        return [tag for tag in treetaggerwrapper.make_tags(self.tagger.tag_text(text), exclude_nottags=True)]\n",
    "\n",
    "    def spellCheck(self):\n",
    "        \"\"\"\n",
    "        Check the spelling for each description.\n",
    "        \"\"\"\n",
    "        for i in range(len(self.data.iloc[:,2])):\n",
    "            self.data.iloc[i,2] = self._sentenceCheck(self.data.iloc[i,2]) \n",
    "\n",
    "    def lemmatization(self):\n",
    "        \"\"\"\n",
    "        modify teh column Descripción to a list of tag for each word\n",
    "        \"\"\"\n",
    "        self.data['Descripción'] = [self._lemmatize(self.data.iloc[i,2]) for i in range(len(self.data.iloc[:,2]))]\n",
    "\n",
    "    def stopWordRemoval(self):\n",
    "        \"\"\"\n",
    "        Removes al stop word from the column Descripción\n",
    "        \"\"\"\n",
    "        for i in range(len(self.data['Descripción'])):\n",
    "            self.data['Descripción'][i] = [word for word in self.data['Descripción'][i] if self.nlp(word[2])[0].is_stop==False]\n",
    "    \n",
    "    def multiWordSequence(self):\n",
    "        \"\"\"\n",
    "        Find patterns from the 'Descripción' column, to create a new column of multiWordSeq\n",
    "        patterns:\n",
    "         * adverb-adjective\n",
    "         * verb-noun\n",
    "         * verb-adjective-noun\n",
    "        \"\"\"\n",
    "        patterns = {\n",
    "            \"adv-adj\": (r'ADV',r'ADJ'),\n",
    "            \"verb-noun\":(r'V\\w+', r'^(N(P|C))'),\n",
    "            \"verb-adj-noun\":(r'V\\w+', r'ADJ',r'^(N(P|C))')\n",
    "        }\n",
    "        \n",
    "        # self.data['multiWordSeq']=np.nan\n",
    "        for j in range(len(self.data['Descripción'])):\n",
    "            l = self.data['Descripción'][j]\n",
    "            temp = [word[2] for word in l]\n",
    "\n",
    "            if len(l)>1:\n",
    "                for i in range(len(l)-1):\n",
    "                    if regex.match(patterns['adv-adj'][0],l[i][1]) and regex.match(patterns['adv-adj'][1],l[i+1][1]):\n",
    "                        temp.append(\" \".join((l[i][2],l[i+1][2])))\n",
    "\n",
    "                    if regex.match(patterns['verb-noun'][0],l[i][1]) and regex.match(patterns['verb-noun'][1],l[i+1][1]):\n",
    "                        temp.append(\" \".join((l[i][2],l[i+1][2])))\n",
    "\n",
    "\n",
    "            if len(l)>2:\n",
    "                for i in range(len(l)-2):\n",
    "                    if (regex.match(patterns['verb-adj-noun'][0],l[i][1]) and\n",
    "                        regex.match(patterns['verb-adj-noun'][1],l[i+1][1]) and \n",
    "                        regex.match(patterns['verb-adj-noun'][2],l[i+2][1])\n",
    "                    ):\n",
    "                        temp.append(\" \".join((l[i][2],l[i+1][2],l[i+2][2])))\n",
    "\n",
    "            self.data['Descripción'][j]=temp\n",
    "        \n",
    "    def process(self):\n",
    "        self.spellCheck()\n",
    "        self.lemmatization()\n",
    "        self.stopWordRemoval()\n",
    "        self.multiWordSequence()"
   ]
  },
  {
   "cell_type": "code",
   "execution_count": 5,
   "metadata": {},
   "outputs": [
    {
     "data": {
      "text/html": [
       "<div>\n",
       "<style scoped>\n",
       "    .dataframe tbody tr th:only-of-type {\n",
       "        vertical-align: middle;\n",
       "    }\n",
       "\n",
       "    .dataframe tbody tr th {\n",
       "        vertical-align: top;\n",
       "    }\n",
       "\n",
       "    .dataframe thead th {\n",
       "        text-align: right;\n",
       "    }\n",
       "</style>\n",
       "<table border=\"1\" class=\"dataframe\">\n",
       "  <thead>\n",
       "    <tr style=\"text-align: right;\">\n",
       "      <th></th>\n",
       "      <th>Palabra (concepto)</th>\n",
       "      <th>Codificación</th>\n",
       "      <th>Descripción</th>\n",
       "    </tr>\n",
       "  </thead>\n",
       "  <tbody>\n",
       "    <tr>\n",
       "      <th>0</th>\n",
       "      <td>Compasión</td>\n",
       "      <td>sentimiento</td>\n",
       "      <td>[sentimiento]</td>\n",
       "    </tr>\n",
       "    <tr>\n",
       "      <th>1</th>\n",
       "      <td>Compasión</td>\n",
       "      <td>perdón</td>\n",
       "      <td>[él|le, perdonar, vida, a, alguien, película, ...</td>\n",
       "    </tr>\n",
       "    <tr>\n",
       "      <th>2</th>\n",
       "      <td>plan</td>\n",
       "      <td>objetivos</td>\n",
       "      <td>[necesario, cumplir, objetivo, cumplir objetivo]</td>\n",
       "    </tr>\n",
       "    <tr>\n",
       "      <th>3</th>\n",
       "      <td>plan</td>\n",
       "      <td>organización</td>\n",
       "      <td>[organizar, recurso, o, persona, organizar rec...</td>\n",
       "    </tr>\n",
       "    <tr>\n",
       "      <th>4</th>\n",
       "      <td>plan</td>\n",
       "      <td>estrategia</td>\n",
       "      <td>[estrategia]</td>\n",
       "    </tr>\n",
       "    <tr>\n",
       "      <th>...</th>\n",
       "      <td>...</td>\n",
       "      <td>...</td>\n",
       "      <td>...</td>\n",
       "    </tr>\n",
       "    <tr>\n",
       "      <th>4933</th>\n",
       "      <td>Obligación</td>\n",
       "      <td>imposición</td>\n",
       "      <td>[imposición]</td>\n",
       "    </tr>\n",
       "    <tr>\n",
       "      <th>4934</th>\n",
       "      <td>Obligación</td>\n",
       "      <td>extricto</td>\n",
       "      <td>[carácter, extracto]</td>\n",
       "    </tr>\n",
       "    <tr>\n",
       "      <th>4935</th>\n",
       "      <td>Obligación</td>\n",
       "      <td>normas</td>\n",
       "      <td>[norma]</td>\n",
       "    </tr>\n",
       "    <tr>\n",
       "      <th>4936</th>\n",
       "      <td>Obligación</td>\n",
       "      <td>deber</td>\n",
       "      <td>[deber]</td>\n",
       "    </tr>\n",
       "    <tr>\n",
       "      <th>4937</th>\n",
       "      <td>Obligación</td>\n",
       "      <td>imposición</td>\n",
       "      <td>[acto, imponer, o, alguien]</td>\n",
       "    </tr>\n",
       "  </tbody>\n",
       "</table>\n",
       "<p>4938 rows × 3 columns</p>\n",
       "</div>"
      ],
      "text/plain": [
       "     Palabra (concepto)  Codificación  \\\n",
       "0            Compasión    sentimiento   \n",
       "1            Compasión         perdón   \n",
       "2                  plan     objetivos   \n",
       "3                  plan  organización   \n",
       "4                  plan    estrategia   \n",
       "...                 ...           ...   \n",
       "4933         Obligación    imposición   \n",
       "4934         Obligación      extricto   \n",
       "4935         Obligación        normas   \n",
       "4936         Obligación         deber   \n",
       "4937         Obligación    imposición   \n",
       "\n",
       "                                            Descripción  \n",
       "0                                         [sentimiento]  \n",
       "1     [él|le, perdonar, vida, a, alguien, película, ...  \n",
       "2      [necesario, cumplir, objetivo, cumplir objetivo]  \n",
       "3     [organizar, recurso, o, persona, organizar rec...  \n",
       "4                                          [estrategia]  \n",
       "...                                                 ...  \n",
       "4933                                       [imposición]  \n",
       "4934                               [carácter, extracto]  \n",
       "4935                                            [norma]  \n",
       "4936                                            [deber]  \n",
       "4937                        [acto, imponer, o, alguien]  \n",
       "\n",
       "[4938 rows x 3 columns]"
      ]
     },
     "execution_count": 5,
     "metadata": {},
     "output_type": "execute_result"
    }
   ],
   "source": [
    "P = BuchananProcessor(data_matrix)\n",
    "P.process()\n",
    "P.data"
   ]
  },
  {
   "cell_type": "code",
   "execution_count": 7,
   "metadata": {},
   "outputs": [],
   "source": [
    "buchanan_acc = np.zeros(5)\n",
    "j = 0\n",
    "kfold=KFold(n_splits=5)\n",
    "for train_index, test_index in kfold.split(data_matrix):\n",
    "    test = P.data.iloc[test_index,:]\n",
    "    len_test = len(test)\n",
    "    counter = 0\n",
    "    \n",
    "    for i in range(len_test):\n",
    "        if len(test.iloc[i,2])>0:\n",
    "            counter += test.iloc[i,1] == np.random.choice(test.iloc[i,2])\n",
    "    buchanan_acc[j]=(counter/len_test)\n",
    "    j+=1"
   ]
  },
  {
   "cell_type": "code",
   "execution_count": 8,
   "metadata": {},
   "outputs": [
    {
     "data": {
      "text/plain": [
       "0.3234145100886422"
      ]
     },
     "execution_count": 8,
     "metadata": {},
     "output_type": "execute_result"
    }
   ],
   "source": [
    "buchanan_acc.mean()"
   ]
  },
  {
   "cell_type": "code",
   "execution_count": 9,
   "metadata": {},
   "outputs": [
    {
     "data": {
      "text/plain": [
       "0.009905623637539305"
      ]
     },
     "execution_count": 9,
     "metadata": {},
     "output_type": "execute_result"
    }
   ],
   "source": [
    "buchanan_acc.std()"
   ]
  },
  {
   "cell_type": "code",
   "execution_count": 6,
   "metadata": {},
   "outputs": [],
   "source": [
    "buchanan_acc_top3 = np.zeros(5)\n",
    "j = 0\n",
    "kfold=KFold(n_splits=5)\n",
    "for train_index, test_index in kfold.split(data_matrix):\n",
    "    test = P.data.iloc[test_index,:]\n",
    "    len_test = len(test)\n",
    "    counter = 0\n",
    "    \n",
    "    for i in range(len_test):\n",
    "        if len(test.iloc[i,2])>0:\n",
    "            for _ in range(3):\n",
    "                val = test.iloc[i,1] == np.random.choice(test.iloc[i,2])\n",
    "                if val:\n",
    "                    counter += val\n",
    "                    break\n",
    "    buchanan_acc_top3[j]=(counter/len_test)\n",
    "    j+=1"
   ]
  },
  {
   "cell_type": "code",
   "execution_count": 7,
   "metadata": {},
   "outputs": [
    {
     "name": "stdout",
     "output_type": "stream",
     "text": [
      "0.4064467633896525\n",
      "0.015453529934383366\n"
     ]
    }
   ],
   "source": [
    "print(buchanan_acc_top3.mean())\n",
    "print(buchanan_acc_top3.std())"
   ]
  },
  {
   "cell_type": "code",
   "execution_count": 8,
   "metadata": {},
   "outputs": [
    {
     "name": "stdout",
     "output_type": "stream",
     "text": [
      "0.44269450221297924\n",
      "0.012490722666532762\n"
     ]
    }
   ],
   "source": [
    "buchanan_acc_top5 = np.zeros(5)\n",
    "j = 0\n",
    "kfold=KFold(n_splits=5)\n",
    "for train_index, test_index in kfold.split(data_matrix):\n",
    "    test = P.data.iloc[test_index,:]\n",
    "    len_test = len(test)\n",
    "    counter = 0\n",
    "    \n",
    "    for i in range(len_test):\n",
    "        if len(test.iloc[i,2])>0:\n",
    "            for _ in range(5):\n",
    "                val = test.iloc[i,1] == np.random.choice(test.iloc[i,2])\n",
    "                if val:\n",
    "                    counter += val\n",
    "                    break\n",
    "    buchanan_acc_top5[j]=(counter/len_test)\n",
    "    j+=1\n",
    "\n",
    "print(buchanan_acc_top5.mean())\n",
    "print(buchanan_acc_top5.std())"
   ]
  },
  {
   "cell_type": "code",
   "execution_count": 9,
   "metadata": {},
   "outputs": [
    {
     "name": "stdout",
     "output_type": "stream",
     "text": [
      "0.4722631045699354\n",
      "0.015738758801024773\n"
     ]
    }
   ],
   "source": [
    "buchanan_acc_top10 = np.zeros(5)\n",
    "j = 0\n",
    "kfold=KFold(n_splits=5)\n",
    "for train_index, test_index in kfold.split(data_matrix):\n",
    "    test = P.data.iloc[test_index,:]\n",
    "    len_test = len(test)\n",
    "    counter = 0\n",
    "    \n",
    "    for i in range(len_test):\n",
    "        if len(test.iloc[i,2])>0:\n",
    "            for _ in range(10):\n",
    "                val = test.iloc[i,1] == np.random.choice(test.iloc[i,2])\n",
    "                if val:\n",
    "                    counter += val\n",
    "                    break\n",
    "    buchanan_acc_top10[j]=(counter/len_test)\n",
    "    j+=1\n",
    "\n",
    "print(buchanan_acc_top10.mean())\n",
    "print(buchanan_acc_top10.std())"
   ]
  },
  {
   "cell_type": "code",
   "execution_count": 10,
   "metadata": {},
   "outputs": [
    {
     "name": "stdout",
     "output_type": "stream",
     "text": [
      "0.4825912982127988\n",
      "0.0164724344734776\n"
     ]
    }
   ],
   "source": [
    "buchanan_acc_top50 = np.zeros(5)\n",
    "j = 0\n",
    "kfold=KFold(n_splits=5)\n",
    "for train_index, test_index in kfold.split(data_matrix):\n",
    "    test = P.data.iloc[test_index,:]\n",
    "    len_test = len(test)\n",
    "    counter = 0\n",
    "    \n",
    "    for i in range(len_test):\n",
    "        if len(test.iloc[i,2])>0:\n",
    "            for _ in range(50):\n",
    "                val = test.iloc[i,1] == np.random.choice(test.iloc[i,2])\n",
    "                if val:\n",
    "                    counter += val\n",
    "                    break\n",
    "    buchanan_acc_top50[j]=(counter/len_test)\n",
    "    j+=1\n",
    "\n",
    "print(buchanan_acc_top50.mean())\n",
    "print(buchanan_acc_top50.std())"
   ]
  },
  {
   "cell_type": "code",
   "execution_count": 10,
   "metadata": {},
   "outputs": [],
   "source": [
    "n1 = np.zeros(5)\n",
    "j = 0\n",
    "kfold=KFold(n_splits=5)\n",
    "for train_index, test_index in kfold.split(data_matrix):\n",
    "    test = P.data.iloc[test_index,:]\n",
    "    len_test = len(test)\n",
    "    counter = 0\n",
    "    \n",
    "    for i in range(len_test):\n",
    "        if len(test.iloc[i,2])==1:\n",
    "            counter += test.iloc[i,1] == np.random.choice(test.iloc[i,2])\n",
    "    n1[j]=(counter/len_test)\n",
    "    j+=1"
   ]
  },
  {
   "cell_type": "code",
   "execution_count": 11,
   "metadata": {},
   "outputs": [
    {
     "data": {
      "text/plain": [
       "0.23916973284274518"
      ]
     },
     "execution_count": 11,
     "metadata": {},
     "output_type": "execute_result"
    }
   ],
   "source": [
    "n1.mean()"
   ]
  },
  {
   "cell_type": "code",
   "execution_count": 12,
   "metadata": {},
   "outputs": [
    {
     "data": {
      "text/plain": [
       "0.008255645611488232"
      ]
     },
     "execution_count": 12,
     "metadata": {},
     "output_type": "execute_result"
    }
   ],
   "source": [
    "n1.std()"
   ]
  },
  {
   "cell_type": "code",
   "execution_count": 13,
   "metadata": {},
   "outputs": [],
   "source": [
    "equal_acc = np.zeros(5)\n",
    "j = 0\n",
    "kfold=KFold(n_splits=5)\n",
    "for train_index, test_index in kfold.split(data_matrix):\n",
    "    original_test = data_matrix.iloc[test_index,:]\n",
    "    len_test = len(original_test)\n",
    "    counter = 0\n",
    "    \n",
    "    for i in range(len_test):\n",
    "        if len(original_test.iloc[i,2])>0:\n",
    "            counter += original_test.iloc[i,1] == original_test.iloc[i,2]\n",
    "    equal_acc[j]=(counter/len_test)\n",
    "    j+=1"
   ]
  },
  {
   "cell_type": "code",
   "execution_count": 14,
   "metadata": {},
   "outputs": [
    {
     "data": {
      "text/plain": [
       "0.14297302175241705"
      ]
     },
     "execution_count": 14,
     "metadata": {},
     "output_type": "execute_result"
    }
   ],
   "source": [
    "equal_acc.mean()"
   ]
  },
  {
   "cell_type": "code",
   "execution_count": 15,
   "metadata": {},
   "outputs": [
    {
     "data": {
      "text/plain": [
       "0.020108071814554155"
      ]
     },
     "execution_count": 15,
     "metadata": {},
     "output_type": "execute_result"
    }
   ],
   "source": [
    "equal_acc.std()"
   ]
  }
 ],
 "metadata": {
  "interpreter": {
   "hash": "e4424cb308cbc7572e714fe31b2d5d3b6aebf6ade78dbb6591278c904aab9d42"
  },
  "kernelspec": {
   "display_name": "Python 3.8.6 64-bit",
   "language": "python",
   "name": "python3"
  },
  "language_info": {
   "codemirror_mode": {
    "name": "ipython",
    "version": 3
   },
   "file_extension": ".py",
   "mimetype": "text/x-python",
   "name": "python",
   "nbconvert_exporter": "python",
   "pygments_lexer": "ipython3",
   "version": "3.8.6"
  },
  "orig_nbformat": 4
 },
 "nbformat": 4,
 "nbformat_minor": 2
}
