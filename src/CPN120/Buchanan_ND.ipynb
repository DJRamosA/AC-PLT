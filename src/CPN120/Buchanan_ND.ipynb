{
 "cells": [
  {
   "cell_type": "code",
   "execution_count": 1,
   "metadata": {},
   "outputs": [
    {
     "name": "stderr",
     "output_type": "stream",
     "text": [
      "c:\\Users\\DRamos\\AppData\\Local\\Programs\\Python\\Python38\\lib\\site-packages\\treetaggerwrapper.py:739: FutureWarning: Possible nested set at position 8\n",
      "  punct2find_re = re.compile(\"([^ ])([[\" + ALONEMARKS + \"])\",\n",
      "c:\\Users\\DRamos\\AppData\\Local\\Programs\\Python\\Python38\\lib\\site-packages\\treetaggerwrapper.py:2043: FutureWarning: Possible nested set at position 152\n",
      "  DnsHostMatch_re = re.compile(\"(\" + DnsHost_expression + \")\",\n",
      "c:\\Users\\DRamos\\AppData\\Local\\Programs\\Python\\Python38\\lib\\site-packages\\treetaggerwrapper.py:2067: FutureWarning: Possible nested set at position 409\n",
      "  UrlMatch_re = re.compile(UrlMatch_expression, re.VERBOSE | re.IGNORECASE)\n",
      "c:\\Users\\DRamos\\AppData\\Local\\Programs\\Python\\Python38\\lib\\site-packages\\treetaggerwrapper.py:2079: FutureWarning: Possible nested set at position 192\n",
      "  EmailMatch_re = re.compile(EmailMatch_expression, re.VERBOSE | re.IGNORECASE)\n"
     ]
    }
   ],
   "source": [
    "import pandas as pd\n",
    "import numpy as np\n",
    "import spacy\n",
    "import random\n",
    "# import es_core_news_sm\n",
    "from hunspell import Hunspell\n",
    "import treetaggerwrapper\n",
    "import regex\n",
    "from sklearn.model_selection import KFold\n",
    "\n",
    "\n",
    "random.seed(0)"
   ]
  },
  {
   "cell_type": "code",
   "execution_count": 2,
   "metadata": {},
   "outputs": [],
   "source": [
    "# data import\n",
    "data = pd.read_csv(r'../../data/nueva_data/propiedades_codigo.csv', delimiter=\"\\t\")\n"
   ]
  },
  {
   "cell_type": "code",
   "execution_count": 3,
   "metadata": {},
   "outputs": [],
   "source": [
    "data_matrix = pd.concat(\n",
    "    (data.iloc[:,0],    # Cue/Concept\n",
    "    data.iloc[:,2],     # Codification\n",
    "    data.iloc[:,1]      # Description of the cue\n",
    "    ),\n",
    "    axis = 1\n",
    ")"
   ]
  },
  {
   "cell_type": "code",
   "execution_count": 4,
   "metadata": {},
   "outputs": [
    {
     "data": {
      "text/html": [
       "<div>\n",
       "<style scoped>\n",
       "    .dataframe tbody tr th:only-of-type {\n",
       "        vertical-align: middle;\n",
       "    }\n",
       "\n",
       "    .dataframe tbody tr th {\n",
       "        vertical-align: top;\n",
       "    }\n",
       "\n",
       "    .dataframe thead th {\n",
       "        text-align: right;\n",
       "    }\n",
       "</style>\n",
       "<table border=\"1\" class=\"dataframe\">\n",
       "  <thead>\n",
       "    <tr style=\"text-align: right;\">\n",
       "      <th></th>\n",
       "      <th>Concepto</th>\n",
       "      <th>Codigo</th>\n",
       "      <th>Respuesta</th>\n",
       "    </tr>\n",
       "  </thead>\n",
       "  <tbody>\n",
       "    <tr>\n",
       "      <th>0</th>\n",
       "      <td>granito</td>\n",
       "      <td>terrestre</td>\n",
       "      <td>tierra</td>\n",
       "    </tr>\n",
       "    <tr>\n",
       "      <th>1</th>\n",
       "      <td>granito</td>\n",
       "      <td>texturas</td>\n",
       "      <td>rugoso</td>\n",
       "    </tr>\n",
       "    <tr>\n",
       "      <th>2</th>\n",
       "      <td>granito</td>\n",
       "      <td>material_construccion</td>\n",
       "      <td>construcción</td>\n",
       "    </tr>\n",
       "    <tr>\n",
       "      <th>3</th>\n",
       "      <td>granito</td>\n",
       "      <td>texturas</td>\n",
       "      <td>desagradable al tacto</td>\n",
       "    </tr>\n",
       "    <tr>\n",
       "      <th>4</th>\n",
       "      <td>granito</td>\n",
       "      <td>lastimar</td>\n",
       "      <td>raspa</td>\n",
       "    </tr>\n",
       "    <tr>\n",
       "      <th>...</th>\n",
       "      <td>...</td>\n",
       "      <td>...</td>\n",
       "      <td>...</td>\n",
       "    </tr>\n",
       "    <tr>\n",
       "      <th>31859</th>\n",
       "      <td>aptitud</td>\n",
       "      <td>inteligencia</td>\n",
       "      <td>inteligencia</td>\n",
       "    </tr>\n",
       "    <tr>\n",
       "      <th>31860</th>\n",
       "      <td>aptitud</td>\n",
       "      <td>necesario</td>\n",
       "      <td>condicion necesaria</td>\n",
       "    </tr>\n",
       "    <tr>\n",
       "      <th>31861</th>\n",
       "      <td>aptitud</td>\n",
       "      <td>personalidad</td>\n",
       "      <td>caracter</td>\n",
       "    </tr>\n",
       "    <tr>\n",
       "      <th>31862</th>\n",
       "      <td>aptitud</td>\n",
       "      <td>personalidad</td>\n",
       "      <td>personalidad</td>\n",
       "    </tr>\n",
       "    <tr>\n",
       "      <th>31863</th>\n",
       "      <td>aptitud</td>\n",
       "      <td>capacidad_cognitiva</td>\n",
       "      <td>modo de pensar</td>\n",
       "    </tr>\n",
       "  </tbody>\n",
       "</table>\n",
       "<p>31864 rows × 3 columns</p>\n",
       "</div>"
      ],
      "text/plain": [
       "      Concepto                 Codigo              Respuesta\n",
       "0      granito              terrestre                 tierra\n",
       "1      granito               texturas                 rugoso\n",
       "2      granito  material_construccion           construcción\n",
       "3      granito               texturas  desagradable al tacto\n",
       "4      granito               lastimar                  raspa\n",
       "...        ...                    ...                    ...\n",
       "31859  aptitud           inteligencia           inteligencia\n",
       "31860  aptitud              necesario    condicion necesaria\n",
       "31861  aptitud           personalidad               caracter\n",
       "31862  aptitud           personalidad           personalidad\n",
       "31863  aptitud    capacidad_cognitiva         modo de pensar\n",
       "\n",
       "[31864 rows x 3 columns]"
      ]
     },
     "execution_count": 4,
     "metadata": {},
     "output_type": "execute_result"
    }
   ],
   "source": [
    "data_matrix"
   ]
  },
  {
   "cell_type": "code",
   "execution_count": 7,
   "metadata": {},
   "outputs": [],
   "source": [
    "class BuchananProcessor:\n",
    "\n",
    "    def __init__(self, data):\n",
    "        self.data = data.copy(deep=True)\n",
    "        self.nlp = spacy.load('es_core_news_sm')\n",
    "        self.h = Hunspell('es_CL', hunspell_data_dir='../../dict')\n",
    "        self.tagger = treetaggerwrapper.TreeTagger(TAGLANG='es')\n",
    "\n",
    "    def _sentenceCheck(self, text):\n",
    "        \"\"\"\n",
    "        Recives a string and returns the same without special caracters and \n",
    "        the correct spelling of the string in spanish\n",
    "        \"\"\"\n",
    "        # Remove all special caracters \n",
    "        words = [t.orth_ for t in self.nlp(text) if not (t.is_punct or t.orth_==\" \")]\n",
    "        tokens = [t.lower() for t in words]\n",
    "\n",
    "        # Suggestion for each word bad spelled\n",
    "        c_spell = [self.h.suggest(t)[0] if (self.h.spell(t)==False and len(self.h.suggest(t))>0) else t for t in tokens]\n",
    "\n",
    "        # Re-join the words in one string\n",
    "        return \" \".join(c_spell)\n",
    "        \n",
    "    def _lemmatize(self,text):\n",
    "        \"\"\"\n",
    "        Recives a string and return a list with the word, pos tagging and the lemma,\n",
    "        for each word\n",
    "        \"\"\"\n",
    "        return [tag for tag in treetaggerwrapper.make_tags(self.tagger.tag_text(text), exclude_nottags=True)]\n",
    "\n",
    "    def spellCheck(self):\n",
    "        \"\"\"\n",
    "        Check the spelling for each description.\n",
    "        \"\"\"\n",
    "        for i in range(len(self.data.iloc[:,2])):\n",
    "            self.data.iloc[i,2] = self._sentenceCheck(self.data.iloc[i,2]) \n",
    "\n",
    "    def lemmatization(self):\n",
    "        \"\"\"\n",
    "        modify teh column Descripción to a list of tag for each word\n",
    "        \"\"\"\n",
    "        self.data['Respuesta'] = [self._lemmatize(self.data.iloc[i,2]) for i in range(len(self.data.iloc[:,2]))]\n",
    "\n",
    "    def stopWordRemoval(self):\n",
    "        \"\"\"\n",
    "        Removes al stop word from the column Descripción\n",
    "        \"\"\"\n",
    "        for i in range(len(self.data['Respuesta'])):\n",
    "            self.data['Respuesta'][i] = [word for word in self.data['Respuesta'][i] if self.nlp(word[2])[0].is_stop==False]\n",
    "    \n",
    "    def multiWordSequence(self):\n",
    "        \"\"\"\n",
    "        Find patterns from the 'Descripción' column, to create a new column of multiWordSeq\n",
    "        patterns:\n",
    "         * adverb-adjective\n",
    "         * verb-noun\n",
    "         * verb-adjective-noun\n",
    "        \"\"\"\n",
    "        patterns = {\n",
    "            \"adv-adj\": (r'ADV',r'ADJ'),\n",
    "            \"verb-noun\":(r'V\\w+', r'^(N(P|C))'),\n",
    "            \"verb-adj-noun\":(r'V\\w+', r'ADJ',r'^(N(P|C))')\n",
    "        }\n",
    "        \n",
    "        # self.data['multiWordSeq']=np.nan\n",
    "        for j in range(len(self.data['Respuesta'])):\n",
    "            l = self.data['Respuesta'][j]\n",
    "            temp = [word[2] for word in l]\n",
    "\n",
    "            if len(l)>1:\n",
    "                for i in range(len(l)-1):\n",
    "                    if regex.match(patterns['adv-adj'][0],l[i][1]) and regex.match(patterns['adv-adj'][1],l[i+1][1]):\n",
    "                        temp.append(\" \".join((l[i][2],l[i+1][2])))\n",
    "\n",
    "                    if regex.match(patterns['verb-noun'][0],l[i][1]) and regex.match(patterns['verb-noun'][1],l[i+1][1]):\n",
    "                        temp.append(\" \".join((l[i][2],l[i+1][2])))\n",
    "\n",
    "\n",
    "            if len(l)>2:\n",
    "                for i in range(len(l)-2):\n",
    "                    if (regex.match(patterns['verb-adj-noun'][0],l[i][1]) and\n",
    "                        regex.match(patterns['verb-adj-noun'][1],l[i+1][1]) and \n",
    "                        regex.match(patterns['verb-adj-noun'][2],l[i+2][1])\n",
    "                    ):\n",
    "                        temp.append(\" \".join((l[i][2],l[i+1][2],l[i+2][2])))\n",
    "\n",
    "            self.data['Respuesta'][j]=temp\n",
    "        \n",
    "    def process(self):\n",
    "        self.spellCheck()\n",
    "        self.lemmatization()\n",
    "        self.stopWordRemoval()\n",
    "        self.multiWordSequence()"
   ]
  },
  {
   "cell_type": "code",
   "execution_count": 8,
   "metadata": {},
   "outputs": [
    {
     "data": {
      "text/html": [
       "<div>\n",
       "<style scoped>\n",
       "    .dataframe tbody tr th:only-of-type {\n",
       "        vertical-align: middle;\n",
       "    }\n",
       "\n",
       "    .dataframe tbody tr th {\n",
       "        vertical-align: top;\n",
       "    }\n",
       "\n",
       "    .dataframe thead th {\n",
       "        text-align: right;\n",
       "    }\n",
       "</style>\n",
       "<table border=\"1\" class=\"dataframe\">\n",
       "  <thead>\n",
       "    <tr style=\"text-align: right;\">\n",
       "      <th></th>\n",
       "      <th>Concepto</th>\n",
       "      <th>Codigo</th>\n",
       "      <th>Respuesta</th>\n",
       "    </tr>\n",
       "  </thead>\n",
       "  <tbody>\n",
       "    <tr>\n",
       "      <th>0</th>\n",
       "      <td>granito</td>\n",
       "      <td>terrestre</td>\n",
       "      <td>[tierra]</td>\n",
       "    </tr>\n",
       "    <tr>\n",
       "      <th>1</th>\n",
       "      <td>granito</td>\n",
       "      <td>texturas</td>\n",
       "      <td>[rugoso]</td>\n",
       "    </tr>\n",
       "    <tr>\n",
       "      <th>2</th>\n",
       "      <td>granito</td>\n",
       "      <td>material_construccion</td>\n",
       "      <td>[construcción]</td>\n",
       "    </tr>\n",
       "    <tr>\n",
       "      <th>3</th>\n",
       "      <td>granito</td>\n",
       "      <td>texturas</td>\n",
       "      <td>[desagradable, tacto]</td>\n",
       "    </tr>\n",
       "    <tr>\n",
       "      <th>4</th>\n",
       "      <td>granito</td>\n",
       "      <td>lastimar</td>\n",
       "      <td>[raspa]</td>\n",
       "    </tr>\n",
       "    <tr>\n",
       "      <th>...</th>\n",
       "      <td>...</td>\n",
       "      <td>...</td>\n",
       "      <td>...</td>\n",
       "    </tr>\n",
       "    <tr>\n",
       "      <th>31859</th>\n",
       "      <td>aptitud</td>\n",
       "      <td>inteligencia</td>\n",
       "      <td>[inteligencia]</td>\n",
       "    </tr>\n",
       "    <tr>\n",
       "      <th>31860</th>\n",
       "      <td>aptitud</td>\n",
       "      <td>necesario</td>\n",
       "      <td>[condición, necesario]</td>\n",
       "    </tr>\n",
       "    <tr>\n",
       "      <th>31861</th>\n",
       "      <td>aptitud</td>\n",
       "      <td>personalidad</td>\n",
       "      <td>[carácter]</td>\n",
       "    </tr>\n",
       "    <tr>\n",
       "      <th>31862</th>\n",
       "      <td>aptitud</td>\n",
       "      <td>personalidad</td>\n",
       "      <td>[personalidad]</td>\n",
       "    </tr>\n",
       "    <tr>\n",
       "      <th>31863</th>\n",
       "      <td>aptitud</td>\n",
       "      <td>capacidad_cognitiva</td>\n",
       "      <td>[pensar]</td>\n",
       "    </tr>\n",
       "  </tbody>\n",
       "</table>\n",
       "<p>31864 rows × 3 columns</p>\n",
       "</div>"
      ],
      "text/plain": [
       "      Concepto                 Codigo               Respuesta\n",
       "0      granito              terrestre                [tierra]\n",
       "1      granito               texturas                [rugoso]\n",
       "2      granito  material_construccion          [construcción]\n",
       "3      granito               texturas   [desagradable, tacto]\n",
       "4      granito               lastimar                 [raspa]\n",
       "...        ...                    ...                     ...\n",
       "31859  aptitud           inteligencia          [inteligencia]\n",
       "31860  aptitud              necesario  [condición, necesario]\n",
       "31861  aptitud           personalidad              [carácter]\n",
       "31862  aptitud           personalidad          [personalidad]\n",
       "31863  aptitud    capacidad_cognitiva                [pensar]\n",
       "\n",
       "[31864 rows x 3 columns]"
      ]
     },
     "execution_count": 8,
     "metadata": {},
     "output_type": "execute_result"
    }
   ],
   "source": [
    "P = BuchananProcessor(data_matrix)\n",
    "P.process()\n",
    "P.data"
   ]
  },
  {
   "cell_type": "code",
   "execution_count": 9,
   "metadata": {},
   "outputs": [],
   "source": [
    "buchanan_acc = np.zeros(5)\n",
    "j = 0\n",
    "kfold=KFold(n_splits=5)\n",
    "for train_index, test_index in kfold.split(data_matrix):\n",
    "    test = P.data.iloc[test_index,:]\n",
    "    len_test = len(test)\n",
    "    counter = 0\n",
    "    \n",
    "    for i in range(len_test):\n",
    "        if len(test.iloc[i,2])>0:\n",
    "            counter += test.iloc[i,1] == np.random.choice(test.iloc[i,2])\n",
    "    buchanan_acc[j]=(counter/len_test)\n",
    "    j+=1"
   ]
  },
  {
   "cell_type": "code",
   "execution_count": 10,
   "metadata": {},
   "outputs": [
    {
     "name": "stdout",
     "output_type": "stream",
     "text": [
      "0.1611538851374812\n",
      "0.005434623644154913\n"
     ]
    }
   ],
   "source": [
    "print(buchanan_acc.mean())\n",
    "print(buchanan_acc.std())"
   ]
  },
  {
   "cell_type": "code",
   "execution_count": 11,
   "metadata": {},
   "outputs": [],
   "source": [
    "buchanan_acc_top3 = np.zeros(5)\n",
    "j = 0\n",
    "kfold=KFold(n_splits=5)\n",
    "for train_index, test_index in kfold.split(data_matrix):\n",
    "    test = P.data.iloc[test_index,:]\n",
    "    len_test = len(test)\n",
    "    counter = 0\n",
    "    \n",
    "    for i in range(len_test):\n",
    "        if len(test.iloc[i,2])>0:\n",
    "            for _ in range(3):\n",
    "                val = test.iloc[i,1] == np.random.choice(test.iloc[i,2])\n",
    "                if val:\n",
    "                    counter += val\n",
    "                    break\n",
    "    buchanan_acc_top3[j]=(counter/len_test)\n",
    "    j+=1"
   ]
  },
  {
   "cell_type": "code",
   "execution_count": 12,
   "metadata": {},
   "outputs": [
    {
     "name": "stdout",
     "output_type": "stream",
     "text": [
      "0.1695018039951778\n",
      "0.005360331345924188\n"
     ]
    }
   ],
   "source": [
    "print(buchanan_acc_top3.mean())\n",
    "print(buchanan_acc_top3.std())"
   ]
  },
  {
   "cell_type": "code",
   "execution_count": 13,
   "metadata": {},
   "outputs": [
    {
     "name": "stdout",
     "output_type": "stream",
     "text": [
      "0.17304815247233873\n",
      "0.0050296334506746265\n"
     ]
    }
   ],
   "source": [
    "buchanan_acc_top5 = np.zeros(5)\n",
    "j = 0\n",
    "kfold=KFold(n_splits=5)\n",
    "for train_index, test_index in kfold.split(data_matrix):\n",
    "    test = P.data.iloc[test_index,:]\n",
    "    len_test = len(test)\n",
    "    counter = 0\n",
    "    \n",
    "    for i in range(len_test):\n",
    "        if len(test.iloc[i,2])>0:\n",
    "            for _ in range(5):\n",
    "                val = test.iloc[i,1] == np.random.choice(test.iloc[i,2])\n",
    "                if val:\n",
    "                    counter += val\n",
    "                    break\n",
    "    buchanan_acc_top5[j]=(counter/len_test)\n",
    "    j+=1\n",
    "\n",
    "print(buchanan_acc_top5.mean())\n",
    "print(buchanan_acc_top5.std())"
   ]
  },
  {
   "cell_type": "code",
   "execution_count": 14,
   "metadata": {},
   "outputs": [
    {
     "name": "stdout",
     "output_type": "stream",
     "text": [
      "0.17543330310339966\n",
      "0.005190773294644802\n"
     ]
    }
   ],
   "source": [
    "buchanan_acc_top10 = np.zeros(5)\n",
    "j = 0\n",
    "kfold=KFold(n_splits=5)\n",
    "for train_index, test_index in kfold.split(data_matrix):\n",
    "    test = P.data.iloc[test_index,:]\n",
    "    len_test = len(test)\n",
    "    counter = 0\n",
    "    \n",
    "    for i in range(len_test):\n",
    "        if len(test.iloc[i,2])>0:\n",
    "            for _ in range(10):\n",
    "                val = test.iloc[i,1] == np.random.choice(test.iloc[i,2])\n",
    "                if val:\n",
    "                    counter += val\n",
    "                    break\n",
    "    buchanan_acc_top10[j]=(counter/len_test)\n",
    "    j+=1\n",
    "\n",
    "print(buchanan_acc_top10.mean())\n",
    "print(buchanan_acc_top10.std())"
   ]
  },
  {
   "cell_type": "code",
   "execution_count": 15,
   "metadata": {},
   "outputs": [
    {
     "name": "stdout",
     "output_type": "stream",
     "text": [
      "0.1760609756181647\n",
      "0.005045704353592308\n"
     ]
    }
   ],
   "source": [
    "buchanan_acc_top50 = np.zeros(5)\n",
    "j = 0\n",
    "kfold=KFold(n_splits=5)\n",
    "for train_index, test_index in kfold.split(data_matrix):\n",
    "    test = P.data.iloc[test_index,:]\n",
    "    len_test = len(test)\n",
    "    counter = 0\n",
    "    \n",
    "    for i in range(len_test):\n",
    "        if len(test.iloc[i,2])>0:\n",
    "            for _ in range(50):\n",
    "                val = test.iloc[i,1] == np.random.choice(test.iloc[i,2])\n",
    "                if val:\n",
    "                    counter += val\n",
    "                    break\n",
    "    buchanan_acc_top50[j]=(counter/len_test)\n",
    "    j+=1\n",
    "\n",
    "print(buchanan_acc_top50.mean())\n",
    "print(buchanan_acc_top50.std())"
   ]
  },
  {
   "cell_type": "code",
   "execution_count": 16,
   "metadata": {},
   "outputs": [],
   "source": [
    "n1 = np.zeros(5)\n",
    "j = 0\n",
    "kfold=KFold(n_splits=5)\n",
    "for train_index, test_index in kfold.split(data_matrix):\n",
    "    test = P.data.iloc[test_index,:]\n",
    "    len_test = len(test)\n",
    "    counter = 0\n",
    "    \n",
    "    for i in range(len_test):\n",
    "        if len(test.iloc[i,2])==1:\n",
    "            counter += test.iloc[i,1] == np.random.choice(test.iloc[i,2])\n",
    "    n1[j]=(counter/len_test)\n",
    "    j+=1"
   ]
  },
  {
   "cell_type": "code",
   "execution_count": 17,
   "metadata": {},
   "outputs": [
    {
     "data": {
      "text/plain": [
       "0.15020108963692463"
      ]
     },
     "execution_count": 17,
     "metadata": {},
     "output_type": "execute_result"
    }
   ],
   "source": [
    "n1.mean()"
   ]
  },
  {
   "cell_type": "code",
   "execution_count": 18,
   "metadata": {},
   "outputs": [
    {
     "data": {
      "text/plain": [
       "0.0061520292154100395"
      ]
     },
     "execution_count": 18,
     "metadata": {},
     "output_type": "execute_result"
    }
   ],
   "source": [
    "n1.std()"
   ]
  },
  {
   "cell_type": "code",
   "execution_count": 19,
   "metadata": {},
   "outputs": [],
   "source": [
    "equal_acc = np.zeros(5)\n",
    "j = 0\n",
    "kfold=KFold(n_splits=5)\n",
    "for train_index, test_index in kfold.split(data_matrix):\n",
    "    original_test = data_matrix.iloc[test_index,:]\n",
    "    len_test = len(original_test)\n",
    "    counter = 0\n",
    "    \n",
    "    for i in range(len_test):\n",
    "        if len(original_test.iloc[i,2])>0:\n",
    "            counter += original_test.iloc[i,1] == original_test.iloc[i,2]\n",
    "    equal_acc[j]=(counter/len_test)\n",
    "    j+=1"
   ]
  },
  {
   "cell_type": "code",
   "execution_count": 20,
   "metadata": {},
   "outputs": [
    {
     "data": {
      "text/plain": [
       "0.12518766149842167"
      ]
     },
     "execution_count": 20,
     "metadata": {},
     "output_type": "execute_result"
    }
   ],
   "source": [
    "equal_acc.mean()"
   ]
  },
  {
   "cell_type": "code",
   "execution_count": 21,
   "metadata": {},
   "outputs": [
    {
     "data": {
      "text/plain": [
       "0.013137870161923722"
      ]
     },
     "execution_count": 21,
     "metadata": {},
     "output_type": "execute_result"
    }
   ],
   "source": [
    "equal_acc.std()"
   ]
  }
 ],
 "metadata": {
  "interpreter": {
   "hash": "e4424cb308cbc7572e714fe31b2d5d3b6aebf6ade78dbb6591278c904aab9d42"
  },
  "kernelspec": {
   "display_name": "Python 3.8.6 64-bit",
   "language": "python",
   "name": "python3"
  },
  "language_info": {
   "codemirror_mode": {
    "name": "ipython",
    "version": 3
   },
   "file_extension": ".py",
   "mimetype": "text/x-python",
   "name": "python",
   "nbconvert_exporter": "python",
   "pygments_lexer": "ipython3",
   "version": "3.8.6"
  },
  "orig_nbformat": 4
 },
 "nbformat": 4,
 "nbformat_minor": 2
}
