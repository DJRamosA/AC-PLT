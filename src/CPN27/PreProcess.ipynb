{
 "cells": [
  {
   "cell_type": "code",
   "execution_count": 2,
   "metadata": {},
   "outputs": [],
   "source": [
    "import pandas as pd\n",
    "import numpy as np\n",
    "import matplotlib.pyplot as plt\n",
    "import spacy"
   ]
  },
  {
   "cell_type": "code",
   "execution_count": 2,
   "metadata": {},
   "outputs": [],
   "source": [
    "def clean_text(text):\n",
    "    \"\"\"\n",
    "    Recive a string and return the string in tokens without punctuations\n",
    "    and in lowercase\n",
    "    \"\"\"\n",
    "    # for each token in the sentence add to the list if is not a punctuation\n",
    "    return [t for t in nlp(text.lower()) if not t.is_punct]\n",
    "\n",
    "\n",
    "def normalize(tokens):\n",
    "    \"\"\"\n",
    "    Recive al list of string and return in one string without stop words\n",
    "    \"\"\"\n",
    "    # for each token if is not a stop word add the word to the list\n",
    "    words = [t.orth_ for t in tokens if not t.is_stop]\n",
    "\n",
    "    # return the tokens in one string\n",
    "    return(\" \".join(words))\n",
    "\n",
    "\n",
    "def lematize(tokens):\n",
    "    \"\"\"\n",
    "    Recive al list of string and return in one string without stop words \n",
    "    and Lematized\n",
    "    \"\"\"\n",
    "    # for each token if is not a stop word add the lemma of the word in the list\n",
    "    lemmas = [t.lemma_ for t in tokens if not t.is_stop]\n",
    "\n",
    "    # return the tokens in one string\n",
    "    return(\" \".join(lemmas))\n",
    "\n",
    "def to_vector(texto,model):\n",
    "    \"\"\" \n",
    "    Receives a sentence string along with a word embedding model and \n",
    "    returns the vector representation of the sentence\n",
    "    \"\"\"\n",
    "    tokens = texto.split() # splits the text by space and returns a list of words\n",
    "    vec = np.zeros(300) # creates an empty vector of 300 dimensions\n",
    "    for word in tokens: # iterates over the sentence\n",
    "        if word in model: # checks if the word is both in the word embedding\n",
    "            vec += model[word] # adds every word embedding to the vector\n",
    "    return vec / np.linalg.norm(vec) # divides the vector by their normal"
   ]
  },
  {
   "cell_type": "code",
   "execution_count": 3,
   "metadata": {},
   "outputs": [],
   "source": [
    "data = pd.read_excel(r'../data/Datos Codificados Estudio v2a.xlsx')\n",
    "nlp = spacy.load('es_core_news_sm')"
   ]
  },
  {
   "cell_type": "code",
   "execution_count": 14,
   "metadata": {},
   "outputs": [
    {
     "data": {
      "text/html": [
       "<div>\n",
       "<style scoped>\n",
       "    .dataframe tbody tr th:only-of-type {\n",
       "        vertical-align: middle;\n",
       "    }\n",
       "\n",
       "    .dataframe tbody tr th {\n",
       "        vertical-align: top;\n",
       "    }\n",
       "\n",
       "    .dataframe thead th {\n",
       "        text-align: right;\n",
       "    }\n",
       "</style>\n",
       "<table border=\"1\" class=\"dataframe\">\n",
       "  <thead>\n",
       "    <tr style=\"text-align: right;\">\n",
       "      <th></th>\n",
       "      <th>Correlativo</th>\n",
       "      <th>Sujeto Número</th>\n",
       "      <th>Palabra (concepto)</th>\n",
       "      <th>Descripción</th>\n",
       "      <th>Orden de Aparición de la Descripción</th>\n",
       "      <th>IMPL o EXPL</th>\n",
       "      <th>Codificación</th>\n",
       "      <th>Orden de Aparición de la Codificación</th>\n",
       "      <th>Frecuencia de codifiación por concepto</th>\n",
       "      <th>Criterio asig. Tipo (1 ó 2)</th>\n",
       "    </tr>\n",
       "  </thead>\n",
       "  <tbody>\n",
       "    <tr>\n",
       "      <th>0</th>\n",
       "      <td>1.0</td>\n",
       "      <td>1</td>\n",
       "      <td>compasión</td>\n",
       "      <td>sentimiento</td>\n",
       "      <td>1</td>\n",
       "      <td>NaN</td>\n",
       "      <td>sentimiento</td>\n",
       "      <td>1.0</td>\n",
       "      <td>8.0</td>\n",
       "      <td>1</td>\n",
       "    </tr>\n",
       "    <tr>\n",
       "      <th>1</th>\n",
       "      <td>2.0</td>\n",
       "      <td>1</td>\n",
       "      <td>compasión</td>\n",
       "      <td>por lo que se le perdona la vida a alguien en ...</td>\n",
       "      <td>2</td>\n",
       "      <td>NaN</td>\n",
       "      <td>perdón</td>\n",
       "      <td>2.0</td>\n",
       "      <td>8.0</td>\n",
       "      <td>1</td>\n",
       "    </tr>\n",
       "    <tr>\n",
       "      <th>2</th>\n",
       "      <td>3.0</td>\n",
       "      <td>1</td>\n",
       "      <td>plan</td>\n",
       "      <td>necesario para cumplir objetivos</td>\n",
       "      <td>1</td>\n",
       "      <td>NaN</td>\n",
       "      <td>objetivos</td>\n",
       "      <td>1.0</td>\n",
       "      <td>6.0</td>\n",
       "      <td>1</td>\n",
       "    </tr>\n",
       "    <tr>\n",
       "      <th>3</th>\n",
       "      <td>4.0</td>\n",
       "      <td>1</td>\n",
       "      <td>plan</td>\n",
       "      <td>organizar recursos o personas</td>\n",
       "      <td>2</td>\n",
       "      <td>NaN</td>\n",
       "      <td>organización</td>\n",
       "      <td>2.0</td>\n",
       "      <td>22.0</td>\n",
       "      <td>1</td>\n",
       "    </tr>\n",
       "    <tr>\n",
       "      <th>4</th>\n",
       "      <td>5.0</td>\n",
       "      <td>1</td>\n",
       "      <td>plan</td>\n",
       "      <td>estrategia</td>\n",
       "      <td>3</td>\n",
       "      <td>NaN</td>\n",
       "      <td>estrategia</td>\n",
       "      <td>3.0</td>\n",
       "      <td>12.0</td>\n",
       "      <td>1</td>\n",
       "    </tr>\n",
       "  </tbody>\n",
       "</table>\n",
       "</div>"
      ],
      "text/plain": [
       "   Correlativo  Sujeto Número Palabra (concepto)  \\\n",
       "0          1.0              1          compasión   \n",
       "1          2.0              1          compasión   \n",
       "2          3.0              1               plan   \n",
       "3          4.0              1               plan   \n",
       "4          5.0              1               plan   \n",
       "\n",
       "                                         Descripción  \\\n",
       "0                                        sentimiento   \n",
       "1  por lo que se le perdona la vida a alguien en ...   \n",
       "2                   necesario para cumplir objetivos   \n",
       "3                      organizar recursos o personas   \n",
       "4                                         estrategia   \n",
       "\n",
       "   Orden de Aparición de la Descripción  IMPL o EXPL  Codificación  \\\n",
       "0                                     1          NaN   sentimiento   \n",
       "1                                     2          NaN        perdón   \n",
       "2                                     1          NaN     objetivos   \n",
       "3                                     2          NaN  organización   \n",
       "4                                     3          NaN    estrategia   \n",
       "\n",
       "   Orden de Aparición de la Codificación  \\\n",
       "0                                    1.0   \n",
       "1                                    2.0   \n",
       "2                                    1.0   \n",
       "3                                    2.0   \n",
       "4                                    3.0   \n",
       "\n",
       "   Frecuencia de codifiación por concepto  Criterio asig. Tipo (1 ó 2)  \n",
       "0                                     8.0                            1  \n",
       "1                                     8.0                            1  \n",
       "2                                     6.0                            1  \n",
       "3                                    22.0                            1  \n",
       "4                                    12.0                            1  "
      ]
     },
     "execution_count": 14,
     "metadata": {},
     "output_type": "execute_result"
    }
   ],
   "source": [
    "data.head()"
   ]
  },
  {
   "cell_type": "code",
   "execution_count": 4,
   "metadata": {},
   "outputs": [
    {
     "name": "stderr",
     "output_type": "stream",
     "text": [
      "C:\\Users\\dra98\\AppData\\Local\\Temp\\ipykernel_22648\\721340881.py:2: SettingWithCopyWarning: \n",
      "A value is trying to be set on a copy of a slice from a DataFrame\n",
      "\n",
      "See the caveats in the documentation: https://pandas.pydata.org/pandas-docs/stable/user_guide/indexing.html#returning-a-view-versus-a-copy\n",
      "  data['Palabra (concepto)'][i] = normalize(clean_text(data['Palabra (concepto)'][i]))\n"
     ]
    }
   ],
   "source": [
    "for i in range(len(data)):\n",
    "    data['Palabra (concepto)'][i] = normalize(clean_text(data['Palabra (concepto)'][i]))"
   ]
  },
  {
   "cell_type": "code",
   "execution_count": 5,
   "metadata": {},
   "outputs": [
    {
     "data": {
      "text/plain": [
       "<BarContainer object of 26 artists>"
      ]
     },
     "execution_count": 5,
     "metadata": {},
     "output_type": "execute_result"
    },
    {
     "data": {
      "image/png": "[encoded data removed]",
      "text/plain": [
       "<Figure size 432x288 with 1 Axes>"
      ]
     },
     "metadata": {
      "needs_background": "light"
     },
     "output_type": "display_data"
    }
   ],
   "source": [
    "concept = data['Palabra (concepto)'].value_counts()\n",
    "# reduce_concept = concept[concept>25]\n",
    "\n",
    "names = list(concept.keys())\n",
    "values = list(concept)\n",
    "\n",
    "plt.barh(names, values)"
   ]
  },
  {
   "cell_type": "code",
   "execution_count": 6,
   "metadata": {},
   "outputs": [
    {
     "name": "stdout",
     "output_type": "stream",
     "text": [
      "Cantidad de conceptos existente 26\n"
     ]
    }
   ],
   "source": [
    "print(\"Cantidad de conceptos existente\", concept.shape[0])"
   ]
  },
  {
   "cell_type": "code",
   "execution_count": 7,
   "metadata": {},
   "outputs": [
    {
     "data": {
      "text/plain": [
       "<BarContainer object of 28 artists>"
      ]
     },
     "execution_count": 7,
     "metadata": {},
     "output_type": "execute_result"
    },
    {
     "data": {
      "image/png": "[encoded data removed]",
      "text/plain": [
       "<Figure size 432x288 with 1 Axes>"
      ]
     },
     "metadata": {
      "needs_background": "light"
     },
     "output_type": "display_data"
    }
   ],
   "source": [
    "cod = data['Codificación'].value_counts()\n",
    "reduce_cod = cod[cod>25]\n",
    "\n",
    "names = list(reduce_cod.keys())\n",
    "values = list(reduce_cod)\n",
    "\n",
    "plt.barh(names, values)"
   ]
  },
  {
   "cell_type": "code",
   "execution_count": 8,
   "metadata": {},
   "outputs": [
    {
     "name": "stdout",
     "output_type": "stream",
     "text": [
      "Cantidad de codificaciones existente 1296\n"
     ]
    }
   ],
   "source": [
    "print(\"Cantidad de codificaciones existente\", cod.shape[0])"
   ]
  },
  {
   "cell_type": "code",
   "execution_count": 9,
   "metadata": {},
   "outputs": [
    {
     "name": "stdout",
     "output_type": "stream",
     "text": [
      "Cantidad de datos que solo tienen una codificación: 670\n",
      "Porcentaje de datos que solo tienen una codificación: 0.5169753086419753\n"
     ]
    }
   ],
   "source": [
    "print(\"Cantidad de datos que solo tienen una codificación:\",np.sum(cod == 1))\n",
    "print(\"Porcentaje de datos que solo tienen una codificación:\",np.sum(cod == 1)/cod.shape[0])"
   ]
  },
  {
   "cell_type": "code",
   "execution_count": 10,
   "metadata": {},
   "outputs": [
    {
     "data": {
      "text/plain": [
       "626"
      ]
     },
     "execution_count": 10,
     "metadata": {},
     "output_type": "execute_result"
    }
   ],
   "source": [
    "cod.shape[0] - np.sum(cod == 1)"
   ]
  },
  {
   "cell_type": "markdown",
   "metadata": {},
   "source": [
    "¿Afecta esto en los resultados que se pueden obtener?\n",
    "¿Podria intentar identificarlos?\n"
   ]
  },
  {
   "cell_type": "code",
   "execution_count": 10,
   "metadata": {},
   "outputs": [],
   "source": [
    "descriptions = data['Descripción'].copy()\n",
    "\n",
    "number_words = np.zeros(len(descriptions))\n",
    "\n",
    "i=0\n",
    "for d in descriptions:\n",
    "    number_words[i]= len(nlp(d))\n",
    "    i+=1"
   ]
  },
  {
   "cell_type": "code",
   "execution_count": 11,
   "metadata": {},
   "outputs": [],
   "source": [
    "uniques_words = []\n",
    "\n",
    "for d in descriptions:\n",
    "    doc = nlp(d)\n",
    "    for w in doc:\n",
    "        if w.orth_ not in uniques_words:\n",
    "            uniques_words.append(w.orth_)"
   ]
  },
  {
   "cell_type": "code",
   "execution_count": 12,
   "metadata": {},
   "outputs": [
    {
     "name": "stdout",
     "output_type": "stream",
     "text": [
      "min: 1.0\n",
      "max: 21.0\n",
      "mean: 4.12636695018226\n",
      "std: 3.1340106067803215\n",
      "\n",
      "\n",
      "Total de palabras 20376.0\n",
      "De las cuales se tienen 4126 palabras únicas\n"
     ]
    }
   ],
   "source": [
    "print(\"min:\", number_words.min())\n",
    "print(\"max:\", number_words.max())\n",
    "print(\"mean:\", number_words.mean())\n",
    "print(\"std:\", number_words.std())\n",
    "print(\"\\n\\nTotal de palabras\", number_words.sum())\n",
    "print(\"De las cuales se tienen\", len(uniques_words), \"palabras únicas\")"
   ]
  },
  {
   "cell_type": "code",
   "execution_count": 13,
   "metadata": {},
   "outputs": [
    {
     "data": {
      "image/png": "[encoded data removed]",
      "text/plain": [
       "<Figure size 432x288 with 1 Axes>"
      ]
     },
     "metadata": {
      "needs_background": "light"
     },
     "output_type": "display_data"
    }
   ],
   "source": [
    "plt.hist(number_words, bins=20)\n",
    "plt.gca().set(title='Word Frequency Histogram', ylabel='Word Frequency');"
   ]
  },
  {
   "cell_type": "markdown",
   "metadata": {},
   "source": [
    "# Matriz Visualization"
   ]
  },
  {
   "cell_type": "code",
   "execution_count": 14,
   "metadata": {},
   "outputs": [],
   "source": [
    "import gensim\n",
    "\n",
    "model = gensim.models.KeyedVectors.load_word2vec_format( \n",
    "    r'../Data/SBW-vectors-300-min5.bin.gz', # using the spanish billion words embeddings\n",
    "    binary=True # the model is in binary format\n",
    ")"
   ]
  },
  {
   "cell_type": "code",
   "execution_count": 15,
   "metadata": {},
   "outputs": [],
   "source": [
    "pd.options.mode.chained_assignment = None # Para evitar que se muestre warnings\n",
    "\n",
    "# Normalizacion de los conceptos, descripciones y codificaciones\n",
    "for i in range(len(data)):\n",
    "    data['Descripción'][i] = normalize(clean_text(data['Descripción'][i]))"
   ]
  },
  {
   "cell_type": "code",
   "execution_count": 16,
   "metadata": {},
   "outputs": [
    {
     "name": "stderr",
     "output_type": "stream",
     "text": [
      "C:\\Users\\dra98\\AppData\\Local\\Temp\\ipykernel_11112\\1916605552.py:42: RuntimeWarning: invalid value encountered in true_divide\n",
      "  return vec / np.linalg.norm(vec) # divides the vector by their normal\n"
     ]
    }
   ],
   "source": [
    "# Creation of the matrix to make the clustering process\n",
    "descriptions_matrix = np.zeros( # creatign an empty matrix\n",
    "    (\n",
    "        len(data), # the number of data points\n",
    "        len(model['hola']) # the number of components of the word embedding\n",
    "    )\n",
    ")\n",
    "\n",
    "# matrix filling \n",
    "for i,description in enumerate(data['Descripción']):\n",
    "    vector = to_vector(description,model)\n",
    "    descriptions_matrix[i,] = vector\n",
    "\n",
    "# Concatenate the matrix with the data of each observation\n",
    "data_matrix = np.concatenate([descriptions_matrix,data], axis=1)\n",
    "\n",
    "#--------------------------------------------------------------------------------------\n",
    "# This is the important matrix\n",
    "# Remove of the 'Nan' data\n",
    "data_matrix_without_nan = data_matrix[~pd.isnull(data_matrix[:,:300]).any(axis=1)]\n",
    "#--------------------------------------------------------------------------------------\n",
    "\n",
    "# reduce the matrix to the importan\n",
    "data_matrix_without_nan = np.concatenate(\n",
    "    (data_matrix_without_nan[:,:300],                       # Vector of the description\n",
    "    np.reshape(data_matrix_without_nan[:,302], (-1, 1)),    # Cue/Concept\n",
    "    np.reshape(data_matrix_without_nan[:,306], (-1, 1)),    # Codification\n",
    "    np.reshape(data_matrix_without_nan[:,303], (-1, 1))     # Description of the cue\n",
    "    ),\n",
    "    axis = 1\n",
    ")"
   ]
  },
  {
   "cell_type": "code",
   "execution_count": 17,
   "metadata": {},
   "outputs": [
    {
     "data": {
      "image/png": "[encoded data removed]",
      "text/plain": [
       "<Figure size 640x480 with 1 Axes>"
      ]
     },
     "metadata": {},
     "output_type": "display_data"
    },
    {
     "data": {
      "text/plain": [
       "<ggplot: (128663491106)>"
      ]
     },
     "execution_count": 17,
     "metadata": {},
     "output_type": "execute_result"
    }
   ],
   "source": [
    "# TODO: PCA analysis 2 components y label=\"codificación\"\n",
    "\n",
    "from plotnine import *\n",
    "from sklearn.decomposition import PCA\n",
    "from sklearn.preprocessing import StandardScaler\n",
    "\n",
    "# Primero escalamos los datos\n",
    "\n",
    "# Aplicacion del PCA\n",
    "pca = PCA(n_components=2)\n",
    "temp = pca.fit_transform(data_matrix_without_nan[:,:300])\n",
    "# temp = pca.fit_transform(jugadores.iloc[:,4:])\n",
    "temp = pd.DataFrame(temp,columns=[\"PC1\",\"PC2\"])\n",
    "temp[\"cod\"] = data_matrix_without_nan[:,301]\n",
    "\n",
    "temp=temp[temp[\"cod\"].isin(reduce_cod.keys())]\n",
    "\n",
    "ggplot(temp)+aes(x=\"PC1\",y=\"PC2\",color=\"cod\")+geom_point(show_legend=True)+theme_bw()"
   ]
  },
  {
   "cell_type": "code",
   "execution_count": 10,
   "metadata": {},
   "outputs": [],
   "source": [
    "from scipy import stats\n",
    "import numpy as np\n",
    "\n",
    "n=5\n",
    "\n",
    "CPN27_ACPLT_mean = [0.375, 0.443, 0.471, 0.509, 0.573]\n",
    "CPN27_ACPLT_std = [0.008, 0.015, 0.016, 0.018, 0.019]\n",
    "\n",
    "\n",
    "CPN27_Buchanan_mean = [0.3234145100886422, 0.4064467633896525, 0.44269450221297924, 0.4722631045699354, 0.4825912982127988]\n",
    "CPN27_Buchanan_std = [0.009905623637539305, 0.015453529934383366, 0.012490722666532762, 0.015738758801024773, 0.0164724344734776]\n",
    "\n",
    "\n",
    "t_stat = np.zeros(5)\n",
    "p_val = np.zeros(5)\n",
    "\n",
    "for i in range(5):\n",
    "    t_stat[i] = (CPN27_ACPLT_mean[i]-CPN27_Buchanan_mean[i])/(np.sqrt(CPN27_ACPLT_std[i]**2/n + CPN27_Buchanan_std[i]**2/n))\n",
    "    p_val[i] = stats.t.sf(np.abs(t_stat[i]),n)*2"
   ]
  },
  {
   "cell_type": "code",
   "execution_count": 11,
   "metadata": {},
   "outputs": [
    {
     "data": {
      "text/plain": [
       "array([9.05925358, 3.79524697, 3.11815445, 3.43558042, 8.03932398])"
      ]
     },
     "execution_count": 11,
     "metadata": {},
     "output_type": "execute_result"
    }
   ],
   "source": [
    "t_stat"
   ]
  },
  {
   "cell_type": "code",
   "execution_count": 12,
   "metadata": {},
   "outputs": [
    {
     "data": {
      "text/plain": [
       "array([0.000274  , 0.01269005, 0.02630705, 0.01852354, 0.0004817 ])"
      ]
     },
     "execution_count": 12,
     "metadata": {},
     "output_type": "execute_result"
    }
   ],
   "source": [
    "p_val"
   ]
  },
  {
   "cell_type": "code",
   "execution_count": 4,
   "metadata": {},
   "outputs": [
    {
     "name": "stdout",
     "output_type": "stream",
     "text": [
      "estadistico t: [0.39460023 1.60996894 3.04909611 5.1131988  6.82073837]\n",
      "p-value: [0.70940771 0.16831948 0.02845365 0.00372843 0.00103274]\n"
     ]
    }
   ],
   "source": [
    "from scipy import stats\n",
    "import numpy as np\n",
    "\n",
    "n=5\n",
    "\n",
    "CPN27_ACPLT_mean = [0.375, 0.443, 0.471, 0.509, 0.573]\n",
    "CPN27_ACPLT_std = [0.008, 0.015, 0.016, 0.018, 0.019]\n",
    "\n",
    "# 0.372 ± 0.015 & 0.425 ± 0.020 & 0.435 ± 0.021 & 0.444 ± 0.022 & 0.482 ± 0.023\n",
    "\n",
    "CPN27_LSA300_mean = [0.372, 0.425, 0.435, 0.444, 0.482]\n",
    "CPN27_LSA300_std = [0.015, 0.020, 0.021, 0.022, 0.023]\n",
    "\n",
    "\n",
    "t_stat = np.zeros(5)\n",
    "p_val = np.zeros(5)\n",
    "\n",
    "for i in range(5):\n",
    "    t_stat[i] = (CPN27_ACPLT_mean[i]-CPN27_LSA300_mean[i])/(np.sqrt(CPN27_ACPLT_std[i]**2/n + CPN27_LSA300_std[i]**2/n))\n",
    "    p_val[i] = stats.t.sf(np.abs(t_stat[i]),n)*2\n",
    "\n",
    "print(\"estadistico t:\", t_stat)\n",
    "print(\"p-value:\", p_val)"
   ]
  }
 ],
 "metadata": {
  "interpreter": {
   "hash": "f86d5b59def65e88dbeda6389e0ae43ef80c1809fa447fa67ec7c4f0e393c674"
  },
  "kernelspec": {
   "display_name": "Python 3.8.6 64-bit",
   "language": "python",
   "name": "python3"
  },
  "language_info": {
   "codemirror_mode": {
    "name": "ipython",
    "version": 3
   },
   "file_extension": ".py",
   "mimetype": "text/x-python",
   "name": "python",
   "nbconvert_exporter": "python",
   "pygments_lexer": "ipython3",
   "version": "3.8.6 (tags/v3.8.6:db45529, Sep 23 2020, 15:52:53) [MSC v.1927 64 bit (AMD64)]"
  },
  "orig_nbformat": 4
 },
 "nbformat": 4,
 "nbformat_minor": 2
}
