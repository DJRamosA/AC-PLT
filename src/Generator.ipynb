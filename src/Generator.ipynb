{
 "cells": [
  {
   "cell_type": "markdown",
   "metadata": {},
   "source": [
    "# CPN generator"
   ]
  },
  {
   "cell_type": "code",
   "execution_count": 1,
   "metadata": {},
   "outputs": [],
   "source": [
    "import pandas as pd\n",
    "import numpy as np\n",
    "import spacy\n",
    "import gensim\n",
    "from collections import Counter \n",
    "import sklearn.cluster\n",
    "import random\n",
    "\n",
    "random.seed(0)"
   ]
  },
  {
   "cell_type": "code",
   "execution_count": 3,
   "metadata": {},
   "outputs": [],
   "source": [
    "# data import\n",
    "data = pd.read_excel(r'../data/Datos Codificados Estudio v2a.xlsx')\n",
    "model = gensim.models.KeyedVectors.load_word2vec_format( \n",
    "    r'../Data/SBW-vectors-300-min5.bin.gz', # using the spanish billion words embeddings\n",
    "    binary=True # the model is in binary format\n",
    ")"
   ]
  },
  {
   "cell_type": "code",
   "execution_count": 4,
   "metadata": {},
   "outputs": [],
   "source": [
    "# Configuracion de spacy\n",
    "nlp = spacy.load('es_core_news_sm')\n",
    "# nlp.Defaults.stop_words.add(\"my_new_stopword\")"
   ]
  },
  {
   "cell_type": "markdown",
   "metadata": {},
   "source": [
    "## Funciones Importantes"
   ]
  },
  {
   "cell_type": "code",
   "execution_count": 5,
   "metadata": {},
   "outputs": [],
   "source": [
    "\n",
    "def clean_text(text):\n",
    "    \"\"\"\n",
    "    Recive a string and return the string in tokens without punctuations\n",
    "    and in lowercase\n",
    "    \"\"\"\n",
    "    # for each token in the sentence add to the list if is not a punctuation\n",
    "    return [t for t in nlp(text.lower()) if not t.is_punct]\n",
    "\n",
    "\n",
    "def normalize(tokens):\n",
    "    \"\"\"\n",
    "    Recive al list of string and return in one string without stop words\n",
    "    \"\"\"\n",
    "    # for each token if is not a stop word add the word to the list\n",
    "    words = [t.orth_ for t in tokens if not t.is_stop]\n",
    "\n",
    "    # return the tokens in one string\n",
    "    return(\" \".join(words))\n",
    "\n",
    "\n",
    "def lematize(tokens):\n",
    "    \"\"\"\n",
    "    Recive al list of string and return in one string without stop words \n",
    "    and Lematized\n",
    "    \"\"\"\n",
    "    # for each token if is not a stop word add the lemma of the word in the list\n",
    "    lemmas = [t.lemma_ for t in tokens if not t.is_stop]\n",
    "\n",
    "    # return the tokens in one string\n",
    "    return(\" \".join(lemmas))\n",
    "\n",
    "def to_vector(texto,model):\n",
    "    \"\"\" \n",
    "    Receives a sentence string along with a word embedding model and \n",
    "    returns the vector representation of the sentence\n",
    "    \"\"\"\n",
    "    tokens = texto.split() # splits the text by space and returns a list of words\n",
    "    vec = np.zeros(300) # creates an empty vector of 300 dimensions\n",
    "    for word in tokens: # iterates over the sentence\n",
    "        if word in model: # checks if the word is both in the word embedding\n",
    "            vec += model[word] # adds every word embedding to the vector\n",
    "    return vec / np.linalg.norm(vec) # divides the vector by their normal\n"
   ]
  },
  {
   "cell_type": "markdown",
   "metadata": {},
   "source": [
    "# Preprocesamiento de los datos"
   ]
  },
  {
   "cell_type": "code",
   "execution_count": 6,
   "metadata": {},
   "outputs": [],
   "source": [
    "pd.options.mode.chained_assignment = None # Para evitar que se muestre warnings\n",
    "\n",
    "# Normalizacion de los conceptos, descripciones y codificaciones\n",
    "for i in range(len(data)):\n",
    "    data['Descripción'][i] = normalize(clean_text(data['Descripción'][i]))"
   ]
  },
  {
   "cell_type": "markdown",
   "metadata": {},
   "source": [
    "## Generación de Matriz de los datos"
   ]
  },
  {
   "cell_type": "code",
   "execution_count": 7,
   "metadata": {},
   "outputs": [
    {
     "name": "stderr",
     "output_type": "stream",
     "text": [
      "C:\\Users\\dra98\\AppData\\Local\\Temp\\ipykernel_43904\\2310962255.py:42: RuntimeWarning: invalid value encountered in true_divide\n",
      "  return vec / np.linalg.norm(vec) # divides the vector by their normal\n"
     ]
    }
   ],
   "source": [
    "# Creation of the matrix to make the clustering process\n",
    "descriptions_matrix = np.zeros( # creatign an empty matrix\n",
    "    (\n",
    "        len(data), # the number of data points\n",
    "        len(model['hola']) # the number of components of the word embedding\n",
    "    )\n",
    ")\n",
    "\n",
    "# matrix filling \n",
    "for i,description in enumerate(data['Descripción']):\n",
    "    vector = to_vector(description,model)\n",
    "    descriptions_matrix[i,] = vector\n",
    "\n",
    "# Concatenate the matrix with the data of each observation\n",
    "data_matrix = np.concatenate([descriptions_matrix,data], axis=1)\n",
    "\n",
    "#--------------------------------------------------------------------------------------\n",
    "# This is the important matrix\n",
    "# Remove of the 'Nan' data\n",
    "data_matrix_without_nan = data_matrix[~pd.isnull(data_matrix[:,:300]).any(axis=1)]\n",
    "#--------------------------------------------------------------------------------------\n",
    "\n",
    "# reduce the matrix to the importan\n",
    "data_matrix_without_nan = np.concatenate(\n",
    "    (data_matrix_without_nan[:,:300],                       # Vector of the description\n",
    "    np.reshape(data_matrix_without_nan[:,302], (-1, 1)),    # Cue/Concept\n",
    "    np.reshape(data_matrix_without_nan[:,306], (-1, 1)),    # Codification\n",
    "    np.reshape(data_matrix_without_nan[:,303], (-1, 1))     # Description of the cue\n",
    "    ),\n",
    "    axis = 1\n",
    ")"
   ]
  },
  {
   "cell_type": "markdown",
   "metadata": {},
   "source": [
    "## Testing random generations"
   ]
  },
  {
   "cell_type": "code",
   "execution_count": null,
   "metadata": {},
   "outputs": [],
   "source": [
    "# Generation of test-train data\n",
    "\n",
    "from sklearn.model_selection import KFold\n",
    "\n",
    "kfold=KFold(n_splits=5)"
   ]
  },
  {
   "cell_type": "code",
   "execution_count": 13,
   "metadata": {},
   "outputs": [
    {
     "name": "stdout",
     "output_type": "stream",
     "text": [
      "0.0012545743104104092\n",
      "0.0010250251045891628\n"
     ]
    }
   ],
   "source": [
    "rand_acc = []\n",
    "for train_index, test_index in kfold.split(data_matrix_without_nan):\n",
    "    \n",
    "    train = data_matrix_without_nan[train_index,:]\n",
    "    test = data_matrix_without_nan[test_index,:]\n",
    "\n",
    "    train_codes=np.unique(train[:,301])\n",
    "\n",
    "    len_test = len(test)\n",
    "    counter = 0\n",
    "    for i in range(len_test):\n",
    "        counter += test[i,301] == np.random.choice(train_codes)\n",
    "    rand_acc.append(counter/len_test)\n",
    "\n",
    "print(np.mean(rand_acc))\n",
    "print(np.std(rand_acc))\n"
   ]
  },
  {
   "cell_type": "code",
   "execution_count": 19,
   "metadata": {},
   "outputs": [
    {
     "name": "stdout",
     "output_type": "stream",
     "text": [
      "0.003554080700235656\n",
      "0.0022524367186731293\n"
     ]
    }
   ],
   "source": [
    "rand_acc_top3 = []\n",
    "for train_index, test_index in kfold.split(data_matrix_without_nan):\n",
    "    \n",
    "    train = data_matrix_without_nan[train_index,:]\n",
    "    test = data_matrix_without_nan[test_index,:]\n",
    "\n",
    "    train_codes=np.unique(train[:,301])\n",
    "\n",
    "    len_test = len(test)\n",
    "    counter = 0\n",
    "    for i in range(len_test):\n",
    "        for _ in range(3):\n",
    "            val = test[i,301] == np.random.choice(train_codes)\n",
    "            if val:\n",
    "                counter += val\n",
    "                break\n",
    "    rand_acc_top3.append(counter/len_test)\n",
    "\n",
    "print(np.mean(rand_acc_top3))\n",
    "print(np.std(rand_acc_top3))"
   ]
  },
  {
   "cell_type": "code",
   "execution_count": 70,
   "metadata": {},
   "outputs": [
    {
     "name": "stdout",
     "output_type": "stream",
     "text": [
      "0.005225972027299397\n",
      "0.0011458654681946521\n"
     ]
    }
   ],
   "source": [
    "rand_acc_top5 = []\n",
    "for train_index, test_index in kfold.split(data_matrix_without_nan):\n",
    "    \n",
    "    train = data_matrix_without_nan[train_index,:]\n",
    "    test = data_matrix_without_nan[test_index,:]\n",
    "\n",
    "    train_codes=np.unique(train[:,301])\n",
    "\n",
    "    len_test = len(test)\n",
    "    counter = 0\n",
    "    for i in range(len_test):\n",
    "        for _ in range(5):\n",
    "            val = test[i,301] == np.random.choice(train_codes)\n",
    "            if val:\n",
    "                counter += val\n",
    "                break\n",
    "    rand_acc_top5.append(counter/len_test)\n",
    "\n",
    "print(np.mean(rand_acc_top5))\n",
    "print(np.std(rand_acc_top5))"
   ]
  },
  {
   "cell_type": "code",
   "execution_count": 75,
   "metadata": {},
   "outputs": [
    {
     "name": "stdout",
     "output_type": "stream",
     "text": [
      "0.009197369744188385\n",
      "0.0019156108352290523\n"
     ]
    }
   ],
   "source": [
    "rand_acc_top10 = []\n",
    "for train_index, test_index in kfold.split(data_matrix_without_nan):\n",
    "    \n",
    "    train = data_matrix_without_nan[train_index,:]\n",
    "    test = data_matrix_without_nan[test_index,:]\n",
    "\n",
    "    train_codes=np.unique(train[:,301])\n",
    "\n",
    "    len_test = len(test)\n",
    "    counter = 0\n",
    "    for i in range(len_test):\n",
    "        for _ in range(10):\n",
    "            val = test[i,301] == np.random.choice(train_codes)\n",
    "            if val:\n",
    "                counter += val\n",
    "                break\n",
    "    rand_acc_top10.append(counter/len_test)\n",
    "\n",
    "print(np.mean(rand_acc_top10))\n",
    "print(np.std(rand_acc_top10))"
   ]
  },
  {
   "cell_type": "code",
   "execution_count": 76,
   "metadata": {},
   "outputs": [
    {
     "name": "stdout",
     "output_type": "stream",
     "text": [
      "0.040133261630881024\n",
      "0.00333791220889897\n"
     ]
    }
   ],
   "source": [
    "rand_acc_top50 = []\n",
    "for train_index, test_index in kfold.split(data_matrix_without_nan):\n",
    "    \n",
    "    train = data_matrix_without_nan[train_index,:]\n",
    "    test = data_matrix_without_nan[test_index,:]\n",
    "\n",
    "    train_codes=np.unique(train[:,301])\n",
    "\n",
    "    len_test = len(test)\n",
    "    counter = 0\n",
    "    for i in range(len_test):\n",
    "        for _ in range(50):\n",
    "            val = test[i,301] == np.random.choice(train_codes)\n",
    "            if val:\n",
    "                counter += val\n",
    "                break\n",
    "    rand_acc_top50.append(counter/len_test)\n",
    "\n",
    "print(np.mean(rand_acc_top50))\n",
    "print(np.std(rand_acc_top50))"
   ]
  },
  {
   "cell_type": "code",
   "execution_count": 11,
   "metadata": {},
   "outputs": [
    {
     "name": "stdout",
     "output_type": "stream",
     "text": [
      "0.008152219059736013\n",
      "0.001386527089724892\n"
     ]
    }
   ],
   "source": [
    "rand_concept_acc = []\n",
    "for train_index, test_index in kfold.split(data_matrix_without_nan):\n",
    "\n",
    "    train = data_matrix_without_nan[train_index,:]\n",
    "    test = data_matrix_without_nan[test_index,:]\n",
    "\n",
    "    concept_cluster = {\n",
    "                i:np.unique(train[:,301][train[:,300]==i]) for i in np.unique(train[:,300])\n",
    "                }\n",
    "    \n",
    "    len_test = len(test)\n",
    "    counter = 0\n",
    "    \n",
    "    for i in range(len_test):\n",
    "        counter += test[i,301] == np.random.choice(concept_cluster[test[i,300]])\n",
    "    rand_concept_acc.append(counter/len_test)\n",
    "\n",
    "print(np.mean(rand_concept_acc))\n",
    "print(np.std(rand_concept_acc))\n"
   ]
  },
  {
   "cell_type": "code",
   "execution_count": 20,
   "metadata": {},
   "outputs": [
    {
     "name": "stdout",
     "output_type": "stream",
     "text": [
      "0.030726468260734597\n",
      "0.006755312892493112\n"
     ]
    }
   ],
   "source": [
    "rand_concept_acc_top3 = []\n",
    "for train_index, test_index in kfold.split(data_matrix_without_nan):\n",
    "\n",
    "    train = data_matrix_without_nan[train_index,:]\n",
    "    test = data_matrix_without_nan[test_index,:]\n",
    "\n",
    "    concept_cluster = {\n",
    "                i:np.unique(train[:,301][train[:,300]==i]) for i in np.unique(train[:,300])\n",
    "                }\n",
    "    \n",
    "    len_test = len(test)\n",
    "    counter = 0\n",
    "    \n",
    "    for i in range(len_test):\n",
    "        for _ in range(3):\n",
    "            val = test[i,301] == np.random.choice(concept_cluster[test[i,300]])\n",
    "            if val:\n",
    "                counter += val\n",
    "                break\n",
    "    rand_concept_acc_top3.append(counter/len_test)\n",
    "\n",
    "print(np.mean(rand_concept_acc_top3))\n",
    "print(np.std(rand_concept_acc_top3))"
   ]
  },
  {
   "cell_type": "code",
   "execution_count": 77,
   "metadata": {},
   "outputs": [
    {
     "name": "stdout",
     "output_type": "stream",
     "text": [
      "0.02800964485425602\n",
      "0.002831222395939669\n"
     ]
    }
   ],
   "source": [
    "rand_concept_acc_top5 = []\n",
    "for train_index, test_index in kfold.split(data_matrix_without_nan):\n",
    "\n",
    "    train = data_matrix_without_nan[train_index,:]\n",
    "    test = data_matrix_without_nan[test_index,:]\n",
    "\n",
    "    concept_cluster = {\n",
    "                i:np.unique(train[:,301][train[:,300]==i]) for i in np.unique(train[:,300])\n",
    "                }\n",
    "    \n",
    "    len_test = len(test)\n",
    "    counter = 0\n",
    "    \n",
    "    for i in range(len_test):\n",
    "        for _ in range(3):\n",
    "            val = test[i,301] == np.random.choice(concept_cluster[test[i,300]])\n",
    "            if val:\n",
    "                counter += val\n",
    "                break\n",
    "    rand_concept_acc_top5.append(counter/len_test)\n",
    "\n",
    "print(np.mean(rand_concept_acc_top5))\n",
    "print(np.std(rand_concept_acc_top5))"
   ]
  },
  {
   "cell_type": "code",
   "execution_count": 78,
   "metadata": {},
   "outputs": [
    {
     "name": "stdout",
     "output_type": "stream",
     "text": [
      "0.02613007874153452\n",
      "0.00458795305860302\n"
     ]
    }
   ],
   "source": [
    "rand_concept_acc_top10 = []\n",
    "for train_index, test_index in kfold.split(data_matrix_without_nan):\n",
    "\n",
    "    train = data_matrix_without_nan[train_index,:]\n",
    "    test = data_matrix_without_nan[test_index,:]\n",
    "\n",
    "    concept_cluster = {\n",
    "                i:np.unique(train[:,301][train[:,300]==i]) for i in np.unique(train[:,300])\n",
    "                }\n",
    "    \n",
    "    len_test = len(test)\n",
    "    counter = 0\n",
    "    \n",
    "    for i in range(len_test):\n",
    "        for _ in range(3):\n",
    "            val = test[i,301] == np.random.choice(concept_cluster[test[i,300]])\n",
    "            if val:\n",
    "                counter += val\n",
    "                break\n",
    "    rand_concept_acc_top10.append(counter/len_test)\n",
    "\n",
    "print(np.mean(rand_concept_acc_top10))\n",
    "print(np.std(rand_concept_acc_top10))"
   ]
  },
  {
   "cell_type": "code",
   "execution_count": 79,
   "metadata": {},
   "outputs": [
    {
     "name": "stdout",
     "output_type": "stream",
     "text": [
      "0.029055669958858533\n",
      "0.004151915381321839\n"
     ]
    }
   ],
   "source": [
    "rand_concept_acc_top50 = []\n",
    "for train_index, test_index in kfold.split(data_matrix_without_nan):\n",
    "\n",
    "    train = data_matrix_without_nan[train_index,:]\n",
    "    test = data_matrix_without_nan[test_index,:]\n",
    "\n",
    "    concept_cluster = {\n",
    "                i:np.unique(train[:,301][train[:,300]==i]) for i in np.unique(train[:,300])\n",
    "                }\n",
    "    \n",
    "    len_test = len(test)\n",
    "    counter = 0\n",
    "    \n",
    "    for i in range(len_test):\n",
    "        for _ in range(3):\n",
    "            val = test[i,301] == np.random.choice(concept_cluster[test[i,300]])\n",
    "            if val:\n",
    "                counter += val\n",
    "                break\n",
    "    rand_concept_acc_top50.append(counter/len_test)\n",
    "\n",
    "print(np.mean(rand_concept_acc_top50))\n",
    "print(np.std(rand_concept_acc_top50))"
   ]
  },
  {
   "cell_type": "markdown",
   "metadata": {},
   "source": [
    "## Model Creation"
   ]
  },
  {
   "cell_type": "code",
   "execution_count": 8,
   "metadata": {},
   "outputs": [],
   "source": [
    "# Class creation\n",
    "class PLT_processor:\n",
    "\n",
    "    def __init__(self, method = 0, n_clusters = 500):\n",
    "        \"\"\"\n",
    "        Recives the type of method to use, \n",
    "        - 0: Clasify using K-Means (Simple)\n",
    "        - 1: Clasify to the codification with the same concept \n",
    "        \"\"\"\n",
    "        self.n_clusters = n_clusters\n",
    "        self.method = method # Method of Processing the data\n",
    "        self.KMeans_dict = {}\n",
    "        self.KMeans_categories = {}\n",
    "\n",
    "        if method == 1:\n",
    "            self.inverse_concept_cluster = {}\n",
    "            self.concept_cluster = {}\n",
    "\n",
    "        self.topk = np.zeros((test.shape[0],500))\n",
    "\n",
    "    def most_frequent(self, List): \n",
    "        \"\"\"\n",
    "        Recives a list of words, and return the word most frequente of\n",
    "        the list\n",
    "        \"\"\"\n",
    "        # ? Agregar la frase 'PENDIENTE' en caso de que haya multiples codificaciones con la misma frecuencia ?\n",
    "        occurence_count = Counter(List) \n",
    "        return occurence_count.most_common(1)[0][0] \n",
    "\n",
    "\n",
    "    def model_train(self, train):\n",
    "        \"\"\"\n",
    "        Recives the train dataset and the number of clusters to train \n",
    "        the k-means model\n",
    "        \"\"\"\n",
    "        \n",
    "        # If the number of clusters is less than the data points aply K Means\n",
    "        if(len(train)>self.n_clusters):\n",
    "            # creates de k-means object\n",
    "            self.kemean = sklearn.cluster.KMeans(n_clusters=self.n_clusters, random_state=0)\n",
    "            # Train the k-means algorithm\n",
    "            self.kemean.fit(train[:,:300])\n",
    "\n",
    "            # print(self.kemean.n_clusters)\n",
    "            # Dataframe of train dataset\n",
    "            df = pd.DataFrame(\n",
    "                np.concatenate([\n",
    "                    np.reshape(train[:,301], (-1, 1)),          # Human codification\n",
    "                    np.reshape(self.kemean.labels_, (-1, 1)),   # Number of the KMean centroid\n",
    "                    np.reshape(train[:,300], (-1, 1))           # Concept of the codification\n",
    "                    ], axis=1), \n",
    "                columns=['Human', 'KMeans', 'Concept'])\n",
    "        # Else if the number of clusters is equal than the data points set a number to each point\n",
    "        elif(len(train)==self.n_clusters):\n",
    "             # Dataframe of train dataset\n",
    "            df = pd.DataFrame(\n",
    "                np.concatenate([\n",
    "                    np.reshape(train[:,301], (-1, 1)),          # Human codification\n",
    "                    np.reshape(range(self.n_clusters), (-1, 1)),   # Number of the KMean centroid\n",
    "                    np.reshape(train[:,300], (-1, 1))           # Concept of the codification\n",
    "                    ], axis=1), \n",
    "                columns=['Human', 'KMeans', 'Concept'])\n",
    "\n",
    "            self.cluster_centers_2 = train[:,:300].astype(float)\n",
    "\n",
    "        # create a dictionary of all the humans codifications for each Cluster\n",
    "        self.KMeans_dict = df.groupby(by='KMeans')['Human'].apply(list).to_dict()\n",
    "\n",
    "        # Fill a dictionary with the most frecuent value in the centroid\n",
    "        for key, val in self.KMeans_dict.items():\n",
    "            self.KMeans_categories[key] = self.most_frequent(val)\n",
    "        \n",
    "        # Generates the prediction for the train dataset\n",
    "        df['KM_Prediction'] = df['KMeans'].map(self.KMeans_categories)\n",
    "\n",
    "        if self.method == 1:\n",
    "            # dictionary of the codifications that doesn't show in a concept\n",
    "            self.not_concept_cluster = {\n",
    "                i:[False if j in np.unique(df['KMeans'][df['Concept']==i]) else True for j in range(self.n_clusters)] \n",
    "                for i in np.unique(df['Concept'])\n",
    "                }\n",
    "            # dictionary of clusters for each concept\n",
    "            self.concept_cluster = {\n",
    "                i:np.unique(df['KMeans'][df['Concept']==i]) for i in np.unique(df['Concept'])\n",
    "                }\n",
    "        # return self.kemean.inertia_\n",
    "\n",
    "    \n",
    "    def get_distances(self, test):\n",
    "        \"\"\"\n",
    "        recives the test data to calculate the distances of each frase, return \n",
    "        a matrix with the distances sorted\n",
    "        \"\"\"\n",
    "\n",
    "        # Distance matrix of each test point to each cluster center\n",
    "        distance_matrix = np.zeros((test.shape[0],self.n_clusters))\n",
    "\n",
    "        if(len(train)>self.n_clusters):\n",
    "            # for each cluster center\n",
    "            for i in range(distance_matrix.shape[1]):    \n",
    "                # Euclidian distance of each point to the i-est cluster center\n",
    "                distance_matrix[:,i]=np.sqrt(np.sum((test[:,:300].astype(float)-self.kemean.cluster_centers_[i,:])**2,axis=1))\n",
    "        elif(len(train)==self.n_clusters):\n",
    "            for i in range(distance_matrix.shape[1]):    \n",
    "                # Euclidian distance of each point to the i-est cluster center\n",
    "                distance_matrix[:,i]=np.sqrt(np.sum((test[:,:300].astype(float)-self.cluster_centers_2[i,:])**2,axis=1))\n",
    "        \n",
    "\n",
    "        if self.method == 1:\n",
    "            # for each datapoint\n",
    "            for i in range(distance_matrix.shape[0]):\n",
    "                # if the centroid not share the same concept asing NaN value\n",
    "                distance_matrix[i, self.not_concept_cluster[test[i,300]]] = np.nan\n",
    "    \n",
    "\n",
    "        # Sorting distances\n",
    "        self.topk=np.argsort(distance_matrix,axis=1)\n",
    "\n",
    "    \n",
    "    def set_labels(self, test):\n",
    "        \"\"\"\n",
    "        Create a new matrix from the clusters sorted and change the value\n",
    "        from numeric to the string according the codification\n",
    "        \"\"\"\n",
    "\n",
    "        # Change of the numeric value to the codification \n",
    "        self.topKS=pd.DataFrame(self.topk)\n",
    "\n",
    "        # create a temporal array of the kmeans categories\n",
    "        tempData = np.array([value for (_, value) in sorted(self.KMeans_categories.items())])\n",
    "        \n",
    "        # for each cluster center\n",
    "        # print(\"Setting labels\")\n",
    "        # print('len temp',len(self.KMeans_categories))\n",
    "        # print('dim topKS',self.topKS.shape[1])\n",
    "        for j in range(self.topKS.shape[1]):\n",
    "            # set the codification of the numeric value in the topk list\n",
    "            self.topKS.iloc[:,j]=tempData[self.topk[:,j]]\n",
    "        \n",
    "        if self.method == 1:\n",
    "            # for each datapoint\n",
    "            for i in range(self.topKS.shape[0]):\n",
    "                # Remove of the clusters that not share the same concept\n",
    "                self.topKS.iloc[i, np.isin(self.topk[i,:], self.concept_cluster[test[i,300]] ,invert=True)]= np.nan\n",
    "\n",
    "\n",
    "    def get_accuracies(self, test):\n",
    "        \"\"\"\n",
    "        Recives the test matrix and return the accuracies of the \n",
    "        diferents predictions\n",
    "        \"\"\"\n",
    "        #Creating the accuracy table to check each data point\n",
    "        testLabel=np.zeros(self.topKS.shape)\n",
    "        indexes_method0=pd.DataFrame(np.zeros((self.topKS.shape[0],2)), columns=['index', 'value']) \n",
    "\n",
    "        #For each data point\n",
    "        for i in range(testLabel.shape[0]):\n",
    "            #Checking if some of the cluster is able to classify it right\n",
    "            boolClass=self.topKS.iloc[i,:]==test[i,301]\n",
    "            if sum(boolClass)>0:\n",
    "                getIndex=boolClass.idxmax()\n",
    "                indexes_method0.iloc[i,0] = getIndex\n",
    "                indexes_method0.iloc[i,1] = self.topKS.iloc[i,getIndex]\n",
    "                #Setting the rest of the data point as 1\n",
    "                testLabel[i,getIndex:]=1\n",
    "            else:\n",
    "                indexes_method0.iloc[i,0] = np.nan\n",
    "                indexes_method0.iloc[i,1] = np.nan\n",
    "        accuracies=testLabel.sum(axis=0)/testLabel.shape[0]\n",
    "\n",
    "        return accuracies\n",
    "\n",
    "    def process(self, train, test):\n",
    "        self.model_train(train)\n",
    "        self.get_distances(test)\n",
    "        self.set_labels(test)\n",
    "        return self.get_accuracies(test)\n",
    "\n",
    "    def train_process(self, train):\n",
    "        self.model_train(train)\n",
    "        self.get_distances(train)\n",
    "        self.set_labels(train)\n",
    "        return self.get_accuracies(train)"
   ]
  },
  {
   "cell_type": "markdown",
   "metadata": {},
   "source": [
    "# Experimentos"
   ]
  },
  {
   "cell_type": "code",
   "execution_count": 13,
   "metadata": {},
   "outputs": [
    {
     "name": "stdout",
     "output_type": "stream",
     "text": [
      "0.35619045745290157\n",
      "0.010038489481314425\n"
     ]
    }
   ],
   "source": [
    "from sklearn.model_selection import KFold\n",
    "\n",
    "kfold=KFold(n_splits=5)\n",
    "\n",
    "method0_acc = np.zeros(5)\n",
    "i=0\n",
    "\n",
    "for train_index, test_index in kfold.split(data_matrix_without_nan):\n",
    "    train = data_matrix_without_nan[train_index, :]\n",
    "    test = data_matrix_without_nan[test_index, :]\n",
    "\n",
    "    proc = PLT_processor(0)\n",
    "    acc = proc.process(train, test)\n",
    "\n",
    "    method0_acc[i] = acc[0]\n",
    "    i+=1\n",
    "\n",
    "print(method0_acc.mean())\n",
    "print(method0_acc.std())"
   ]
  },
  {
   "cell_type": "code",
   "execution_count": 14,
   "metadata": {},
   "outputs": [
    {
     "name": "stdout",
     "output_type": "stream",
     "text": [
      "0.4163925359495984\n",
      "0.01689698143216913\n"
     ]
    }
   ],
   "source": [
    "from sklearn.model_selection import KFold\n",
    "\n",
    "kfold=KFold(n_splits=5)\n",
    "\n",
    "method0_acc_top3 = np.zeros(5)\n",
    "i=0\n",
    "\n",
    "for train_index, test_index in kfold.split(data_matrix_without_nan):\n",
    "    train = data_matrix_without_nan[train_index, :]\n",
    "    test = data_matrix_without_nan[test_index, :]\n",
    "\n",
    "    proc = PLT_processor(0)\n",
    "    acc = proc.process(train, test)\n",
    "\n",
    "    method0_acc_top3[i] = acc[2]\n",
    "    i+=1\n",
    "\n",
    "print(method0_acc_top3.mean())\n",
    "print(method0_acc_top3.std())"
   ]
  },
  {
   "cell_type": "code",
   "execution_count": 22,
   "metadata": {},
   "outputs": [
    {
     "name": "stdout",
     "output_type": "stream",
     "text": [
      "0.4435657979302475\n",
      "0.01534055305781037\n"
     ]
    }
   ],
   "source": [
    "print(method0_acc_top3.mean())\n",
    "print(method0_acc_top3.std())"
   ]
  },
  {
   "cell_type": "code",
   "execution_count": 8,
   "metadata": {},
   "outputs": [],
   "source": [
    "# K = 500\n",
    "# Top 1, 3, 5, 10, 50\n",
    "from sklearn.model_selection import KFold\n",
    "\n",
    "kfold=KFold(n_splits=5)\n",
    "k500_acc_top = np.zeros((5, 5))\n",
    "\n",
    "tops=(0,2,4,9,49)\n",
    "\n",
    "i=0\n",
    "\n",
    "for train_index, test_index in kfold.split(data_matrix_without_nan):\n",
    "    train = data_matrix_without_nan[train_index, :]\n",
    "    test = data_matrix_without_nan[test_index, :]\n",
    "\n",
    "    proc = PLT_processor(0)\n",
    "    acc = proc.train_process(train)\n",
    "\n",
    "    for j in range(len(tops)):\n",
    "        k500_acc_top[i,j] = acc[tops[j]]\n",
    "\n",
    "    i+=1"
   ]
  },
  {
   "cell_type": "code",
   "execution_count": 9,
   "metadata": {},
   "outputs": [
    {
     "name": "stdout",
     "output_type": "stream",
     "text": [
      "[0.48332987 0.53172064 0.54765911 0.56976418 0.62787443]\n",
      "[0.00279424 0.00394971 0.00280891 0.00381267 0.0051284 ]\n"
     ]
    }
   ],
   "source": [
    "print(k500_acc_top.mean(axis=0))\n",
    "print(k500_acc_top.std(axis=0))"
   ]
  },
  {
   "cell_type": "code",
   "execution_count": 15,
   "metadata": {},
   "outputs": [],
   "source": [
    "# K = 500\n",
    "# Top 1, 3, 5, 10, 50\n",
    "from sklearn.model_selection import KFold\n",
    "\n",
    "kfold=KFold(n_splits=5)\n",
    "k500_acc_top = np.zeros((5, 5))\n",
    "\n",
    "tops=(0,2,4,9,49)\n",
    "\n",
    "i=0\n",
    "\n",
    "for train_index, test_index in kfold.split(data_matrix_without_nan):\n",
    "    train = data_matrix_without_nan[train_index, :]\n",
    "    test = data_matrix_without_nan[test_index, :]\n",
    "\n",
    "    proc = PLT_processor(0)\n",
    "    acc = proc.process(train, test)\n",
    "\n",
    "    for j in range(len(tops)):\n",
    "        k500_acc_top[i,j] = acc[tops[j]]\n",
    "\n",
    "    i+=1"
   ]
  },
  {
   "cell_type": "code",
   "execution_count": 16,
   "metadata": {},
   "outputs": [
    {
     "name": "stdout",
     "output_type": "stream",
     "text": [
      "[0.35744197 0.41639254 0.44022289 0.47429292 0.5376298 ]\n",
      "[0.00666701 0.01689698 0.01670659 0.01570128 0.01607529]\n"
     ]
    }
   ],
   "source": [
    "print(k500_acc_top.mean(axis=0))\n",
    "print(k500_acc_top.std(axis=0))"
   ]
  },
  {
   "cell_type": "code",
   "execution_count": 12,
   "metadata": {},
   "outputs": [],
   "source": [
    "# K = 1000\n",
    "# Top 1, 3, 5, 10, 50\n",
    "from sklearn.model_selection import KFold\n",
    "\n",
    "kfold=KFold(n_splits=5)\n",
    "k1000_acc_top = np.zeros((5, 5))\n",
    "\n",
    "tops=(0,2,4,9,49)\n",
    "\n",
    "i=0\n",
    "\n",
    "for train_index, test_index in kfold.split(data_matrix_without_nan):\n",
    "    train = data_matrix_without_nan[train_index, :]\n",
    "    test = data_matrix_without_nan[test_index, :]\n",
    "\n",
    "    proc = PLT_processor(0, n_clusters=1000)\n",
    "    acc = proc.train_process(train)\n",
    "\n",
    "    for j in range(len(tops)):\n",
    "        k1000_acc_top[i,j] = acc[tops[j]]\n",
    "\n",
    "    i+=1"
   ]
  },
  {
   "cell_type": "code",
   "execution_count": 13,
   "metadata": {},
   "outputs": [
    {
     "name": "stdout",
     "output_type": "stream",
     "text": [
      "[0.61480993 0.66220763 0.67647398 0.69732477 0.74696931]\n",
      "[0.00526059 0.00491224 0.00495398 0.00464618 0.00537755]\n"
     ]
    }
   ],
   "source": [
    "print(k1000_acc_top.mean(axis=0))\n",
    "print(k1000_acc_top.std(axis=0))"
   ]
  },
  {
   "cell_type": "code",
   "execution_count": 17,
   "metadata": {},
   "outputs": [],
   "source": [
    "# K = 1000\n",
    "# Top 1, 3, 5, 10, 50\n",
    "from sklearn.model_selection import KFold\n",
    "\n",
    "kfold=KFold(n_splits=5)\n",
    "k1000_acc_top = np.zeros((5, 5))\n",
    "\n",
    "tops=(0,2,4,9,49)\n",
    "\n",
    "i=0\n",
    "\n",
    "for train_index, test_index in kfold.split(data_matrix_without_nan):\n",
    "    train = data_matrix_without_nan[train_index, :]\n",
    "    test = data_matrix_without_nan[test_index, :]\n",
    "\n",
    "    proc = PLT_processor(0, n_clusters=1000)\n",
    "    acc = proc.process(train, test)\n",
    "\n",
    "    for j in range(len(tops)):\n",
    "        k1000_acc_top[i,j] = acc[tops[j]]\n",
    "\n",
    "    i+=1"
   ]
  },
  {
   "cell_type": "code",
   "execution_count": 18,
   "metadata": {},
   "outputs": [
    {
     "name": "stdout",
     "output_type": "stream",
     "text": [
      "[0.39674257 0.46572623 0.48976491 0.52362814 0.59929609]\n",
      "[0.01527219 0.02546635 0.02393099 0.02477833 0.02602777]\n"
     ]
    }
   ],
   "source": [
    "print(k1000_acc_top.mean(axis=0))\n",
    "print(k1000_acc_top.std(axis=0))"
   ]
  },
  {
   "cell_type": "code",
   "execution_count": 14,
   "metadata": {},
   "outputs": [],
   "source": [
    "# K = 3827\n",
    "# Top 1, 3, 5, 10, 50\n",
    "from sklearn.model_selection import KFold\n",
    "\n",
    "kfold=KFold(n_splits=5)\n",
    "k3950_acc_top = np.zeros((5, 5))\n",
    "\n",
    "tops=(0,2,4,9,49)\n",
    "\n",
    "i=0\n",
    "\n",
    "for train_index, test_index in kfold.split(data_matrix_without_nan):\n",
    "    train = data_matrix_without_nan[train_index, :]\n",
    "    test = data_matrix_without_nan[test_index, :]\n",
    "\n",
    "    proc = PLT_processor(0, n_clusters=len(train_index))\n",
    "    acc = proc.train_process(train)\n",
    "\n",
    "    for j in range(len(tops)):\n",
    "        k3950_acc_top[i,j] = acc[tops[j]]\n",
    "\n",
    "    i+=1"
   ]
  },
  {
   "cell_type": "code",
   "execution_count": 15,
   "metadata": {},
   "outputs": [
    {
     "name": "stdout",
     "output_type": "stream",
     "text": [
      "[0.97251247 0.9936768  0.9971258  0.99952968 1.        ]\n",
      "[0.00228716 0.00079973 0.00057263 0.00010451 0.        ]\n"
     ]
    }
   ],
   "source": [
    "print(k3950_acc_top.mean(axis=0))\n",
    "print(k3950_acc_top.std(axis=0))"
   ]
  },
  {
   "cell_type": "code",
   "execution_count": 26,
   "metadata": {},
   "outputs": [],
   "source": [
    "# K = 3827\n",
    "# Top 1, 3, 5, 10, 50\n",
    "from sklearn.model_selection import KFold\n",
    "\n",
    "kfold=KFold(n_splits=5)\n",
    "k3950_acc_top = np.zeros((5, 5))\n",
    "\n",
    "tops=(0,2,4,9,49)\n",
    "\n",
    "i=0\n",
    "\n",
    "for train_index, test_index in kfold.split(data_matrix_without_nan):\n",
    "    train = data_matrix_without_nan[train_index, :]\n",
    "    test = data_matrix_without_nan[test_index, :]\n",
    "\n",
    "    proc = PLT_processor(0, n_clusters=len(train_index))\n",
    "    acc = proc.process(train, test)\n",
    "\n",
    "    for j in range(len(tops)):\n",
    "        k3950_acc_top[i,j] = acc[tops[j]]\n",
    "\n",
    "    i+=1"
   ]
  },
  {
   "cell_type": "code",
   "execution_count": 27,
   "metadata": {},
   "outputs": [
    {
     "name": "stdout",
     "output_type": "stream",
     "text": [
      "[0.46195988 0.54996306 0.58570804 0.63294837 0.71927769]\n",
      "[0.02170102 0.02133328 0.02215101 0.02415732 0.02046123]\n"
     ]
    }
   ],
   "source": [
    "print(k3950_acc_top.mean(axis=0))\n",
    "print(k3950_acc_top.std(axis=0))"
   ]
  },
  {
   "cell_type": "code",
   "execution_count": 29,
   "metadata": {},
   "outputs": [],
   "source": [
    "from sklearn.model_selection import KFold\n",
    "\n",
    "kfold=KFold(n_splits=5)\n",
    "\n",
    "method1_acc = np.zeros(5)\n",
    "i=0\n",
    "\n",
    "for train_index, test_index in kfold.split(data_matrix_without_nan):\n",
    "    train = data_matrix_without_nan[train_index, :]\n",
    "    test = data_matrix_without_nan[test_index, :]\n",
    "\n",
    "    proc = PLT_processor(1)\n",
    "    acc = proc.process(train, test)\n",
    "\n",
    "    method1_acc[i] = acc[0]\n",
    "    i+=1"
   ]
  },
  {
   "cell_type": "code",
   "execution_count": 30,
   "metadata": {},
   "outputs": [
    {
     "name": "stdout",
     "output_type": "stream",
     "text": [
      "0.33486553604141256\n",
      "0.012014748371481811\n"
     ]
    }
   ],
   "source": [
    "print(method1_acc.mean())\n",
    "print(method1_acc.std())"
   ]
  },
  {
   "cell_type": "markdown",
   "metadata": {},
   "source": [
    "# Busqueda del K optimo"
   ]
  },
  {
   "cell_type": "code",
   "execution_count": 9,
   "metadata": {},
   "outputs": [
    {
     "name": "stdout",
     "output_type": "stream",
     "text": [
      "K = 50\n",
      "K = 60\n",
      "K = 70\n",
      "K = 80\n",
      "K = 90\n",
      "K = 100\n",
      "K = 110\n",
      "K = 120\n",
      "K = 130\n",
      "K = 140\n",
      "K = 150\n",
      "K = 160\n",
      "K = 170\n",
      "K = 180\n",
      "K = 190\n",
      "K = 200\n",
      "K = 210\n",
      "K = 220\n",
      "K = 230\n",
      "K = 240\n",
      "K = 250\n",
      "K = 260\n",
      "K = 270\n",
      "K = 280\n",
      "K = 290\n",
      "K = 300\n",
      "K = 310\n",
      "K = 320\n",
      "K = 330\n",
      "K = 340\n",
      "K = 350\n",
      "K = 360\n",
      "K = 370\n",
      "K = 380\n",
      "K = 390\n",
      "K = 400\n",
      "K = 410\n",
      "K = 420\n",
      "K = 430\n",
      "K = 440\n",
      "K = 450\n",
      "K = 460\n",
      "K = 470\n",
      "K = 480\n",
      "K = 490\n",
      "K = 500\n",
      "K = 510\n",
      "K = 520\n",
      "K = 530\n",
      "K = 540\n",
      "K = 550\n",
      "K = 560\n",
      "K = 570\n",
      "K = 580\n",
      "K = 590\n",
      "K = 600\n",
      "K = 610\n",
      "K = 620\n",
      "K = 630\n",
      "K = 640\n",
      "K = 650\n",
      "K = 660\n",
      "K = 670\n",
      "K = 680\n",
      "K = 690\n",
      "K = 700\n",
      "K = 710\n",
      "K = 720\n",
      "K = 730\n",
      "K = 740\n",
      "K = 750\n",
      "K = 760\n",
      "K = 770\n",
      "K = 780\n",
      "K = 790\n",
      "K = 800\n",
      "K = 810\n",
      "K = 820\n",
      "K = 830\n",
      "K = 840\n",
      "K = 850\n",
      "K = 860\n",
      "K = 870\n",
      "K = 880\n",
      "K = 890\n",
      "K = 900\n",
      "K = 910\n",
      "K = 920\n",
      "K = 930\n",
      "K = 940\n",
      "K = 950\n",
      "K = 960\n",
      "K = 970\n",
      "K = 980\n",
      "K = 990\n",
      "K = 1000\n",
      "K = 1010\n",
      "K = 1020\n",
      "K = 1030\n",
      "K = 1040\n",
      "K = 1050\n",
      "K = 1060\n",
      "K = 1070\n",
      "K = 1080\n",
      "K = 1090\n",
      "K = 1100\n",
      "K = 1110\n",
      "K = 1120\n",
      "K = 1130\n",
      "K = 1140\n",
      "K = 1150\n",
      "K = 1160\n",
      "K = 1170\n",
      "K = 1180\n",
      "K = 1190\n",
      "K = 1200\n",
      "K = 1210\n",
      "K = 1220\n",
      "K = 1230\n",
      "K = 1240\n",
      "K = 1250\n",
      "K = 1260\n",
      "K = 1270\n",
      "K = 1280\n",
      "K = 1290\n",
      "K = 1300\n",
      "K = 1310\n",
      "K = 1320\n",
      "K = 1330\n",
      "K = 1340\n",
      "K = 1350\n",
      "K = 1360\n",
      "K = 1370\n",
      "K = 1380\n",
      "K = 1390\n",
      "K = 1400\n",
      "K = 1410\n",
      "K = 1420\n",
      "K = 1430\n",
      "K = 1440\n",
      "K = 1450\n",
      "K = 1460\n",
      "K = 1470\n",
      "K = 1480\n",
      "K = 1490\n",
      "K = 1500\n"
     ]
    }
   ],
   "source": [
    "from sklearn.model_selection import KFold\n",
    "rango = range(50,1500+1,10)\n",
    "tops=[0,2,4,9,49]\n",
    "\n",
    "# k_acc_1 = np.zeros((len(rango), 2))\n",
    "# k_acc_1_train = np.zeros((len(rango), 2))\n",
    "\n",
    "k_acc_top_train = np.zeros((len(rango), 10))\n",
    "k_acc_top_test = np.zeros((len(rango), 10))\n",
    "\n",
    "\n",
    "j = 0\n",
    "for k in rango:\n",
    "    kfold=KFold(n_splits=5)\n",
    "\n",
    "    train_temp = np.zeros((5,5))\n",
    "    test_temp = np.zeros((5,5))\n",
    "\n",
    "    x = 0\n",
    "    for train_index, test_index in kfold.split(data_matrix_without_nan):\n",
    "        train = data_matrix_without_nan[train_index, :]\n",
    "        test = data_matrix_without_nan[test_index, :]\n",
    "\n",
    "        proc = PLT_processor(0, k)\n",
    "        train_acc = proc.train_process(train)\n",
    "        test_acc = proc.process(train, test)\n",
    "        \n",
    "        train_temp[x] = train_acc[tops]\n",
    "        test_temp[x] = test_acc[tops]\n",
    "        x+=1\n",
    "\n",
    "    for i in range(5):\n",
    "        # print(train_temp.std(axis=0))\n",
    "        k_acc_top_train[j, i*2] = train_temp.mean(axis=0)[i]\n",
    "        k_acc_top_train[j, i*2+1] = train_temp.std(axis=0)[i]\n",
    "\n",
    "        k_acc_top_test[j, i*2] = test_temp.mean(axis=0)[i]\n",
    "        k_acc_top_test[j, i*2+1] = test_temp.std(axis=0)[i]\n",
    "\n",
    "\n",
    "    j+=1\n",
    "    print(\"K =\", k)\n",
    "    "
   ]
  },
  {
   "cell_type": "code",
   "execution_count": 134,
   "metadata": {},
   "outputs": [
    {
     "data": {
      "image/png": "[encoded data removed]",
      "text/plain": [
       "<Figure size 100x100 with 5 Axes>"
      ]
     },
     "execution_count": 134,
     "metadata": {},
     "output_type": "execute_result"
    }
   ],
   "source": [
    "from numpy import size\n",
    "from plotnine import *\n",
    "import patchworklib as pw\n",
    "\n",
    "p1 = (\n",
    "    ggplot()+\n",
    "    aes(x=rango, color='')+\n",
    "    geom_line(aes(y=k_acc_top_test[:,0], color=\"'top 1'\"))+\n",
    "    geom_errorbar(aes(ymin = k_acc_top_test[:,0]-k_acc_top_test[:,1], ymax = k_acc_top_test[:,0]+k_acc_top_test[:,1], color=\"'top 1'\"))+\n",
    "    geom_line(aes(y=k_acc_top_test[:,2], color=\"'top 3'\"))+\n",
    "    geom_errorbar(aes(ymin = k_acc_top_test[:,2]-k_acc_top_test[:,3], ymax = k_acc_top_test[:,2]+k_acc_top_test[:,3], color=\"'top 3'\"))+\n",
    "    geom_line(aes(y=k_acc_top_test[:,4], color=\"'top 5'\"))+\n",
    "    geom_errorbar(aes(ymin = k_acc_top_test[:,4]-k_acc_top_test[:,5], ymax = k_acc_top_test[:,4]+k_acc_top_test[:,5], color=\"'top 5'\"))+\n",
    "    geom_line(aes(y=k_acc_top_test[:,6], color=\"'top 10'\"))+\n",
    "    geom_errorbar(aes(ymin = k_acc_top_test[:,6]-k_acc_top_test[:,7], ymax = k_acc_top_test[:,6]+k_acc_top_test[:,7], color=\"'top 10'\"))+\n",
    "    geom_line(aes(y=k_acc_top_test[:,8], color=\"'top 50'\"))+\n",
    "    geom_errorbar(aes(ymin = k_acc_top_test[:,8]-k_acc_top_test[:,9], ymax = k_acc_top_test[:,8]+k_acc_top_test[:,9], color=\"'top 50'\"))+\n",
    "    xlab(\"Numero de clusters\")+\n",
    "    ylab(\"Accuracy\")+\n",
    "    ggtitle(\"Test dataset\")+\n",
    "    theme_bw()+\n",
    "    theme(legend_position = (0.6, 0.25))+\n",
    "    scale_y_continuous(limits = (0.1, 0.9))\n",
    ")\n",
    "\n",
    "p2 = (\n",
    "    ggplot()+\n",
    "    aes(x=rango, color='')+\n",
    "    geom_line(aes(y=k_acc_top_train[:,0], color=\"'top 1'\"))+\n",
    "    geom_errorbar(aes(ymin = k_acc_top_train[:,0]-k_acc_top_train[:,1], ymax = k_acc_top_train[:,0]+k_acc_top_train[:,1], color=\"'top 1'\"))+\n",
    "    geom_line(aes(y=k_acc_top_train[:,2], color=\"'top 3'\"))+\n",
    "    geom_errorbar(aes(ymin = k_acc_top_train[:,2]-k_acc_top_train[:,3], ymax = k_acc_top_train[:,2]+k_acc_top_train[:,3], color=\"'top 3'\"))+\n",
    "    geom_line(aes(y=k_acc_top_train[:,4], color=\"'top 5'\"))+\n",
    "    geom_errorbar(aes(ymin = k_acc_top_train[:,4]-k_acc_top_train[:,5], ymax = k_acc_top_train[:,4]+k_acc_top_train[:,5], color=\"'top 5'\"))+\n",
    "    geom_line(aes(y=k_acc_top_train[:,6], color=\"'top 10'\"))+\n",
    "    geom_errorbar(aes(ymin = k_acc_top_train[:,6]-k_acc_top_train[:,7], ymax = k_acc_top_train[:,6]+k_acc_top_train[:,7], color=\"'top 10'\"))+\n",
    "    geom_line(aes(y=k_acc_top_train[:,8], color=\"'top 50'\"))+\n",
    "    geom_errorbar(aes(ymin = k_acc_top_train[:,8]-k_acc_top_train[:,9], ymax = k_acc_top_train[:,8]+k_acc_top_train[:,9], color=\"'top 50'\"))+\n",
    "    xlab(\"Numero de clusters\")+\n",
    "    ylab(\"Accuracy\")+\n",
    "    ggtitle(\"Train dataset\")+\n",
    "    theme_bw()+\n",
    "    theme(legend_position = (0.6, 0.25))+\n",
    "    scale_y_continuous(limits = (0.1, 0.9))\n",
    ")\n",
    "\n",
    "\n",
    "\n",
    "p1 = pw.load_ggplot(p1, figsize=(4,3))\n",
    "p2 = pw.load_ggplot(p2, figsize=(4,3))\n",
    "\n",
    "p12 = (p2|p1)\n",
    "# p12.set_text(text=\"CPN generator\",x=0.4,y=1.1, size=20)\n",
    "p12.savefig()"
   ]
  },
  {
   "cell_type": "code",
   "execution_count": 121,
   "metadata": {},
   "outputs": [
    {
     "data": {
      "image/png": "[encoded data removed]",
      "text/plain": [
       "<Figure size 100x100 with 5 Axes>"
      ]
     },
     "execution_count": 121,
     "metadata": {},
     "output_type": "execute_result"
    }
   ],
   "source": [
    "from plotnine import *\n",
    "import patchworklib as pw\n",
    "\n",
    "p1 = (\n",
    "    ggplot()+\n",
    "    aes(x=rango, color='')+\n",
    "    geom_line(aes(y=k_acc_top_test[:,0], color=\"'top 1'\"))+\n",
    "    geom_line(aes(y=k_acc_top_test[:,0]-k_acc_top_test[:,1], color=\"'top 1'\"), linetype='dashed')+\n",
    "    geom_line(aes(y=k_acc_top_test[:,0]+k_acc_top_test[:,1], color=\"'top 1'\"), linetype='dashed')+\n",
    "    # geom_errorbar(aes(ymin = k_acc_top_test[:,0], ymax = k_acc_top_test[:,0]+k_acc_top_test[:,1], color=\"'top 1'\"))+\n",
    "    geom_line(aes(y=k_acc_top_test[:,2], color=\"'top 3'\"))+\n",
    "    geom_line(aes(y=k_acc_top_test[:,2]-k_acc_top_test[:,3], color=\"'top 3'\"), linetype='dashed')+\n",
    "    geom_line(aes(y=k_acc_top_test[:,2]+k_acc_top_test[:,3], color=\"'top 3'\"), linetype='dashed')+\n",
    "    # geom_errorbar(aes(ymin = k_acc_top_test[:,2]-k_acc_top_test[:,3], ymax = k_acc_top_test[:,2]+k_acc_top_test[:,3], color=\"'top 3'\"))+\n",
    "    geom_line(aes(y=k_acc_top_test[:,4], color=\"'top 5'\"))+\n",
    "    geom_line(aes(y=k_acc_top_test[:,4]-k_acc_top_test[:,5], color=\"'top 5'\"), linetype='dashed')+\n",
    "    geom_line(aes(y=k_acc_top_test[:,4]+k_acc_top_test[:,5], color=\"'top 5'\"), linetype='dashed')+\n",
    "    # geom_errorbar(aes(ymin = k_acc_top_test[:,4]-k_acc_top_test[:,5], ymax = k_acc_top_test[:,4]+k_acc_top_test[:,5], color=\"'top 5'\"))+\n",
    "    geom_line(aes(y=k_acc_top_test[:,6], color=\"'top 10'\"))+\n",
    "    geom_line(aes(y=k_acc_top_test[:,6]-k_acc_top_test[:,7], color=\"'top 10'\"), linetype='dashed')+\n",
    "    geom_line(aes(y=k_acc_top_test[:,6]+k_acc_top_test[:,7], color=\"'top 10'\"), linetype='dashed')+\n",
    "    # geom_errorbar(aes(ymin = k_acc_top_test[:,6]-k_acc_top_test[:,7], ymax = k_acc_top_test[:,6]+k_acc_top_test[:,7], color=\"'top 10'\"))+\n",
    "    geom_line(aes(y=k_acc_top_test[:,8], color=\"'top 50'\"))+\n",
    "    geom_line(aes(y=k_acc_top_test[:,8]-k_acc_top_test[:,9], color=\"'top 50'\"), linetype='dashed')+\n",
    "    geom_line(aes(y=k_acc_top_test[:,8]+k_acc_top_test[:,9], color=\"'top 50'\"), linetype='dashed')+\n",
    "    # geom_errorbar(aes(ymin = k_acc_top_test[:,8]-k_acc_top_test[:,9], ymax = k_acc_top_test[:,8]+k_acc_top_test[:,9], color=\"'top 50'\"))+\n",
    "    xlab(\"Numero de clusters\")+\n",
    "    ylab(\"Accuracy\")+\n",
    "    ggtitle(\"Test dataset\")+\n",
    "    theme_bw()+\n",
    "    theme(legend_position = (0.6, 0.25))+\n",
    "    scale_y_continuous(limits = (0.1, 0.9))\n",
    ")\n",
    "\n",
    "p2 = (\n",
    "    ggplot()+\n",
    "    aes(x=rango, color='')+\n",
    "    geom_line(aes(y=k_acc_top_train[:,0], color=\"'top 1'\"))+\n",
    "    geom_line(aes(y=k_acc_top_train[:,0]-k_acc_top_train[:,1], color=\"'top 1'\"), linetype='dashed')+\n",
    "    geom_line(aes(y=k_acc_top_train[:,0]+k_acc_top_train[:,1], color=\"'top 1'\"), linetype='dashed')+\n",
    "    # geom_errorbar(aes(ymin = k_acc_top_train[:,0]-k_acc_top_train[:,1], ymax = k_acc_top_train[:,0]+k_acc_top_train[:,1], color=\"'top 1'\"))+\n",
    "    geom_line(aes(y=k_acc_top_train[:,2], color=\"'top 3'\"))+\n",
    "    geom_line(aes(y=k_acc_top_train[:,2]-k_acc_top_train[:,3], color=\"'top 3'\"), linetype='dashed')+\n",
    "    geom_line(aes(y=k_acc_top_train[:,2]+k_acc_top_train[:,3], color=\"'top 3'\"), linetype='dashed')+\n",
    "    # geom_errorbar(aes(ymin = k_acc_top_train[:,2]-k_acc_top_train[:,3], ymax = k_acc_top_train[:,2]+k_acc_top_train[:,3], color=\"'top 3'\"))+\n",
    "    geom_line(aes(y=k_acc_top_train[:,4], color=\"'top 5'\"))+\n",
    "    geom_line(aes(y=k_acc_top_train[:,4]-k_acc_top_train[:,5], color=\"'top 5'\"), linetype='dashed')+\n",
    "    geom_line(aes(y=k_acc_top_train[:,4]+k_acc_top_train[:,5], color=\"'top 5'\"), linetype='dashed')+\n",
    "    # geom_errorbar(aes(ymin = k_acc_top_train[:,4]-k_acc_top_train[:,5], ymax = k_acc_top_train[:,4]+k_acc_top_train[:,5], color=\"'top 5'\"))+\n",
    "    geom_line(aes(y=k_acc_top_train[:,6], color=\"'top 10'\"))+\n",
    "    geom_line(aes(y=k_acc_top_train[:,6]-k_acc_top_train[:,7], color=\"'top 10'\"), linetype='dashed')+\n",
    "    geom_line(aes(y=k_acc_top_train[:,6]+k_acc_top_train[:,7], color=\"'top 10'\"), linetype='dashed')+\n",
    "    # geom_errorbar(aes(ymin = k_acc_top_train[:,6]-k_acc_top_train[:,7], ymax = k_acc_top_train[:,6]+k_acc_top_train[:,7], color=\"'top 10'\"))+\n",
    "    geom_line(aes(y=k_acc_top_train[:,8], color=\"'top 50'\"))+\n",
    "    geom_line(aes(y=k_acc_top_train[:,8]-k_acc_top_train[:,9], color=\"'top 50'\"), linetype='dashed')+\n",
    "    geom_line(aes(y=k_acc_top_train[:,8]+k_acc_top_train[:,9], color=\"'top 50'\"), linetype='dashed')+\n",
    "    # geom_errorbar(aes(ymin = k_acc_top_train[:,8]-k_acc_top_train[:,9], ymax = k_acc_top_train[:,8]+k_acc_top_train[:,9], color=\"'top 50'\"))+\n",
    "    xlab(\"Numero de clusters\")+\n",
    "    ylab(\"Accuracy\")+\n",
    "    ggtitle(\"Train dataset\")+\n",
    "    theme_bw()+\n",
    "    theme(legend_position = (0.6, 0.25))+\n",
    "    scale_y_continuous(limits = (0.1, 0.9))\n",
    ")\n",
    "\n",
    "p1 = pw.load_ggplot(p1, figsize=(4,3))\n",
    "p2 = pw.load_ggplot(p2, figsize=(4,3))\n",
    "\n",
    "p12 = (p2|p1)\n",
    "p12.savefig()"
   ]
  },
  {
   "cell_type": "code",
   "execution_count": 16,
   "metadata": {},
   "outputs": [],
   "source": [
    "from sklearn.model_selection import KFold\n",
    "rango = range(25,1301,25)\n",
    "k_acc = np.zeros(len(rango))\n",
    "j = 0\n",
    "for k in rango:\n",
    "    kfold=KFold(n_splits=5)\n",
    "\n",
    "    temp = np.zeros(5)\n",
    "    i=0\n",
    "    for train_index, test_index in kfold.split(data_matrix_without_nan):\n",
    "        train = data_matrix_without_nan[train_index, :]\n",
    "        test = data_matrix_without_nan[test_index, :]\n",
    "\n",
    "        proc = PLT_processor(0, k)\n",
    "        acc = proc.process(train, test)\n",
    "\n",
    "        temp[i] = acc[0]\n",
    "        i+=1\n",
    "    k_acc[j] = temp.mean()\n",
    "    j+=1"
   ]
  },
  {
   "cell_type": "code",
   "execution_count": 17,
   "metadata": {},
   "outputs": [
    {
     "data": {
      "image/png": "[encoded data removed]",
      "text/plain": [
       "<Figure size 640x480 with 1 Axes>"
      ]
     },
     "metadata": {},
     "output_type": "display_data"
    },
    {
     "data": {
      "text/plain": [
       "<ggplot: (202949055726)>"
      ]
     },
     "execution_count": 17,
     "metadata": {},
     "output_type": "execute_result"
    }
   ],
   "source": [
    "(ggplot()+aes(x=rango, y=k_acc)+geom_line())"
   ]
  },
  {
   "cell_type": "markdown",
   "metadata": {},
   "source": [
    "# Lematización"
   ]
  },
  {
   "cell_type": "code",
   "execution_count": 13,
   "metadata": {},
   "outputs": [],
   "source": [
    "# LEMATIZACION\n",
    "pd.options.mode.chained_assignment = None # Para evitar que se muestre warnings\n",
    "\n",
    "# Normalizacion de los conceptos, descripciones y codificaciones\n",
    "for i in range(len(data)):\n",
    "    data['Descripción'][i] = lematize(clean_text(data['Descripción'][i]))"
   ]
  },
  {
   "cell_type": "code",
   "execution_count": 14,
   "metadata": {},
   "outputs": [
    {
     "name": "stderr",
     "output_type": "stream",
     "text": [
      "C:\\Users\\dra98\\AppData\\Local\\Temp\\ipykernel_13472\\2310962255.py:42: RuntimeWarning: invalid value encountered in true_divide\n",
      "  return vec / np.linalg.norm(vec) # divides the vector by their normal\n"
     ]
    }
   ],
   "source": [
    "# Creation of the matrix to make the clustering process\n",
    "descriptions_matrix_lema = np.zeros( # creatign an empty matrix\n",
    "    (\n",
    "        len(data), # the number of data points\n",
    "        len(model['hola']) # the number of components of the word embedding\n",
    "    )\n",
    ")\n",
    "\n",
    "# matrix filling \n",
    "for i,description in enumerate(data['Descripción']):\n",
    "    vector = to_vector(description,model)\n",
    "    descriptions_matrix_lema[i,] = vector\n",
    "\n",
    "# Concatenate the matrix with the data of each observation\n",
    "data_matrix_lema = np.concatenate([descriptions_matrix_lema,data], axis=1)\n",
    "\n",
    "#--------------------------------------------------------------------------------------\n",
    "# This is the important matrix\n",
    "# Remove of the 'Nan' data\n",
    "data_matrix_without_nan_lema = data_matrix_lema[~pd.isnull(data_matrix_lema[:,:300]).any(axis=1)]\n",
    "#--------------------------------------------------------------------------------------\n",
    "\n",
    "# reduce the matrix to the importan\n",
    "data_matrix_without_nan_lema = np.concatenate(\n",
    "    (data_matrix_without_nan_lema[:,:300],                       # Vector of the description\n",
    "    np.reshape(data_matrix_without_nan_lema[:,302], (-1, 1)),    # Cue/Concept\n",
    "    np.reshape(data_matrix_without_nan_lema[:,306], (-1, 1)),    # Codification\n",
    "    np.reshape(data_matrix_without_nan_lema[:,303], (-1, 1))     # Description of the cue\n",
    "    ),\n",
    "    axis = 1\n",
    ")"
   ]
  },
  {
   "cell_type": "code",
   "execution_count": 15,
   "metadata": {},
   "outputs": [
    {
     "name": "stdout",
     "output_type": "stream",
     "text": [
      "0.37314590619675364\n",
      "0.008359342386674962\n"
     ]
    }
   ],
   "source": [
    "from sklearn.model_selection import KFold\n",
    "\n",
    "kfold=KFold(n_splits=5)\n",
    "\n",
    "method0_acc_lema = np.zeros(5)\n",
    "i=0\n",
    "\n",
    "for train_index, test_index in kfold.split(data_matrix_without_nan_lema):\n",
    "    train = data_matrix_without_nan_lema[train_index, :]\n",
    "    test = data_matrix_without_nan_lema[test_index, :]\n",
    "\n",
    "    proc = PLT_processor(0)\n",
    "    acc = proc.process(train, test)\n",
    "\n",
    "    method0_acc_lema[i] = acc[0]\n",
    "    i+=1\n",
    "\n",
    "print(method0_acc_lema.mean())\n",
    "print(method0_acc_lema.std())"
   ]
  },
  {
   "cell_type": "code",
   "execution_count": 16,
   "metadata": {},
   "outputs": [
    {
     "name": "stdout",
     "output_type": "stream",
     "text": [
      "[0.37314591 0.43540467 0.45467559 0.47860551 0.54383172]\n",
      "[0.00835934 0.01772537 0.01895787 0.02074918 0.02084749]\n"
     ]
    }
   ],
   "source": [
    "# K = 500\n",
    "# Top 1, 3, 5, 10, 50\n",
    "from sklearn.model_selection import KFold\n",
    "\n",
    "kfold=KFold(n_splits=5)\n",
    "k500_acc_top_lema = np.zeros((5, 5))\n",
    "\n",
    "tops=(0,2,4,9,49)\n",
    "\n",
    "i=0\n",
    "\n",
    "for train_index, test_index in kfold.split(data_matrix_without_nan_lema):\n",
    "    train = data_matrix_without_nan_lema[train_index, :]\n",
    "    test = data_matrix_without_nan_lema[test_index, :]\n",
    "\n",
    "    proc = PLT_processor(0)\n",
    "    acc = proc.process(train, test)\n",
    "\n",
    "    for j in range(len(tops)):\n",
    "        k500_acc_top_lema[i,j] = acc[tops[j]]\n",
    "\n",
    "    i+=1\n",
    "\n",
    "print(k500_acc_top_lema.mean(axis=0))\n",
    "print(k500_acc_top_lema.std(axis=0))"
   ]
  },
  {
   "cell_type": "code",
   "execution_count": 17,
   "metadata": {},
   "outputs": [
    {
     "name": "stdout",
     "output_type": "stream",
     "text": [
      "[0.41295893 0.47966797 0.50190387 0.5326121  0.60186194]\n",
      "[0.00915189 0.01504963 0.01883569 0.02297872 0.02049078]\n"
     ]
    }
   ],
   "source": [
    "# K = 1000\n",
    "# Top 1, 3, 5, 10, 50\n",
    "from sklearn.model_selection import KFold\n",
    "\n",
    "kfold=KFold(n_splits=5)\n",
    "k1000_acc_top_lema = np.zeros((5, 5))\n",
    "\n",
    "tops=(0,2,4,9,49)\n",
    "\n",
    "i=0\n",
    "\n",
    "for train_index, test_index in kfold.split(data_matrix_without_nan_lema):\n",
    "    train = data_matrix_without_nan_lema[train_index, :]\n",
    "    test = data_matrix_without_nan_lema[test_index, :]\n",
    "\n",
    "    proc = PLT_processor(0, n_clusters=1000)\n",
    "    acc = proc.process(train, test)\n",
    "\n",
    "    for j in range(len(tops)):\n",
    "        k1000_acc_top_lema[i,j] = acc[tops[j]]\n",
    "\n",
    "    i+=1\n",
    "\n",
    "print(k1000_acc_top_lema.mean(axis=0))\n",
    "print(k1000_acc_top_lema.std(axis=0))"
   ]
  },
  {
   "cell_type": "code",
   "execution_count": 18,
   "metadata": {},
   "outputs": [
    {
     "name": "stdout",
     "output_type": "stream",
     "text": [
      "[0.47034997 0.56522554 0.594874   0.6395599  0.71897162]\n",
      "[0.01662509 0.01338511 0.01764642 0.02015586 0.02310927]\n"
     ]
    }
   ],
   "source": [
    "# K = N\n",
    "# Top 1, 3, 5, 10, 50\n",
    "from sklearn.model_selection import KFold\n",
    "\n",
    "kfold=KFold(n_splits=5)\n",
    "kn_acc_top_lema = np.zeros((5, 5))\n",
    "\n",
    "tops=(0,2,4,9,49)\n",
    "\n",
    "i=0\n",
    "\n",
    "for train_index, test_index in kfold.split(data_matrix_without_nan_lema):\n",
    "    train = data_matrix_without_nan_lema[train_index, :]\n",
    "    test = data_matrix_without_nan_lema[test_index, :]\n",
    "\n",
    "    proc = PLT_processor(0, n_clusters=len(train))\n",
    "    acc = proc.process(train, test)\n",
    "\n",
    "    for j in range(len(tops)):\n",
    "        kn_acc_top_lema[i,j] = acc[tops[j]]\n",
    "\n",
    "    i+=1\n",
    "\n",
    "print(kn_acc_top_lema.mean(axis=0))\n",
    "print(kn_acc_top_lema.std(axis=0))"
   ]
  }
 ],
 "metadata": {
  "interpreter": {
   "hash": "f86d5b59def65e88dbeda6389e0ae43ef80c1809fa447fa67ec7c4f0e393c674"
  },
  "kernelspec": {
   "display_name": "Python 3.8.6 64-bit",
   "language": "python",
   "name": "python3"
  },
  "language_info": {
   "codemirror_mode": {
    "name": "ipython",
    "version": 3
   },
   "file_extension": ".py",
   "mimetype": "text/x-python",
   "name": "python",
   "nbconvert_exporter": "python",
   "pygments_lexer": "ipython3",
   "version": "3.8.6"
  },
  "orig_nbformat": 4
 },
 "nbformat": 4,
 "nbformat_minor": 2
}
