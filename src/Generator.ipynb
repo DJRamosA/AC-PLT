{
 "cells": [
  {
   "cell_type": "markdown",
   "metadata": {},
   "source": [
    "# CPN generator"
   ]
  },
  {
   "cell_type": "code",
   "execution_count": 1,
   "metadata": {},
   "outputs": [],
   "source": [
    "import pandas as pd\n",
    "import numpy as np\n",
    "import spacy\n",
    "import gensim\n",
    "from collections import Counter \n",
    "import sklearn.cluster\n",
    "import random\n",
    "\n",
    "random.seed(0)"
   ]
  },
  {
   "cell_type": "code",
   "execution_count": 2,
   "metadata": {},
   "outputs": [],
   "source": [
    "# data import\n",
    "data = pd.read_excel(r'../data/Datos Codificados Estudio v2a.xlsx')\n",
    "model = gensim.models.KeyedVectors.load_word2vec_format( \n",
    "    r'../Data/SBW-vectors-300-min5.bin', # using the spanish billion words embeddings\n",
    "    binary=True # the model is in binary format\n",
    ")"
   ]
  },
  {
   "cell_type": "code",
   "execution_count": 3,
   "metadata": {},
   "outputs": [],
   "source": [
    "# Configuracion de spacy\n",
    "nlp = spacy.load('es_core_news_sm')\n",
    "# nlp.Defaults.stop_words.add(\"my_new_stopword\")"
   ]
  },
  {
   "cell_type": "markdown",
   "metadata": {},
   "source": [
    "## Funciones Importantes"
   ]
  },
  {
   "cell_type": "code",
   "execution_count": 4,
   "metadata": {},
   "outputs": [],
   "source": [
    "\n",
    "def clean_text(text):\n",
    "    \"\"\"\n",
    "    Recive a string and return the string in tokens without punctuations\n",
    "    and in lowercase\n",
    "    \"\"\"\n",
    "    # for each token in the sentence add to the list if is not a punctuation\n",
    "    return [t for t in nlp(text.lower()) if not t.is_punct]\n",
    "\n",
    "\n",
    "def normalize(tokens):\n",
    "    \"\"\"\n",
    "    Recive al list of string and return in one string without stop words\n",
    "    \"\"\"\n",
    "    # for each token if is not a stop word add the word to the list\n",
    "    words = [t.orth_ for t in tokens if not t.is_stop]\n",
    "\n",
    "    # return the tokens in one string\n",
    "    return(\" \".join(words))\n",
    "\n",
    "\n",
    "def lematize(tokens):\n",
    "    \"\"\"\n",
    "    Recive al list of string and return in one string without stop words \n",
    "    and Lematized\n",
    "    \"\"\"\n",
    "    # for each token if is not a stop word add the lemma of the word in the list\n",
    "    lemmas = [t.lemma_ for t in tokens if not t.is_stop]\n",
    "\n",
    "    # return the tokens in one string\n",
    "    return(\" \".join(lemmas))\n",
    "\n",
    "def to_vector(texto,model):\n",
    "    \"\"\" \n",
    "    Receives a sentence string along with a word embedding model and \n",
    "    returns the vector representation of the sentence\n",
    "    \"\"\"\n",
    "    tokens = texto.split() # splits the text by space and returns a list of words\n",
    "    vec = np.zeros(300) # creates an empty vector of 300 dimensions\n",
    "    for word in tokens: # iterates over the sentence\n",
    "        if word in model: # checks if the word is both in the word embedding\n",
    "            vec += model[word] # adds every word embedding to the vector\n",
    "    return vec / np.linalg.norm(vec) # divides the vector by their normal\n"
   ]
  },
  {
   "cell_type": "markdown",
   "metadata": {},
   "source": [
    "# Preprocesamiento de los datos"
   ]
  },
  {
   "cell_type": "code",
   "execution_count": 5,
   "metadata": {},
   "outputs": [],
   "source": [
    "pd.options.mode.chained_assignment = None # Para evitar que se muestre warnings\n",
    "\n",
    "# Normalizacion de los conceptos, descripciones y codificaciones\n",
    "for i in range(len(data)):\n",
    "    data['Descripción'][i] = normalize(clean_text(data['Descripción'][i]))"
   ]
  },
  {
   "cell_type": "markdown",
   "metadata": {},
   "source": [
    "## Generación de Matriz de los datos"
   ]
  },
  {
   "cell_type": "code",
   "execution_count": 8,
   "metadata": {},
   "outputs": [
    {
     "name": "stderr",
     "output_type": "stream",
     "text": [
      "<ipython-input-4-89365e79bd8b>:42: RuntimeWarning: invalid value encountered in true_divide\n",
      "  return vec / np.linalg.norm(vec) # divides the vector by their normal\n"
     ]
    }
   ],
   "source": [
    "# Creation of the matrix to make the clustering process\n",
    "descriptions_matrix = np.zeros( # creatign an empty matrix\n",
    "    (\n",
    "        len(data), # the number of data points\n",
    "        len(model['hola']) # the number of components of the word embedding\n",
    "    )\n",
    ")\n",
    "\n",
    "# matrix filling \n",
    "for i,description in enumerate(data['Descripción']):\n",
    "    vector = to_vector(description,model)\n",
    "    descriptions_matrix[i,] = vector\n",
    "\n",
    "# Concatenate the matrix with the data of each observation\n",
    "data_matrix = np.concatenate([descriptions_matrix,data], axis=1)\n",
    "\n",
    "#--------------------------------------------------------------------------------------\n",
    "# This is the important matrix\n",
    "# Remove of the 'Nan' data\n",
    "data_matrix_without_nan = data_matrix[~pd.isnull(data_matrix[:,:300]).any(axis=1)]\n",
    "#--------------------------------------------------------------------------------------\n",
    "\n",
    "# reduce the matrix to the importan\n",
    "data_matrix_without_nan = np.concatenate(\n",
    "    (data_matrix_without_nan[:,:300],                       # Vector of the description\n",
    "    np.reshape(data_matrix_without_nan[:,302], (-1, 1)),    # Cue/Concept\n",
    "    np.reshape(data_matrix_without_nan[:,306], (-1, 1)),    # Codification\n",
    "    np.reshape(data_matrix_without_nan[:,303], (-1, 1))     # Description of the cue\n",
    "    ),\n",
    "    axis = 1\n",
    ")"
   ]
  },
  {
   "cell_type": "markdown",
   "metadata": {},
   "source": [
    "## Testing random generations"
   ]
  },
  {
   "cell_type": "code",
   "execution_count": 18,
   "metadata": {},
   "outputs": [],
   "source": [
    "# Generation of test-train data\n",
    "\n",
    "from sklearn.model_selection import KFold\n",
    "\n",
    "kfold=KFold(n_splits=5)"
   ]
  },
  {
   "cell_type": "code",
   "execution_count": 13,
   "metadata": {},
   "outputs": [
    {
     "name": "stdout",
     "output_type": "stream",
     "text": [
      "0.0012545743104104092\n",
      "0.0010250251045891628\n"
     ]
    }
   ],
   "source": [
    "rand_acc = []\n",
    "for train_index, test_index in kfold.split(data_matrix_without_nan):\n",
    "    \n",
    "    train = data_matrix_without_nan[train_index,:]\n",
    "    test = data_matrix_without_nan[test_index,:]\n",
    "\n",
    "    train_codes=np.unique(train[:,301])\n",
    "\n",
    "    len_test = len(test)\n",
    "    counter = 0\n",
    "    for i in range(len_test):\n",
    "        counter += test[i,301] == np.random.choice(train_codes)\n",
    "    rand_acc.append(counter/len_test)\n",
    "\n",
    "print(np.mean(rand_acc))\n",
    "print(np.std(rand_acc))\n"
   ]
  },
  {
   "cell_type": "code",
   "execution_count": 19,
   "metadata": {},
   "outputs": [
    {
     "name": "stdout",
     "output_type": "stream",
     "text": [
      "0.003554080700235656\n",
      "0.0022524367186731293\n"
     ]
    }
   ],
   "source": [
    "rand_acc_top3 = []\n",
    "for train_index, test_index in kfold.split(data_matrix_without_nan):\n",
    "    \n",
    "    train = data_matrix_without_nan[train_index,:]\n",
    "    test = data_matrix_without_nan[test_index,:]\n",
    "\n",
    "    train_codes=np.unique(train[:,301])\n",
    "\n",
    "    len_test = len(test)\n",
    "    counter = 0\n",
    "    for i in range(len_test):\n",
    "        for _ in range(3):\n",
    "            val = test[i,301] == np.random.choice(train_codes)\n",
    "            if val:\n",
    "                counter += val\n",
    "                break\n",
    "    rand_acc_top3.append(counter/len_test)\n",
    "\n",
    "print(np.mean(rand_acc_top3))\n",
    "print(np.std(rand_acc_top3))"
   ]
  },
  {
   "cell_type": "code",
   "execution_count": 70,
   "metadata": {},
   "outputs": [
    {
     "name": "stdout",
     "output_type": "stream",
     "text": [
      "0.005225972027299397\n",
      "0.0011458654681946521\n"
     ]
    }
   ],
   "source": [
    "rand_acc_top5 = []\n",
    "for train_index, test_index in kfold.split(data_matrix_without_nan):\n",
    "    \n",
    "    train = data_matrix_without_nan[train_index,:]\n",
    "    test = data_matrix_without_nan[test_index,:]\n",
    "\n",
    "    train_codes=np.unique(train[:,301])\n",
    "\n",
    "    len_test = len(test)\n",
    "    counter = 0\n",
    "    for i in range(len_test):\n",
    "        for _ in range(5):\n",
    "            val = test[i,301] == np.random.choice(train_codes)\n",
    "            if val:\n",
    "                counter += val\n",
    "                break\n",
    "    rand_acc_top5.append(counter/len_test)\n",
    "\n",
    "print(np.mean(rand_acc_top5))\n",
    "print(np.std(rand_acc_top5))"
   ]
  },
  {
   "cell_type": "code",
   "execution_count": 75,
   "metadata": {},
   "outputs": [
    {
     "name": "stdout",
     "output_type": "stream",
     "text": [
      "0.009197369744188385\n",
      "0.0019156108352290523\n"
     ]
    }
   ],
   "source": [
    "rand_acc_top10 = []\n",
    "for train_index, test_index in kfold.split(data_matrix_without_nan):\n",
    "    \n",
    "    train = data_matrix_without_nan[train_index,:]\n",
    "    test = data_matrix_without_nan[test_index,:]\n",
    "\n",
    "    train_codes=np.unique(train[:,301])\n",
    "\n",
    "    len_test = len(test)\n",
    "    counter = 0\n",
    "    for i in range(len_test):\n",
    "        for _ in range(10):\n",
    "            val = test[i,301] == np.random.choice(train_codes)\n",
    "            if val:\n",
    "                counter += val\n",
    "                break\n",
    "    rand_acc_top10.append(counter/len_test)\n",
    "\n",
    "print(np.mean(rand_acc_top10))\n",
    "print(np.std(rand_acc_top10))"
   ]
  },
  {
   "cell_type": "code",
   "execution_count": 76,
   "metadata": {},
   "outputs": [
    {
     "name": "stdout",
     "output_type": "stream",
     "text": [
      "0.040133261630881024\n",
      "0.00333791220889897\n"
     ]
    }
   ],
   "source": [
    "rand_acc_top50 = []\n",
    "for train_index, test_index in kfold.split(data_matrix_without_nan):\n",
    "    \n",
    "    train = data_matrix_without_nan[train_index,:]\n",
    "    test = data_matrix_without_nan[test_index,:]\n",
    "\n",
    "    train_codes=np.unique(train[:,301])\n",
    "\n",
    "    len_test = len(test)\n",
    "    counter = 0\n",
    "    for i in range(len_test):\n",
    "        for _ in range(50):\n",
    "            val = test[i,301] == np.random.choice(train_codes)\n",
    "            if val:\n",
    "                counter += val\n",
    "                break\n",
    "    rand_acc_top50.append(counter/len_test)\n",
    "\n",
    "print(np.mean(rand_acc_top50))\n",
    "print(np.std(rand_acc_top50))"
   ]
  },
  {
   "cell_type": "code",
   "execution_count": 11,
   "metadata": {},
   "outputs": [
    {
     "name": "stdout",
     "output_type": "stream",
     "text": [
      "0.008152219059736013\n",
      "0.001386527089724892\n"
     ]
    }
   ],
   "source": [
    "rand_concept_acc = []\n",
    "for train_index, test_index in kfold.split(data_matrix_without_nan):\n",
    "\n",
    "    train = data_matrix_without_nan[train_index,:]\n",
    "    test = data_matrix_without_nan[test_index,:]\n",
    "\n",
    "    concept_cluster = {\n",
    "                i:np.unique(train[:,301][train[:,300]==i]) for i in np.unique(train[:,300])\n",
    "                }\n",
    "    \n",
    "    len_test = len(test)\n",
    "    counter = 0\n",
    "    \n",
    "    for i in range(len_test):\n",
    "        counter += test[i,301] == np.random.choice(concept_cluster[test[i,300]])\n",
    "    rand_concept_acc.append(counter/len_test)\n",
    "\n",
    "print(np.mean(rand_concept_acc))\n",
    "print(np.std(rand_concept_acc))\n"
   ]
  },
  {
   "cell_type": "code",
   "execution_count": 20,
   "metadata": {},
   "outputs": [
    {
     "name": "stdout",
     "output_type": "stream",
     "text": [
      "0.030726468260734597\n",
      "0.006755312892493112\n"
     ]
    }
   ],
   "source": [
    "rand_concept_acc_top3 = []\n",
    "for train_index, test_index in kfold.split(data_matrix_without_nan):\n",
    "\n",
    "    train = data_matrix_without_nan[train_index,:]\n",
    "    test = data_matrix_without_nan[test_index,:]\n",
    "\n",
    "    concept_cluster = {\n",
    "                i:np.unique(train[:,301][train[:,300]==i]) for i in np.unique(train[:,300])\n",
    "                }\n",
    "    \n",
    "    len_test = len(test)\n",
    "    counter = 0\n",
    "    \n",
    "    for i in range(len_test):\n",
    "        for _ in range(3):\n",
    "            val = test[i,301] == np.random.choice(concept_cluster[test[i,300]])\n",
    "            if val:\n",
    "                counter += val\n",
    "                break\n",
    "    rand_concept_acc_top3.append(counter/len_test)\n",
    "\n",
    "print(np.mean(rand_concept_acc_top3))\n",
    "print(np.std(rand_concept_acc_top3))"
   ]
  },
  {
   "cell_type": "code",
   "execution_count": 77,
   "metadata": {},
   "outputs": [
    {
     "name": "stdout",
     "output_type": "stream",
     "text": [
      "0.02800964485425602\n",
      "0.002831222395939669\n"
     ]
    }
   ],
   "source": [
    "rand_concept_acc_top5 = []\n",
    "for train_index, test_index in kfold.split(data_matrix_without_nan):\n",
    "\n",
    "    train = data_matrix_without_nan[train_index,:]\n",
    "    test = data_matrix_without_nan[test_index,:]\n",
    "\n",
    "    concept_cluster = {\n",
    "                i:np.unique(train[:,301][train[:,300]==i]) for i in np.unique(train[:,300])\n",
    "                }\n",
    "    \n",
    "    len_test = len(test)\n",
    "    counter = 0\n",
    "    \n",
    "    for i in range(len_test):\n",
    "        for _ in range(3):\n",
    "            val = test[i,301] == np.random.choice(concept_cluster[test[i,300]])\n",
    "            if val:\n",
    "                counter += val\n",
    "                break\n",
    "    rand_concept_acc_top5.append(counter/len_test)\n",
    "\n",
    "print(np.mean(rand_concept_acc_top5))\n",
    "print(np.std(rand_concept_acc_top5))"
   ]
  },
  {
   "cell_type": "code",
   "execution_count": 78,
   "metadata": {},
   "outputs": [
    {
     "name": "stdout",
     "output_type": "stream",
     "text": [
      "0.02613007874153452\n",
      "0.00458795305860302\n"
     ]
    }
   ],
   "source": [
    "rand_concept_acc_top10 = []\n",
    "for train_index, test_index in kfold.split(data_matrix_without_nan):\n",
    "\n",
    "    train = data_matrix_without_nan[train_index,:]\n",
    "    test = data_matrix_without_nan[test_index,:]\n",
    "\n",
    "    concept_cluster = {\n",
    "                i:np.unique(train[:,301][train[:,300]==i]) for i in np.unique(train[:,300])\n",
    "                }\n",
    "    \n",
    "    len_test = len(test)\n",
    "    counter = 0\n",
    "    \n",
    "    for i in range(len_test):\n",
    "        for _ in range(3):\n",
    "            val = test[i,301] == np.random.choice(concept_cluster[test[i,300]])\n",
    "            if val:\n",
    "                counter += val\n",
    "                break\n",
    "    rand_concept_acc_top10.append(counter/len_test)\n",
    "\n",
    "print(np.mean(rand_concept_acc_top10))\n",
    "print(np.std(rand_concept_acc_top10))"
   ]
  },
  {
   "cell_type": "code",
   "execution_count": 79,
   "metadata": {},
   "outputs": [
    {
     "name": "stdout",
     "output_type": "stream",
     "text": [
      "0.029055669958858533\n",
      "0.004151915381321839\n"
     ]
    }
   ],
   "source": [
    "rand_concept_acc_top50 = []\n",
    "for train_index, test_index in kfold.split(data_matrix_without_nan):\n",
    "\n",
    "    train = data_matrix_without_nan[train_index,:]\n",
    "    test = data_matrix_without_nan[test_index,:]\n",
    "\n",
    "    concept_cluster = {\n",
    "                i:np.unique(train[:,301][train[:,300]==i]) for i in np.unique(train[:,300])\n",
    "                }\n",
    "    \n",
    "    len_test = len(test)\n",
    "    counter = 0\n",
    "    \n",
    "    for i in range(len_test):\n",
    "        for _ in range(3):\n",
    "            val = test[i,301] == np.random.choice(concept_cluster[test[i,300]])\n",
    "            if val:\n",
    "                counter += val\n",
    "                break\n",
    "    rand_concept_acc_top50.append(counter/len_test)\n",
    "\n",
    "print(np.mean(rand_concept_acc_top50))\n",
    "print(np.std(rand_concept_acc_top50))"
   ]
  },
  {
   "cell_type": "markdown",
   "metadata": {},
   "source": [
    "## Model Creation"
   ]
  },
  {
   "cell_type": "code",
   "execution_count": 12,
   "metadata": {},
   "outputs": [],
   "source": [
    "# Class creation\n",
    "class PLT_processor:\n",
    "\n",
    "    def __init__(self, method = 0, n_clusters = 500):\n",
    "        \"\"\"\n",
    "        Recives the type of method to use, \n",
    "        - 0: Clasify using K-Means (Simple)\n",
    "        - 1: Clasify to the codification with the same concept \n",
    "        \"\"\"\n",
    "        self.n_clusters = n_clusters\n",
    "        self.method = method # Method of Processing the data\n",
    "        self.KMeans_dict = {}\n",
    "        self.KMeans_categories = {}\n",
    "\n",
    "        if method == 1:\n",
    "            self.inverse_concept_cluster = {}\n",
    "            self.concept_cluster = {}\n",
    "\n",
    "        self.topk = np.zeros((test.shape[0],500))\n",
    "\n",
    "    def most_frequent(self, List): \n",
    "        \"\"\"\n",
    "        Recives a list of words, and return the word most frequente of\n",
    "        the list\n",
    "        \"\"\"\n",
    "        # ? Agregar la frase 'PENDIENTE' en caso de que haya multiples codificaciones con la misma frecuencia ?\n",
    "        occurence_count = Counter(List) \n",
    "        return occurence_count.most_common(1)[0][0] \n",
    "\n",
    "\n",
    "    def model_train(self, train):\n",
    "        \"\"\"\n",
    "        Recives the train dataset and the number of clusters to train \n",
    "        the k-means model\n",
    "        \"\"\"\n",
    "        # creates de k-means object\n",
    "        self.kemean = sklearn.cluster.KMeans(n_clusters=self.n_clusters, random_state=0)\n",
    "        # Train the k-means algorithm\n",
    "        self.kemean.fit(train[:,:300])\n",
    "\n",
    "        # print(self.kemean.n_clusters)\n",
    "        # Dataframe of train dataset\n",
    "        df = pd.DataFrame(\n",
    "            np.concatenate([\n",
    "                np.reshape(train[:,301], (-1, 1)),          # Human codification\n",
    "                np.reshape(self.kemean.labels_, (-1, 1)),   # Number of the KMean centroid\n",
    "                np.reshape(train[:,300], (-1, 1))           # Concept of the codification\n",
    "                ], axis=1), \n",
    "            columns=['Human', 'KMeans', 'Concept'])\n",
    "        \n",
    "        # create a dictionary of all the humans codifications for each Cluster\n",
    "        self.KMeans_dict = df.groupby(by='KMeans')['Human'].apply(list).to_dict()\n",
    "\n",
    "        # Fill a dictionary with the most frecuent value in the centroid\n",
    "        for key, val in self.KMeans_dict.items():\n",
    "            self.KMeans_categories[key] = self.most_frequent(val)\n",
    "        \n",
    "        # Generates the prediction for the train dataset\n",
    "        df['KM_Prediction'] = df['KMeans'].map(self.KMeans_categories)\n",
    "\n",
    "        if self.method == 1:\n",
    "            # dictionary of the codifications that doesn't show in a concept\n",
    "            self.not_concept_cluster = {\n",
    "                i:[False if j in np.unique(df['KMeans'][df['Concept']==i]) else True for j in range(self.n_clusters)] \n",
    "                for i in np.unique(df['Concept'])\n",
    "                }\n",
    "            # dictionary of clusters for each concept\n",
    "            self.concept_cluster = {\n",
    "                i:np.unique(df['KMeans'][df['Concept']==i]) for i in np.unique(df['Concept'])\n",
    "                }\n",
    "        return self.kemean.inertia_\n",
    "\n",
    "    \n",
    "    def get_distances(self, test):\n",
    "        \"\"\"\n",
    "        recives the test data to calculate the distances of each frase, return \n",
    "        a matrix with the distances sorted\n",
    "        \"\"\"\n",
    "\n",
    "        # Distance matrix of each test point to each cluster center\n",
    "        distance_matrix = np.zeros((test.shape[0],self.n_clusters))\n",
    "\n",
    "        # for each cluster center\n",
    "        for i in range(distance_matrix.shape[1]):    \n",
    "            # Euclidian distance of each point to the i-est cluster center\n",
    "            distance_matrix[:,i]=np.sqrt(np.sum((test[:,:300].astype(np.float)-self.kemean.cluster_centers_[i,:])**2,axis=1))\n",
    "\n",
    "        if self.method == 1:\n",
    "            # for each datapoint\n",
    "            for i in range(distance_matrix.shape[0]):\n",
    "                # if the centroid not share the same concept asing NaN value\n",
    "                distance_matrix[i, self.not_concept_cluster[test[i,300]]] = np.nan\n",
    "    \n",
    "\n",
    "        # Sorting distances\n",
    "        self.topk=np.argsort(distance_matrix,axis=1)\n",
    "\n",
    "    \n",
    "    def set_labels(self, test):\n",
    "        \"\"\"\n",
    "        Create a new matrix from the clusters sorted and change the value\n",
    "        from numeric to the string according the codification\n",
    "        \"\"\"\n",
    "\n",
    "        # Change of the numeric value to the codification \n",
    "        self.topKS=pd.DataFrame(self.topk)\n",
    "\n",
    "        # create a temporal array of the kmeans categories\n",
    "        tempData = np.array([value for (_, value) in sorted(self.KMeans_categories.items())])\n",
    "        \n",
    "        # for each cluster center\n",
    "        # print(\"Setting labels\")\n",
    "        # print('len temp',len(self.KMeans_categories))\n",
    "        # print('dim topKS',self.topKS.shape[1])\n",
    "        for j in range(self.topKS.shape[1]):\n",
    "            # set the codification of the numeric value in the topk list\n",
    "            self.topKS.iloc[:,j]=tempData[self.topk[:,j]]\n",
    "        \n",
    "        if self.method == 1:\n",
    "            # for each datapoint\n",
    "            for i in range(self.topKS.shape[0]):\n",
    "                # Remove of the clusters that not share the same concept\n",
    "                self.topKS.iloc[i, np.isin(self.topk[i,:], self.concept_cluster[test[i,300]] ,invert=True)]= np.nan\n",
    "\n",
    "\n",
    "    def get_accuracies(self, test):\n",
    "        \"\"\"\n",
    "        Recives the test matrix and return the accuracies of the \n",
    "        diferents predictions\n",
    "        \"\"\"\n",
    "        #Creating the accuracy table to check each data point\n",
    "        testLabel=np.zeros(self.topKS.shape)\n",
    "        indexes_method0=pd.DataFrame(np.zeros((self.topKS.shape[0],2)), columns=['index', 'value']) \n",
    "\n",
    "        #For each data point\n",
    "        for i in range(testLabel.shape[0]):\n",
    "            #Checking if some of the cluster is able to classify it right\n",
    "            boolClass=self.topKS.iloc[i,:]==test[i,301]\n",
    "            if sum(boolClass)>0:\n",
    "                getIndex=boolClass.idxmax()\n",
    "                indexes_method0.iloc[i,0] = getIndex\n",
    "                indexes_method0.iloc[i,1] = self.topKS.iloc[i,getIndex]\n",
    "                #Setting the rest of the data point as 1\n",
    "                testLabel[i,getIndex:]=1\n",
    "            else:\n",
    "                indexes_method0.iloc[i,0] = np.nan\n",
    "                indexes_method0.iloc[i,1] = np.nan\n",
    "        accuracies=testLabel.sum(axis=0)/testLabel.shape[0]\n",
    "\n",
    "        return accuracies\n",
    "\n",
    "    def process(self, train, test):\n",
    "        self.model_train(train)\n",
    "        self.get_distances(test)\n",
    "        self.set_labels(test)\n",
    "        return self.get_accuracies(test)\n"
   ]
  },
  {
   "cell_type": "code",
   "execution_count": 13,
   "metadata": {},
   "outputs": [
    {
     "name": "stdout",
     "output_type": "stream",
     "text": [
      "0.35744197129278643\n",
      "0.006667009195196009\n"
     ]
    }
   ],
   "source": [
    "from sklearn.model_selection import KFold\n",
    "\n",
    "kfold=KFold(n_splits=5)\n",
    "\n",
    "method0_acc = np.zeros(5)\n",
    "i=0\n",
    "\n",
    "for train_index, test_index in kfold.split(data_matrix_without_nan):\n",
    "    train = data_matrix_without_nan[train_index, :]\n",
    "    test = data_matrix_without_nan[test_index, :]\n",
    "\n",
    "    proc = PLT_processor(0)\n",
    "    acc = proc.process(train, test)\n",
    "\n",
    "    method0_acc[i] = acc[0]\n",
    "    i+=1\n",
    "\n",
    "print(method0_acc.mean())\n",
    "print(method0_acc.std())"
   ]
  },
  {
   "cell_type": "code",
   "execution_count": 13,
   "metadata": {},
   "outputs": [
    {
     "name": "stdout",
     "output_type": "stream",
     "text": [
      "0.37520865850832663\n",
      "0.008341383764169614\n"
     ]
    }
   ],
   "source": []
  },
  {
   "cell_type": "code",
   "execution_count": 14,
   "metadata": {},
   "outputs": [
    {
     "name": "stdout",
     "output_type": "stream",
     "text": [
      "0.4163925359495984\n",
      "0.01689698143216913\n"
     ]
    }
   ],
   "source": [
    "from sklearn.model_selection import KFold\n",
    "\n",
    "kfold=KFold(n_splits=5)\n",
    "\n",
    "method0_acc_top3 = np.zeros(5)\n",
    "i=0\n",
    "\n",
    "for train_index, test_index in kfold.split(data_matrix_without_nan):\n",
    "    train = data_matrix_without_nan[train_index, :]\n",
    "    test = data_matrix_without_nan[test_index, :]\n",
    "\n",
    "    proc = PLT_processor(0)\n",
    "    acc = proc.process(train, test)\n",
    "\n",
    "    method0_acc_top3[i] = acc[2]\n",
    "    i+=1\n",
    "\n",
    "print(method0_acc_top3.mean())\n",
    "print(method0_acc_top3.std())"
   ]
  },
  {
   "cell_type": "code",
   "execution_count": 22,
   "metadata": {},
   "outputs": [
    {
     "name": "stdout",
     "output_type": "stream",
     "text": [
      "0.4435657979302475\n",
      "0.01534055305781037\n"
     ]
    }
   ],
   "source": [
    "print(method0_acc_top3.mean())\n",
    "print(method0_acc_top3.std())"
   ]
  },
  {
   "cell_type": "code",
   "execution_count": 15,
   "metadata": {},
   "outputs": [],
   "source": [
    "# K = 500\n",
    "# Top 1, 3, 5, 10, 50\n",
    "from sklearn.model_selection import KFold\n",
    "\n",
    "kfold=KFold(n_splits=5)\n",
    "k500_acc_top = np.zeros((5, 5))\n",
    "\n",
    "tops=(0,2,4,9,49)\n",
    "\n",
    "i=0\n",
    "\n",
    "for train_index, test_index in kfold.split(data_matrix_without_nan):\n",
    "    train = data_matrix_without_nan[train_index, :]\n",
    "    test = data_matrix_without_nan[test_index, :]\n",
    "\n",
    "    proc = PLT_processor(0)\n",
    "    acc = proc.process(train, test)\n",
    "\n",
    "    for j in range(len(tops)):\n",
    "        k500_acc_top[i,j] = acc[tops[j]]\n",
    "\n",
    "    i+=1"
   ]
  },
  {
   "cell_type": "code",
   "execution_count": 16,
   "metadata": {},
   "outputs": [
    {
     "name": "stdout",
     "output_type": "stream",
     "text": [
      "[0.35744197 0.41639254 0.44022289 0.47429292 0.5376298 ]\n",
      "[0.00666701 0.01689698 0.01670659 0.01570128 0.01607529]\n"
     ]
    }
   ],
   "source": [
    "print(k500_acc_top.mean(axis=0))\n",
    "print(k500_acc_top.std(axis=0))"
   ]
  },
  {
   "cell_type": "code",
   "execution_count": 17,
   "metadata": {},
   "outputs": [],
   "source": [
    "# K = 1000\n",
    "# Top 1, 3, 5, 10, 50\n",
    "from sklearn.model_selection import KFold\n",
    "\n",
    "kfold=KFold(n_splits=5)\n",
    "k1000_acc_top = np.zeros((5, 5))\n",
    "\n",
    "tops=(0,2,4,9,49)\n",
    "\n",
    "i=0\n",
    "\n",
    "for train_index, test_index in kfold.split(data_matrix_without_nan):\n",
    "    train = data_matrix_without_nan[train_index, :]\n",
    "    test = data_matrix_without_nan[test_index, :]\n",
    "\n",
    "    proc = PLT_processor(0, n_clusters=1000)\n",
    "    acc = proc.process(train, test)\n",
    "\n",
    "    for j in range(len(tops)):\n",
    "        k1000_acc_top[i,j] = acc[tops[j]]\n",
    "\n",
    "    i+=1"
   ]
  },
  {
   "cell_type": "code",
   "execution_count": 18,
   "metadata": {},
   "outputs": [
    {
     "name": "stdout",
     "output_type": "stream",
     "text": [
      "[0.39674257 0.46572623 0.48976491 0.52362814 0.59929609]\n",
      "[0.01527219 0.02546635 0.02393099 0.02477833 0.02602777]\n"
     ]
    }
   ],
   "source": [
    "print(k1000_acc_top.mean(axis=0))\n",
    "print(k1000_acc_top.std(axis=0))"
   ]
  },
  {
   "cell_type": "code",
   "execution_count": 19,
   "metadata": {},
   "outputs": [
    {
     "name": "stderr",
     "output_type": "stream",
     "text": [
      "<ipython-input-12-a4d4d692bbea>:39: ConvergenceWarning: Number of distinct clusters (2978) found smaller than n_clusters (3827). Possibly due to duplicate points in X.\n",
      "  self.kemean.fit(train[:,:300])\n"
     ]
    },
    {
     "ename": "IndexError",
     "evalue": "index 3161 is out of bounds for axis 0 with size 2978",
     "output_type": "error",
     "traceback": [
      "\u001b[1;31m---------------------------------------------------------------------------\u001b[0m",
      "\u001b[1;31mIndexError\u001b[0m                                Traceback (most recent call last)",
      "\u001b[1;32m<ipython-input-19-591ee744400d>\u001b[0m in \u001b[0;36m<module>\u001b[1;34m\u001b[0m\n\u001b[0;32m     15\u001b[0m \u001b[1;33m\u001b[0m\u001b[0m\n\u001b[0;32m     16\u001b[0m     \u001b[0mproc\u001b[0m \u001b[1;33m=\u001b[0m \u001b[0mPLT_processor\u001b[0m\u001b[1;33m(\u001b[0m\u001b[1;36m0\u001b[0m\u001b[1;33m,\u001b[0m \u001b[0mn_clusters\u001b[0m\u001b[1;33m=\u001b[0m\u001b[0mlen\u001b[0m\u001b[1;33m(\u001b[0m\u001b[0mtrain_index\u001b[0m\u001b[1;33m)\u001b[0m\u001b[1;33m)\u001b[0m\u001b[1;33m\u001b[0m\u001b[1;33m\u001b[0m\u001b[0m\n\u001b[1;32m---> 17\u001b[1;33m     \u001b[0macc\u001b[0m \u001b[1;33m=\u001b[0m \u001b[0mproc\u001b[0m\u001b[1;33m.\u001b[0m\u001b[0mprocess\u001b[0m\u001b[1;33m(\u001b[0m\u001b[0mtrain\u001b[0m\u001b[1;33m,\u001b[0m \u001b[0mtest\u001b[0m\u001b[1;33m)\u001b[0m\u001b[1;33m\u001b[0m\u001b[1;33m\u001b[0m\u001b[0m\n\u001b[0m\u001b[0;32m     18\u001b[0m \u001b[1;33m\u001b[0m\u001b[0m\n\u001b[0;32m     19\u001b[0m     \u001b[1;32mfor\u001b[0m \u001b[0mj\u001b[0m \u001b[1;32min\u001b[0m \u001b[0mrange\u001b[0m\u001b[1;33m(\u001b[0m\u001b[0mlen\u001b[0m\u001b[1;33m(\u001b[0m\u001b[0mtops\u001b[0m\u001b[1;33m)\u001b[0m\u001b[1;33m)\u001b[0m\u001b[1;33m:\u001b[0m\u001b[1;33m\u001b[0m\u001b[1;33m\u001b[0m\u001b[0m\n",
      "\u001b[1;32m<ipython-input-12-a4d4d692bbea>\u001b[0m in \u001b[0;36mprocess\u001b[1;34m(self, train, test)\u001b[0m\n\u001b[0;32m    153\u001b[0m         \u001b[0mself\u001b[0m\u001b[1;33m.\u001b[0m\u001b[0mmodel_train\u001b[0m\u001b[1;33m(\u001b[0m\u001b[0mtrain\u001b[0m\u001b[1;33m)\u001b[0m\u001b[1;33m\u001b[0m\u001b[1;33m\u001b[0m\u001b[0m\n\u001b[0;32m    154\u001b[0m         \u001b[0mself\u001b[0m\u001b[1;33m.\u001b[0m\u001b[0mget_distances\u001b[0m\u001b[1;33m(\u001b[0m\u001b[0mtest\u001b[0m\u001b[1;33m)\u001b[0m\u001b[1;33m\u001b[0m\u001b[1;33m\u001b[0m\u001b[0m\n\u001b[1;32m--> 155\u001b[1;33m         \u001b[0mself\u001b[0m\u001b[1;33m.\u001b[0m\u001b[0mset_labels\u001b[0m\u001b[1;33m(\u001b[0m\u001b[0mtest\u001b[0m\u001b[1;33m)\u001b[0m\u001b[1;33m\u001b[0m\u001b[1;33m\u001b[0m\u001b[0m\n\u001b[0m\u001b[0;32m    156\u001b[0m         \u001b[1;32mreturn\u001b[0m \u001b[0mself\u001b[0m\u001b[1;33m.\u001b[0m\u001b[0mget_accuracies\u001b[0m\u001b[1;33m(\u001b[0m\u001b[0mtest\u001b[0m\u001b[1;33m)\u001b[0m\u001b[1;33m\u001b[0m\u001b[1;33m\u001b[0m\u001b[0m\n",
      "\u001b[1;32m<ipython-input-12-a4d4d692bbea>\u001b[0m in \u001b[0;36mset_labels\u001b[1;34m(self, test)\u001b[0m\n\u001b[0;32m    115\u001b[0m         \u001b[1;32mfor\u001b[0m \u001b[0mj\u001b[0m \u001b[1;32min\u001b[0m \u001b[0mrange\u001b[0m\u001b[1;33m(\u001b[0m\u001b[0mself\u001b[0m\u001b[1;33m.\u001b[0m\u001b[0mtopKS\u001b[0m\u001b[1;33m.\u001b[0m\u001b[0mshape\u001b[0m\u001b[1;33m[\u001b[0m\u001b[1;36m1\u001b[0m\u001b[1;33m]\u001b[0m\u001b[1;33m)\u001b[0m\u001b[1;33m:\u001b[0m\u001b[1;33m\u001b[0m\u001b[1;33m\u001b[0m\u001b[0m\n\u001b[0;32m    116\u001b[0m             \u001b[1;31m# set the codification of the numeric value in the topk list\u001b[0m\u001b[1;33m\u001b[0m\u001b[1;33m\u001b[0m\u001b[1;33m\u001b[0m\u001b[0m\n\u001b[1;32m--> 117\u001b[1;33m             \u001b[0mself\u001b[0m\u001b[1;33m.\u001b[0m\u001b[0mtopKS\u001b[0m\u001b[1;33m.\u001b[0m\u001b[0miloc\u001b[0m\u001b[1;33m[\u001b[0m\u001b[1;33m:\u001b[0m\u001b[1;33m,\u001b[0m\u001b[0mj\u001b[0m\u001b[1;33m]\u001b[0m\u001b[1;33m=\u001b[0m\u001b[0mtempData\u001b[0m\u001b[1;33m[\u001b[0m\u001b[0mself\u001b[0m\u001b[1;33m.\u001b[0m\u001b[0mtopk\u001b[0m\u001b[1;33m[\u001b[0m\u001b[1;33m:\u001b[0m\u001b[1;33m,\u001b[0m\u001b[0mj\u001b[0m\u001b[1;33m]\u001b[0m\u001b[1;33m]\u001b[0m\u001b[1;33m\u001b[0m\u001b[1;33m\u001b[0m\u001b[0m\n\u001b[0m\u001b[0;32m    118\u001b[0m \u001b[1;33m\u001b[0m\u001b[0m\n\u001b[0;32m    119\u001b[0m         \u001b[1;32mif\u001b[0m \u001b[0mself\u001b[0m\u001b[1;33m.\u001b[0m\u001b[0mmethod\u001b[0m \u001b[1;33m==\u001b[0m \u001b[1;36m1\u001b[0m\u001b[1;33m:\u001b[0m\u001b[1;33m\u001b[0m\u001b[1;33m\u001b[0m\u001b[0m\n",
      "\u001b[1;31mIndexError\u001b[0m: index 3161 is out of bounds for axis 0 with size 2978"
     ]
    }
   ],
   "source": [
    "# K = 3827\n",
    "# Top 1, 3, 5, 10, 50\n",
    "from sklearn.model_selection import KFold\n",
    "\n",
    "kfold=KFold(n_splits=5)\n",
    "k3950_acc_top = np.zeros((5, 5))\n",
    "\n",
    "tops=(0,2,4,9,49)\n",
    "\n",
    "i=0\n",
    "\n",
    "for train_index, test_index in kfold.split(data_matrix_without_nan):\n",
    "    train = data_matrix_without_nan[train_index, :]\n",
    "    test = data_matrix_without_nan[test_index, :]\n",
    "\n",
    "    proc = PLT_processor(0, n_clusters=len(train_index))\n",
    "    acc = proc.process(train, test)\n",
    "\n",
    "    for j in range(len(tops)):\n",
    "        k3950_acc_top[i,j] = acc[tops[j]]\n",
    "\n",
    "    i+=1"
   ]
  },
  {
   "cell_type": "code",
   "execution_count": null,
   "metadata": {},
   "outputs": [],
   "source": [
    "print(k3950_acc_top.mean(axis=0))\n",
    "print(k3950_acc_top.std(axis=0))"
   ]
  },
  {
   "cell_type": "code",
   "execution_count": 29,
   "metadata": {},
   "outputs": [],
   "source": [
    "from sklearn.model_selection import KFold\n",
    "\n",
    "kfold=KFold(n_splits=5)\n",
    "\n",
    "method1_acc = np.zeros(5)\n",
    "i=0\n",
    "\n",
    "for train_index, test_index in kfold.split(data_matrix_without_nan):\n",
    "    train = data_matrix_without_nan[train_index, :]\n",
    "    test = data_matrix_without_nan[test_index, :]\n",
    "\n",
    "    proc = PLT_processor(1)\n",
    "    acc = proc.process(train, test)\n",
    "\n",
    "    method1_acc[i] = acc[0]\n",
    "    i+=1"
   ]
  },
  {
   "cell_type": "code",
   "execution_count": 30,
   "metadata": {},
   "outputs": [
    {
     "name": "stdout",
     "output_type": "stream",
     "text": [
      "0.33486553604141256\n",
      "0.012014748371481811\n"
     ]
    }
   ],
   "source": [
    "print(method1_acc.mean())\n",
    "print(method1_acc.std())"
   ]
  },
  {
   "cell_type": "markdown",
   "metadata": {},
   "source": [
    "# Busqueda del K optimo"
   ]
  },
  {
   "cell_type": "code",
   "execution_count": 13,
   "metadata": {},
   "outputs": [],
   "source": [
    "from sklearn.model_selection import KFold\n",
    "rango = range(25,1301,25)\n",
    "k_inertia = np.zeros(len(rango))\n",
    "j = 0\n",
    "for k in rango:\n",
    "    kfold=KFold(n_splits=5)\n",
    "\n",
    "    temp = np.zeros(5)\n",
    "    i=0\n",
    "    for train_index, test_index in kfold.split(data_matrix_without_nan):\n",
    "        train = data_matrix_without_nan[train_index, :]\n",
    "        test = data_matrix_without_nan[test_index, :]\n",
    "\n",
    "        proc = PLT_processor(0, k)\n",
    "        inertia = proc.model_train(train)\n",
    "\n",
    "        temp[i] = inertia\n",
    "        i+=1\n",
    "    k_inertia[j] = temp.mean()\n",
    "    j+=1\n",
    "    "
   ]
  },
  {
   "cell_type": "code",
   "execution_count": 14,
   "metadata": {},
   "outputs": [
    {
     "data": {
      "image/png": "[encoded data removed]",
      "text/plain": [
       "<Figure size 640x480 with 1 Axes>"
      ]
     },
     "metadata": {},
     "output_type": "display_data"
    },
    {
     "data": {
      "text/plain": [
       "<ggplot: (202949055540)>"
      ]
     },
     "execution_count": 14,
     "metadata": {},
     "output_type": "execute_result"
    }
   ],
   "source": [
    "from plotnine import *\n",
    "\n",
    "(ggplot()+aes(x=rango, y=k_inertia)+geom_line())"
   ]
  },
  {
   "cell_type": "code",
   "execution_count": 16,
   "metadata": {},
   "outputs": [],
   "source": [
    "from sklearn.model_selection import KFold\n",
    "rango = range(25,1301,25)\n",
    "k_acc = np.zeros(len(rango))\n",
    "j = 0\n",
    "for k in rango:\n",
    "    kfold=KFold(n_splits=5)\n",
    "\n",
    "    temp = np.zeros(5)\n",
    "    i=0\n",
    "    for train_index, test_index in kfold.split(data_matrix_without_nan):\n",
    "        train = data_matrix_without_nan[train_index, :]\n",
    "        test = data_matrix_without_nan[test_index, :]\n",
    "\n",
    "        proc = PLT_processor(0, k)\n",
    "        acc = proc.process(train, test)\n",
    "\n",
    "        temp[i] = acc[0]\n",
    "        i+=1\n",
    "    k_acc[j] = temp.mean()\n",
    "    j+=1"
   ]
  },
  {
   "cell_type": "code",
   "execution_count": 17,
   "metadata": {},
   "outputs": [
    {
     "data": {
      "image/png": "[encoded data removed]",
      "text/plain": [
       "<Figure size 640x480 with 1 Axes>"
      ]
     },
     "metadata": {},
     "output_type": "display_data"
    },
    {
     "data": {
      "text/plain": [
       "<ggplot: (202949055726)>"
      ]
     },
     "execution_count": 17,
     "metadata": {},
     "output_type": "execute_result"
    }
   ],
   "source": [
    "(ggplot()+aes(x=rango, y=k_acc)+geom_line())"
   ]
  },
  {
   "cell_type": "code",
   "execution_count": null,
   "metadata": {},
   "outputs": [],
   "source": []
  }
 ],
 "metadata": {
  "interpreter": {
   "hash": "e4424cb308cbc7572e714fe31b2d5d3b6aebf6ade78dbb6591278c904aab9d42"
  },
  "kernelspec": {
   "display_name": "Python 3.8.6 64-bit",
   "language": "python",
   "name": "python3"
  },
  "language_info": {
   "codemirror_mode": {
    "name": "ipython",
    "version": 3
   },
   "file_extension": ".py",
   "mimetype": "text/x-python",
   "name": "python",
   "nbconvert_exporter": "python",
   "pygments_lexer": "ipython3",
   "version": "3.8.6"
  },
  "orig_nbformat": 4
 },
 "nbformat": 4,
 "nbformat_minor": 2
}
