{
 "cells": [
  {
   "cell_type": "markdown",
   "metadata": {},
   "source": [
    "# CPN generator"
   ]
  },
  {
   "cell_type": "code",
   "execution_count": 34,
   "metadata": {},
   "outputs": [],
   "source": [
    "import pandas as pd\n",
    "import numpy as np\n",
    "import spacy\n",
    "import gensim\n",
    "from collections import Counter \n",
    "import time\n",
    "import sklearn.cluster\n",
    "import random\n",
    "\n",
    "random.seed(0)"
   ]
  },
  {
   "cell_type": "code",
   "execution_count": 2,
   "metadata": {},
   "outputs": [],
   "source": [
    "# data import\n",
    "data = pd.read_excel(r'../data/Datos Codificados Estudio v2a.xlsx')\n",
    "model = gensim.models.KeyedVectors.load_word2vec_format( \n",
    "    r'../Data/SBW-vectors-300-min5.bin', # using the spanish billion words embeddings\n",
    "    binary=True # the model is in binary format\n",
    ")"
   ]
  },
  {
   "cell_type": "code",
   "execution_count": 3,
   "metadata": {},
   "outputs": [],
   "source": [
    "# Configuracion de spacy\n",
    "nlp = spacy.load('es_core_news_sm')\n",
    "# nlp.Defaults.stop_words.add(\"my_new_stopword\")"
   ]
  },
  {
   "cell_type": "code",
   "execution_count": 4,
   "metadata": {},
   "outputs": [
    {
     "name": "stdout",
     "output_type": "stream",
     "text": [
      "{'breve', 'mejor', 'consiguen', 'mas', 'primer', 'se', 'existe', 'igual', 'usas', 'aquello', 'estado', 'buen', 'hacen', 'va', 'fue', 'muy', 'todo', 'despacio', 'entonces', 'grandes', 'cosas', 'enfrente', 'pasada', 'aún', 'cierto', 'hace', 'míos', 'ciertos', 'señaló', 'trabajas', 'primeros', 'claro', 'cuanta', 'decir', 'explicó', 'habla', 'mí', 'usar', 'primero', 'solas', 'bien', 'mias', 'alguna', 'usamos', 'dejó', 'manera', 'excepto', 'nosotros', 'nuestro', 'vuestras', 'nuestras', 'él', 'soyos', 'algo', 'trata', 'ambos', 'temprano', 'éste', 'cuántas', 'día', 'tenemos', 'largo', 'una', 'algún', 'misma', 'aquél', 'un', 'era', 'dan', 'horas', 'han', 'cuenta', 'pueda', 'detras', 'seis', 'estuvo', 'tuyas', 'esas', 'partir', 'último', 'dieron', 'dar', 'estaba', 'ninguno', 'encuentra', 'solamente', 'vaya', 'bajo', 'mientras', 'sabe', 'detrás', 'aquéllos', 'también', 'mediante', 'menos', 'dias', 'todas', 'usa', 'sabes', 'total', 'estará', 'ayer', 'consigue', 'fueron', 'quiere', 'según', 'dia', 'usais', 'intento', 'habían', 'sólo', 'conseguir', 'verdadera', 'había', 'aquel', 'ésos', 'qeu', 'serán', 'dentro', 'cuantas', 'ultimo', 'esa', 'aquella', 'intentan', 'teneis', 'nueva', 'acuerdo', 'peor', 'podría', 'tengo', 'podria', 'pronto', 'dos', 'salvo', 'antaño', 'esos', 'cuando', 'pudo', 'te', 'mismo', 'segundo', 'ahí', 'quedó', 'sigue', 'respecto', 'actualmente', 'eran', 'ella', 'buenos', 'sido', 'quizás', 'solos', 'aunque', 'tenga', 'tenido', 'suya', 'tuya', 'antes', 'intentar', 'eso', 'supuesto', 'éstos', 'trabajan', 'yo', 'algunos', 'demás', 'parte', 'ése', 'cada', 'unas', 'ya', 'nuevos', 'puede', 'ese', 'consideró', 'así', 'mismos', 'indicó', 'agregó', 'durante', 'mis', 'estar', 'tiempo', 'dijeron', 'considera', 'conmigo', 'nada', 'cuáles', 'deprisa', 'lo', 'podriais', 'demasiado', 'buenas', 'cuánta', 'ésa', 'podrá', 'mio', 'la', 'cuanto', 'creo', 'hecho', 'sí', 'vuestra', 'propio', 'mucho', 'quienes', 'próximos', 'informó', 'trabajais', 'diferentes', 'expresó', 'emplean', 'dio', 'hago', 'sino', 'pasado', 'varios', 'tercera', 'sera', 'ir', 'ser', 'mencionó', 'usted', 'siguiente', 'cual', 'estais', 'mucha', 'fuera', 'nuestra', 'ahi', 'he', 'informo', 'usan', 'ellos', 'quiza', 'ustedes', 'verdad', 'consigo', 'junto', 'por', 'raras', 'realizó', 'debido', 'tus', 'llevar', 'uno', 'siempre', 'cuatro', 'hacemos', 'contigo', 'quién', 'principalmente', 'final', 'antano', 'tu', 'debajo', 'deben', 'manifestó', 'segun', 'sois', 'hacia', 'posible', 'cierta', 'sola', 'sé', 'buena', 'le', 'fui', 'varias', 'somos', 'cuántos', 'hicieron', 'cuantos', 'luego', 'van', 'dado', 'lleva', 'bastante', 'voy', 'siendo', 'vamos', 'tuyos', 'incluso', 'tú', 'aproximadamente', 'ex', 'anterior', 'sin', 'habia', 'arribaabajo', 'menudo', 'son', 'de', 'hablan', 'quizá', 'nosotras', 'lugar', 'propios', 'empleais', 'tenía', 'desde', 'llegó', 'están', 'ésta', 'ningunas', 'podeis', 'dice', 'después', 'todos', 'intentais', 'alrededor', 'hubo', 'este', 'poca', 'mías', 'nunca', 'pocas', 'soy', 'podrían', 'modo', 'primera', 'donde', 'sabemos', 'suyas', 'aun', 'ahora', 'pocos', 'con', 'debe', 'quiénes', 'trabajamos', 'mismas', 'hacerlo', 'cuál', 'los', 'porque', 'que', 'cerca', 'otra', 'hay', 'adelante', 'estoy', 'cuándo', 'próximo', 'en', 'pais', 'haciendo', 'tiene', 'fin', 'el', 'como', 'hemos', 'quien', 'última', 'pero', 'fuimos', 'dicho', 'tuyo', 'éstas', 'intentas', 'ello', 'hizo', 'segunda', 'estamos', 'existen', 'haces', 'pueden', 'contra', 'me', 'ni', 'estaban', 'intentamos', 'las', 'hasta', 'otras', 'través', 'proximo', 'todavía', 'da', 'quizas', 'encima', 'nuestros', 'paìs', 'trabaja', 'unos', 'emplear', 'delante', 'es', 'pues', 'tarde', 'vuestro', 'general', 'aseguró', 'toda', 'mal', 'propia', 'ti', 'estos', 'saben', 'queremos', 'nuevas', 'además', 'bueno', 'dicen', 'alli', 'eramos', 'cuales', 'pesar', 'arriba', 'saber', 'muchos', 'apenas', 'eres', 'podriamos', 'mia', 'nadie', 'estados', 'estan', 'sus', 'uso', 'aquéllas', 'ellas', 'sobre', 'ademas', 'al', 'alguno', 'vosotros', 'aquí', 'atras', 'consigues', 'haya', 'ésas', 'podrán', 'podrian', 'últimos', 'si', 'cuánto', 'está', 'suyo', 'podrias', 'ante', 'dónde', 'allí', 'otro', 'su', 'tal', 'mía', 'mayor', 'dijo', 'realizar', 'ampleamos', 'habrá', 'medio', 'empleas', 'repente', 'comentó', 'tendrán', 'os', 'tienen', 'enseguida', 'del', 'nuevo', 'les', 'ningunos', 'aqui', 'qué', 'ocho', 'algunas', 'mios', 'cinco', 'aquellas', 'para', 'hacer', 'ninguna', 'últimas', 'aquélla', 'ejemplo', 'conseguimos', 'estas', 'casi', 'empleo', 'todavia', 'no', 'esta', 'tuvo', 'conocer', 'tampoco', 'adrede', 'sabeis', 'parece', 'hoy', 'será', 'solo', 'tres', 'lado', 'puedo', 'valor', 'haceis', 'vez', 'haber', 'muchas', 'poder', 'sean', 'realizado', 'trabajar', 'asi', 'sea', 'días', 'diferente', 'nos', 'podemos', 'tener', 'vuestros', 'lejos', 'cualquier', 'cómo', 'vosotras', 'tanto', 'verdadero', 'más', 'propias', 'veces', 'afirmó', 'gran', 'momento', 'añadió', 'ningún', 'ciertas', 'ver', 'tambien', 'esto', 'poner', 'gueno', 'sería', 'vais', 'mío', 'otros', 'aquellos', 'entre', 'ha', 'trabajo', 'poco', 'tendrá', 'tan', 'tras', 'despues', 'eras', 'siete', 'embargo', 'mi', 'intenta'}\n"
     ]
    }
   ],
   "source": [
    "# Definitivamente mostrar al profe y ver que se hace con esto\n",
    "print(nlp.Defaults.stop_words)"
   ]
  },
  {
   "cell_type": "markdown",
   "metadata": {},
   "source": [
    "## Funciones Importantes"
   ]
  },
  {
   "cell_type": "code",
   "execution_count": 5,
   "metadata": {},
   "outputs": [],
   "source": [
    "def Normalize(text):\n",
    "    \"\"\"\n",
    "    Recive a string and return the same string without punctions and \n",
    "    stop words\n",
    "    \"\"\"\n",
    "     # Create a object spacy type nlp\n",
    "    doc = nlp(text)\n",
    "\n",
    "    # Remove all special caracters \n",
    "    words = [t.orth_ for t in doc if not (t.is_punct or t.is_stop)]\n",
    "    tokens = [t.lower() for t in words]\n",
    "\n",
    "    return(\" \".join(tokens))\n",
    "\n",
    "def Lematize(text):\n",
    "    \"\"\"\n",
    "    Recive a string and return the string Lematized\n",
    "    \"\"\"\n",
    "    doc = nlp(text)\n",
    "\n",
    "    # Remove all special caracters \n",
    "    lemas = [t.lemma_ for t in tokens]\n",
    "\n",
    "    return(\" \".join(lemas))\n",
    "\n",
    "def to_vector(texto,model):\n",
    "    \"\"\" \n",
    "    Receives a sentence string along with a word embedding model and \n",
    "    returns the vector representation of the sentence\n",
    "    \"\"\"\n",
    "    tokens = texto.split() # splits the text by space and returns a list of words\n",
    "    vec = np.zeros(300) # creates an empty vector of 300 dimensions\n",
    "    for word in tokens: # iterates over the sentence\n",
    "        if word in model: # checks if the word is both in the word embedding\n",
    "            vec += model[word] # adds every word embedding to the vector\n",
    "    return vec / np.linalg.norm(vec) # divides the vector by their normal\n",
    "\n",
    "\n",
    "# Function that count the most frecuency value of each cluster  \n"
   ]
  },
  {
   "cell_type": "code",
   "execution_count": 32,
   "metadata": {},
   "outputs": [
    {
     "data": {
      "text/plain": [
       "'hola a'"
      ]
     },
     "execution_count": 32,
     "metadata": {},
     "output_type": "execute_result"
    }
   ],
   "source": [
    "Normalize(\"Hola a todos los últimos!!\")"
   ]
  },
  {
   "cell_type": "code",
   "execution_count": 6,
   "metadata": {},
   "outputs": [],
   "source": [
    "pd.options.mode.chained_assignment = None # Para evitar que se muestre warnings\n",
    "# Normalizacion de los conceptos, descripciones y codificaciones\n",
    "for i in range(len(data)):\n",
    "    data['Palabra (concepto)'][i] = Normalize(data['Palabra (concepto)'][i])\n",
    "    data['Descripción'][i] = Normalize(data['Descripción'][i]) \n",
    "    data['Codificación'][i] = Normalize(data['Codificación'][i])"
   ]
  },
  {
   "cell_type": "markdown",
   "metadata": {},
   "source": [
    "## Generación de Matriz de los datos"
   ]
  },
  {
   "cell_type": "code",
   "execution_count": 7,
   "metadata": {},
   "outputs": [
    {
     "name": "stderr",
     "output_type": "stream",
     "text": [
      "<ipython-input-5-8d5d82ba46d8>:36: RuntimeWarning: invalid value encountered in true_divide\n",
      "  return vec / np.linalg.norm(vec) # divides the vector by their normal\n"
     ]
    }
   ],
   "source": [
    "# Creation of the matrix to make the clustering process\n",
    "descriptions_matrix = np.zeros( # creatign an empty matrix\n",
    "    (\n",
    "        len(data), # the number of data points\n",
    "        len(model['hola']) # the number of components of the word embedding\n",
    "    )\n",
    ")\n",
    "# matrix filling \n",
    "for i,description in enumerate(data['Descripción']):\n",
    "    vector = to_vector(description,model)\n",
    "    descriptions_matrix[i,] = vector\n",
    "\n",
    "# Concatenate the matrix with the data of each observation\n",
    "data_matrix = np.concatenate([descriptions_matrix,data], axis=1)\n",
    "\n",
    "#--------------------------------------------------------------------------------------\n",
    "# This is the important matrix\n",
    "# Remove of the 'Nan' data\n",
    "data_matrix_without_nan = data_matrix[~pd.isnull(data_matrix[:,:300]).any(axis=1)]\n",
    "#--------------------------------------------------------------------------------------\n",
    "\n",
    "# reduce the matrix to the importan\n",
    "data_matrix_without_nan = np.concatenate(\n",
    "    (data_matrix_without_nan[:,:300],                       # Vector of the description\n",
    "    np.reshape(data_matrix_without_nan[:,302], (-1, 1)),    # Cue/Concept\n",
    "    np.reshape(data_matrix_without_nan[:,306], (-1, 1)),    # Codification\n",
    "    np.reshape(data_matrix_without_nan[:,303], (-1, 1))     # Description of the cue\n",
    "    ),\n",
    "    axis = 1\n",
    ")"
   ]
  },
  {
   "cell_type": "markdown",
   "metadata": {},
   "source": [
    "## Model Creation"
   ]
  },
  {
   "cell_type": "code",
   "execution_count": 9,
   "metadata": {},
   "outputs": [],
   "source": [
    "# Class creation\n",
    "class PLT_processor:\n",
    "\n",
    "    def __init__(self, method):\n",
    "        self.method = method # Method of Processing the data\n",
    "        self.KMeans_dict = {}\n",
    "        self.KMeans_categories = {}\n",
    "\n",
    "        self.topk = np.zeros((test.shape[0],500))\n",
    "\n",
    "    def most_frequent(self, List): \n",
    "        \"\"\"\n",
    "        Recives a list of words, and return the word most frequente of\n",
    "        the list\n",
    "        \"\"\"\n",
    "        # ? Agregar la frase 'PENDIENTE'?\n",
    "        occurence_count = Counter(List) \n",
    "        return occurence_count.most_common(1)[0][0] \n",
    "\n",
    "    def random_labels(self, train, test):\n",
    "        \"\"\"\n",
    "        Recives two dataframes and return \n",
    "        \"\"\"\n",
    "        \n",
    "        return\n",
    "\n",
    "    def model_train(self, train, n_clusters):\n",
    "        start = time.time()\n",
    "        self.kemean = sklearn.cluster.KMeans(n_clusters=n_clusters, random_state=0)\n",
    "        self.kemean.fit(train[:,:300])\n",
    "        end = time.time()\n",
    "        print(\"K-means training process:\",end - start)\n",
    "\n",
    "        # Dataframe for \n",
    "        df = pd.DataFrame(\n",
    "            np.concatenate([\n",
    "                np.reshape(train[:,301], (-1, 1)), \n",
    "                np.reshape(self.kemean.labels_, (-1, 1)),\n",
    "                np.reshape(train[:,300], (-1, 1))\n",
    "                ], axis=1), \n",
    "            columns=['Human', 'KMeans', 'Concept'])\n",
    "            \n",
    "        self.KMeans_dict = df.groupby(by='KMeans')['Human'].apply(list).to_dict()\n",
    "        for key, val in self.KMeans_dict.items():\n",
    "            self.KMeans_categories[key] = self.most_frequent(val)\n",
    "        df['KM_Prediction'] = df['KMeans'].map(self.KMeans_categories)\n",
    "        print('Accuracy training: ',sum(df['Human'] == df['KM_Prediction'])/ len(df['Human']))\n",
    "\n",
    "        if self.method == 1:\n",
    "            start = time.time()\n",
    "            # dictionary of clusters for each concept\n",
    "            inverse_concept_cluster = {\n",
    "                i:[False if j in np.unique(df['KMeans'][df['Concept']==i]) else True for j in range(500)] \n",
    "                for i in np.unique(df['Concept'])\n",
    "                }\n",
    "            concept_cluster = {\n",
    "                i:np.unique(df['KMeans'][df['Concept']==i]) for i in np.unique(df['Concept'])\n",
    "                }\n",
    "            end = time.time()\n",
    "            print(\"Time getting the clusters of each cue:\",end - start)\n",
    "\n",
    "        # return self.KMeans_categories, self.KMeans_dict\n",
    "    \n",
    "    def get_distances(self, test):\n",
    "        start = time.time()\n",
    "        #Calculating the distance maatrix of each data test point to each cluster\n",
    "        distance_matrix = np.zeros((test.shape[0],500))\n",
    "\n",
    "        for i in range(distance_matrix.shape[1]):    \n",
    "            # Euclidian distance\n",
    "            distance_matrix[:,i]=np.sqrt(np.sum((test[:,:300].astype(np.float)-self.kemean.cluster_centers_[i,:])**2,axis=1))\n",
    "\n",
    "        # Sorting distances\n",
    "        self.topk=np.argsort(distance_matrix,axis=1)\n",
    "        end = time.time()\n",
    "        print(\"Time calculating distances and sorting indexes:\",end - start)\n",
    "\n",
    "        return self.topk\n",
    "    \n",
    "    def set_labels(self):\n",
    "        start = time.time()\n",
    "        # Change of the numeric value to the codification \n",
    "        self.topKS=pd.DataFrame(self.topk)\n",
    "        tempData=np.array(list(self.KMeans_categories.values()))\n",
    "        for j in range(self.topKS.shape[1]):\n",
    "            self.topKS.iloc[:,j]=tempData[self.topk[:,j]]\n",
    "\n",
    "            # Agregar para Experimento 1\n",
    "            # # Remove of the clusters that not share the same concept\n",
    "            # topKS.iloc[i,~np.isin(topk[i,:],data_test[0].map(concept_cluster).iloc[i])] = np.nan\n",
    "\n",
    "        end = time.time()\n",
    "        print(\"Changing numerics values to the label:\",end - start)\n",
    "\n",
    "    def get_accuracies(self, test):\n",
    "        start = time.time()    \n",
    "        #Creating the accuracy table to check each data point\n",
    "        testLabel=np.zeros(self.topKS.shape)\n",
    "        indexes_method0=pd.DataFrame(np.zeros((self.topKS.shape[0],2)), columns=['index', 'value']) \n",
    "\n",
    "        #For each data point\n",
    "        for i in range(testLabel.shape[0]):\n",
    "            #Checking if some of the cluster is able to classify it right\n",
    "            boolClass=self.topKS.iloc[i,:]==test[i,301]\n",
    "            if sum(boolClass)>0:\n",
    "                getIndex=boolClass.idxmax()\n",
    "                indexes_method0.iloc[i,0] = getIndex\n",
    "                indexes_method0.iloc[i,1] = self.topKS.iloc[i,getIndex]\n",
    "                #Setting the rest of the data point as 1\n",
    "                testLabel[i,getIndex:]=1\n",
    "            else:\n",
    "                indexes_method0.iloc[i,0] = np.nan\n",
    "                indexes_method0.iloc[i,1] = np.nan\n",
    "        accuracies=testLabel.sum(axis=0)/testLabel.shape[0]\n",
    "        end = time.time()\n",
    "        print(\"Calculating accuracies:\",end - start)\n",
    "\n",
    "        return accuracies\n",
    "\n",
    "    def process(self, test, train):\n",
    "        self.model_train(train, 500)\n",
    "        self.get_distances(test)\n",
    "        self.set_labels()\n",
    "        return self.get_accuracies(test)\n"
   ]
  },
  {
   "cell_type": "code",
   "execution_count": 15,
   "metadata": {},
   "outputs": [
    {
     "name": "stdout",
     "output_type": "stream",
     "text": [
      "K-means training process: 46.72390794754028\n",
      "Accuracy training:  0.4980402403971779\n",
      "Time calculating distances and sorting indexes: 5.512334823608398\n",
      "Changing numerics values to the label: 7.82807731628418\n",
      "Calculating accuracies: 1.7740018367767334\n"
     ]
    }
   ],
   "source": [
    "proc = PLT_processor(0)\n",
    "acc = proc.process(test, train)"
   ]
  },
  {
   "cell_type": "markdown",
   "metadata": {},
   "source": [
    "## Test-Train Generation"
   ]
  },
  {
   "cell_type": "code",
   "execution_count": 8,
   "metadata": {},
   "outputs": [],
   "source": [
    "# Generation of test-train data\n",
    "\n",
    "from sklearn.model_selection import KFold\n",
    "\n",
    "kfold=KFold(n_splits=5)"
   ]
  },
  {
   "cell_type": "code",
   "execution_count": 45,
   "metadata": {},
   "outputs": [
    {
     "data": {
      "text/plain": [
       "0.0012543557053728747"
      ]
     },
     "execution_count": 45,
     "metadata": {},
     "output_type": "execute_result"
    }
   ],
   "source": [
    "rand_acc = []\n",
    "for train_index, test_index in kfold.split(data_matrix_without_nan):\n",
    "    \n",
    "    train = data_matrix_without_nan[train_index,:]\n",
    "    test = data_matrix_without_nan[test_index,:]\n",
    "\n",
    "    train_codes=np.unique(train[:,301])\n",
    "\n",
    "    len_test = len(test)\n",
    "    counter = 0\n",
    "    for i in range(len_test):\n",
    "        counter += test[i,301] == np.random.choice(train_codes)\n",
    "    rand_acc.append(counter/len_test)\n",
    "\n",
    "np.mean(rand_acc)\n"
   ]
  },
  {
   "cell_type": "code",
   "execution_count": 42,
   "metadata": {},
   "outputs": [
    {
     "data": {
      "text/plain": [
       "0.009824766201912357"
      ]
     },
     "execution_count": 42,
     "metadata": {},
     "output_type": "execute_result"
    }
   ],
   "source": [
    "rand_concept_acc = []\n",
    "for train_index, test_index in kfold.split(data_matrix_without_nan):\n",
    "\n",
    "    train = data_matrix_without_nan[train_index,:]\n",
    "    test = data_matrix_without_nan[test_index,:]\n",
    "\n",
    "    concept_cluster = {\n",
    "                i:np.unique(train[:,301][train[:,300]==i]) for i in np.unique(train[:,300])\n",
    "                }\n",
    "    \n",
    "    len_test = len(test)\n",
    "    counter = 0\n",
    "    \n",
    "    for i in range(len_test):\n",
    "        counter += test[i,301] == np.random.choice(concept_cluster[test[i,300]])\n",
    "    rand_concept_acc.append(counter/len_test)\n",
    "\n",
    "np.mean(rand_concept_acc)\n"
   ]
  },
  {
   "cell_type": "code",
   "execution_count": null,
   "metadata": {},
   "outputs": [],
   "source": []
  }
 ],
 "metadata": {
  "interpreter": {
   "hash": "fae2177e18fec49484b61032129f0d52bd80ea0aed801b0ea42284277d6347b1"
  },
  "kernelspec": {
   "display_name": "Python 3.8.6 64-bit",
   "language": "python",
   "name": "python3"
  },
  "language_info": {
   "codemirror_mode": {
    "name": "ipython",
    "version": 3
   },
   "file_extension": ".py",
   "mimetype": "text/x-python",
   "name": "python",
   "nbconvert_exporter": "python",
   "pygments_lexer": "ipython3",
   "version": "3.8.6"
  },
  "orig_nbformat": 4
 },
 "nbformat": 4,
 "nbformat_minor": 2
}
