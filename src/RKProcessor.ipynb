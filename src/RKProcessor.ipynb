{
 "cells": [
  {
   "cell_type": "code",
   "execution_count": 1,
   "metadata": {},
   "outputs": [],
   "source": [
    "import pandas as pd\n",
    "import numpy as np"
   ]
  },
  {
   "cell_type": "code",
   "execution_count": 2,
   "metadata": {},
   "outputs": [],
   "source": [
    "# Importar datos\n",
    "data = pd.read_excel(r'../data/Datos Codificados Estudio v2a.xlsx')"
   ]
  },
  {
   "cell_type": "code",
   "execution_count": 3,
   "metadata": {},
   "outputs": [
    {
     "data": {
      "text/html": [
       "<div>\n",
       "<style scoped>\n",
       "    .dataframe tbody tr th:only-of-type {\n",
       "        vertical-align: middle;\n",
       "    }\n",
       "\n",
       "    .dataframe tbody tr th {\n",
       "        vertical-align: top;\n",
       "    }\n",
       "\n",
       "    .dataframe thead th {\n",
       "        text-align: right;\n",
       "    }\n",
       "</style>\n",
       "<table border=\"1\" class=\"dataframe\">\n",
       "  <thead>\n",
       "    <tr style=\"text-align: right;\">\n",
       "      <th></th>\n",
       "      <th>Palabra (concepto)</th>\n",
       "      <th>Codificación</th>\n",
       "      <th>Descripción</th>\n",
       "    </tr>\n",
       "  </thead>\n",
       "  <tbody>\n",
       "    <tr>\n",
       "      <th>0</th>\n",
       "      <td>Compasión</td>\n",
       "      <td>sentimiento</td>\n",
       "      <td>sentimiento</td>\n",
       "    </tr>\n",
       "    <tr>\n",
       "      <th>1</th>\n",
       "      <td>Compasión</td>\n",
       "      <td>perdón</td>\n",
       "      <td>por lo que se le perdona la vida a alguien en ...</td>\n",
       "    </tr>\n",
       "    <tr>\n",
       "      <th>2</th>\n",
       "      <td>plan</td>\n",
       "      <td>objetivos</td>\n",
       "      <td>necesario para cumplir objetivos</td>\n",
       "    </tr>\n",
       "    <tr>\n",
       "      <th>3</th>\n",
       "      <td>plan</td>\n",
       "      <td>organización</td>\n",
       "      <td>organizar recursos o personas</td>\n",
       "    </tr>\n",
       "    <tr>\n",
       "      <th>4</th>\n",
       "      <td>plan</td>\n",
       "      <td>estrategia</td>\n",
       "      <td>estrategia</td>\n",
       "    </tr>\n",
       "    <tr>\n",
       "      <th>...</th>\n",
       "      <td>...</td>\n",
       "      <td>...</td>\n",
       "      <td>...</td>\n",
       "    </tr>\n",
       "    <tr>\n",
       "      <th>4933</th>\n",
       "      <td>Obligación</td>\n",
       "      <td>imposición</td>\n",
       "      <td>imposicion</td>\n",
       "    </tr>\n",
       "    <tr>\n",
       "      <th>4934</th>\n",
       "      <td>Obligación</td>\n",
       "      <td>extricto</td>\n",
       "      <td>carácter extricto</td>\n",
       "    </tr>\n",
       "    <tr>\n",
       "      <th>4935</th>\n",
       "      <td>Obligación</td>\n",
       "      <td>normas</td>\n",
       "      <td>normas</td>\n",
       "    </tr>\n",
       "    <tr>\n",
       "      <th>4936</th>\n",
       "      <td>Obligación</td>\n",
       "      <td>deber</td>\n",
       "      <td>deberes</td>\n",
       "    </tr>\n",
       "    <tr>\n",
       "      <th>4937</th>\n",
       "      <td>Obligación</td>\n",
       "      <td>imposición</td>\n",
       "      <td>acto impuesto por algo o alguien</td>\n",
       "    </tr>\n",
       "  </tbody>\n",
       "</table>\n",
       "<p>4938 rows × 3 columns</p>\n",
       "</div>"
      ],
      "text/plain": [
       "     Palabra (concepto)  Codificación  \\\n",
       "0            Compasión    sentimiento   \n",
       "1            Compasión         perdón   \n",
       "2                  plan     objetivos   \n",
       "3                  plan  organización   \n",
       "4                  plan    estrategia   \n",
       "...                 ...           ...   \n",
       "4933         Obligación    imposición   \n",
       "4934         Obligación      extricto   \n",
       "4935         Obligación        normas   \n",
       "4936         Obligación         deber   \n",
       "4937         Obligación    imposición   \n",
       "\n",
       "                                            Descripción  \n",
       "0                                           sentimiento  \n",
       "1     por lo que se le perdona la vida a alguien en ...  \n",
       "2                      necesario para cumplir objetivos  \n",
       "3                         organizar recursos o personas  \n",
       "4                                            estrategia  \n",
       "...                                                 ...  \n",
       "4933                                         imposicion  \n",
       "4934                                  carácter extricto  \n",
       "4935                                             normas  \n",
       "4936                                            deberes  \n",
       "4937                   acto impuesto por algo o alguien  \n",
       "\n",
       "[4938 rows x 3 columns]"
      ]
     },
     "execution_count": 3,
     "metadata": {},
     "output_type": "execute_result"
    }
   ],
   "source": [
    "data_matrix = pd.concat(\n",
    "    (data.iloc[:,2],    # Cue/Concept\n",
    "    data.iloc[:,6],     # Codification\n",
    "    data.iloc[:,3]      # Description of the cue\n",
    "    ),\n",
    "    axis = 1\n",
    ")\n",
    "data_matrix"
   ]
  },
  {
   "cell_type": "markdown",
   "metadata": {},
   "source": [
    "# Lo que se deberia hacer\n",
    "\n",
    "|  | Sleep is an ocean | A fisherman is a spider | ... |\n",
    "| ----------- | ----------- | ----------- | ----------- |\n",
    "| 1 | calm, deep, peace | patient, net, hunter | ... |\n",
    "| 2 | peaceful, serene | catch, prey, hunt | ... |\n",
    "| ... | ... | ... | ... |"
   ]
  },
  {
   "cell_type": "code",
   "execution_count": 25,
   "metadata": {},
   "outputs": [
    {
     "name": "stdout",
     "output_type": "stream",
     "text": [
      "241\n"
     ]
    }
   ],
   "source": [
    "# Transformacion de datos necesaria para aplicar el algoritmo de RK-Processor\n",
    "concept_cluster = {i:np.unique(data_matrix.iloc[:,2][data_matrix.iloc[:,0]==i]) for i in np.unique(data_matrix.iloc[:,0])}\n",
    "\n",
    "maximo = 0\n",
    "for key,value in concept_cluster.items():\n",
    "    temp = len(value)\n",
    "    if temp>maximo: maximo = temp\n",
    "print(maximo)\n",
    "\n",
    "for key,value in concept_cluster.items():\n",
    "    temp = len(value)\n",
    "    if temp<maximo:\n",
    "        concept_cluster[key] = np.append(value,['']*(maximo-temp),axis=0)\n"
   ]
  },
  {
   "cell_type": "code",
   "execution_count": 29,
   "metadata": {},
   "outputs": [],
   "source": [
    "transform_data = pd.DataFrame(concept_cluster)\n",
    "transform_data.to_csv(r'../data/RK_data.csv', index=False)"
   ]
  }
 ],
 "metadata": {
  "interpreter": {
   "hash": "fae2177e18fec49484b61032129f0d52bd80ea0aed801b0ea42284277d6347b1"
  },
  "kernelspec": {
   "display_name": "Python 3.8.6 64-bit",
   "language": "python",
   "name": "python3"
  },
  "language_info": {
   "codemirror_mode": {
    "name": "ipython",
    "version": 3
   },
   "file_extension": ".py",
   "mimetype": "text/x-python",
   "name": "python",
   "nbconvert_exporter": "python",
   "pygments_lexer": "ipython3",
   "version": "3.8.6"
  },
  "orig_nbformat": 4
 },
 "nbformat": 4,
 "nbformat_minor": 2
}
