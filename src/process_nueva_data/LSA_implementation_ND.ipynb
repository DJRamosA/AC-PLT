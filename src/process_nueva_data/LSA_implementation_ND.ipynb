{
 "cells": [
  {
   "cell_type": "code",
   "execution_count": 3,
   "metadata": {},
   "outputs": [],
   "source": [
    "import pandas as pd\n",
    "import numpy as np\n",
    "import spacy\n",
    "import gensim\n",
    "from collections import Counter \n",
    "import sklearn.cluster\n",
    "import random\n",
    "from sklearn.model_selection import KFold\n",
    "\n",
    "random.seed(0)"
   ]
  },
  {
   "cell_type": "code",
   "execution_count": 4,
   "metadata": {},
   "outputs": [],
   "source": [
    "# data import\n",
    "data = pd.read_csv(r'../../data/nueva_data/propiedades_codigo.csv', delimiter=\"\\t\")\n",
    "model = gensim.models.KeyedVectors.load_word2vec_format( \n",
    "    r'../../data/SBW-vectors-300-min5.bin.gz', # using the spanish billion words embeddings\n",
    "    binary=True # the model is in binary format\n",
    ")"
   ]
  },
  {
   "cell_type": "code",
   "execution_count": 5,
   "metadata": {},
   "outputs": [],
   "source": [
    "nlp = spacy.load('es_core_news_sm')"
   ]
  },
  {
   "cell_type": "code",
   "execution_count": 6,
   "metadata": {},
   "outputs": [],
   "source": [
    "def clean_text(text):\n",
    "    \"\"\"\n",
    "    Recive a string and return the string in tokens without punctuations\n",
    "    and in lowercase\n",
    "    \"\"\"\n",
    "    # for each token in the sentence add to the list if is not a punctuation\n",
    "    return [t for t in nlp(text.lower()) if not t.is_punct]\n",
    "    \n",
    "def normalize(tokens):\n",
    "    \"\"\"\n",
    "    Recive al list of string and return in one string without stop words\n",
    "    \"\"\"\n",
    "    # for each token if is not a stop word add the word to the list\n",
    "    words = [t.orth_ for t in tokens if not t.is_stop]\n",
    "\n",
    "    # return the tokens in one string\n",
    "    return(\" \".join(words))"
   ]
  },
  {
   "cell_type": "code",
   "execution_count": 7,
   "metadata": {},
   "outputs": [],
   "source": [
    "# Normalizacion de los conceptos, descripciones y codificaciones\n",
    "for i in range(len(data)):\n",
    "    data['Respuesta'][i] = normalize(clean_text(data['Respuesta'][i]))"
   ]
  },
  {
   "cell_type": "code",
   "execution_count": 8,
   "metadata": {},
   "outputs": [
    {
     "data": {
      "text/plain": [
       "0                tierra\n",
       "1                rugoso\n",
       "2          construcción\n",
       "3    desagradable tacto\n",
       "4                 raspa\n",
       "Name: Respuesta, dtype: object"
      ]
     },
     "execution_count": 8,
     "metadata": {},
     "output_type": "execute_result"
    }
   ],
   "source": [
    "data['Respuesta'].head(5)"
   ]
  },
  {
   "cell_type": "code",
   "execution_count": 9,
   "metadata": {},
   "outputs": [],
   "source": [
    "# TODO: LSA \n",
    "# ? La impletemtación es a todo el dataset o solo a las palabras del train dataset\n",
    "\n",
    "from sklearn.feature_extraction.text import TfidfTransformer\n",
    "from sklearn.feature_extraction.text import CountVectorizer\n",
    "\n",
    "\n",
    "contador = CountVectorizer()\n",
    "tf = contador.fit_transform(data['Respuesta'])\n",
    "transf = TfidfTransformer()\n",
    "tfidf = transf.fit_transform(tf)"
   ]
  },
  {
   "cell_type": "code",
   "execution_count": 10,
   "metadata": {},
   "outputs": [
    {
     "data": {
      "text/plain": [
       "<1x9978 sparse matrix of type '<class 'numpy.float64'>'\n",
       "\twith 1 stored elements in Compressed Sparse Row format>"
      ]
     },
     "execution_count": 10,
     "metadata": {},
     "output_type": "execute_result"
    }
   ],
   "source": [
    "tfidf[0]\n",
    "# contador.get_feature_names_out()"
   ]
  },
  {
   "cell_type": "code",
   "execution_count": 11,
   "metadata": {},
   "outputs": [],
   "source": [
    "from sklearn.decomposition import TruncatedSVD\n",
    "import seaborn as sns\n",
    "\n",
    "# Igualando los numeros de dimensiones con el Word2Vec\n",
    "numDim = 1780 # es el numero de codificaciones existentes\n",
    "# numDim = 33 # numero de conceptos\n",
    "vocab = contador.get_feature_names_out()\n",
    "\n",
    "lsa = TruncatedSVD(n_components=numDim, n_iter=100, random_state=42)\n",
    "# U, Sigma, VT = np.linalg.svd(tfidf.toarray())\n",
    "tfidf_lsa_data = lsa.fit_transform(tfidf)\n",
    "\n",
    "# sns.barplot(x=list(range(len(Sigma))), y = Sigma)"
   ]
  },
  {
   "cell_type": "code",
   "execution_count": 12,
   "metadata": {},
   "outputs": [
    {
     "data": {
      "image/png": "[encoded data removed]",
      "text/plain": [
       "<Figure size 432x288 with 1 Axes>"
      ]
     },
     "metadata": {
      "needs_background": "light"
     },
     "output_type": "display_data"
    }
   ],
   "source": [
    "import matplotlib.pyplot as plt\n",
    "#Plotting the Cumulative Summation of the Explained Variance\n",
    "plt.figure()\n",
    "plt.plot(np.cumsum(lsa.explained_variance_ratio_))\n",
    "plt.xlabel('Number of Components')\n",
    "plt.ylabel('Variance (%)') #for each component\n",
    "plt.show()"
   ]
  },
  {
   "cell_type": "code",
   "execution_count": 13,
   "metadata": {},
   "outputs": [
    {
     "data": {
      "text/plain": [
       "(31864, 1780)"
      ]
     },
     "execution_count": 13,
     "metadata": {},
     "output_type": "execute_result"
    }
   ],
   "source": [
    "# el vector de los terminos es el resultado del fit_transform\n",
    "tfidf_lsa_data.shape"
   ]
  },
  {
   "cell_type": "code",
   "execution_count": 14,
   "metadata": {},
   "outputs": [],
   "source": [
    "tfidf_lsa_data\n",
    "data_matrix = np.concatenate([tfidf_lsa_data,data[[\"Concepto\", \"Codigo\", \"Respuesta\"]]], axis=1)\n",
    "\n",
    "data_matrix_without_nan = data_matrix[~pd.isnull(data_matrix[:,:numDim]).any(axis=1)]\n"
   ]
  },
  {
   "cell_type": "code",
   "execution_count": 15,
   "metadata": {},
   "outputs": [],
   "source": [
    "# Class creation\n",
    "class PLT_processor:\n",
    "\n",
    "    def __init__(self, method = 0, n_clusters = 500, vect_size = 300):\n",
    "        \"\"\"\n",
    "        Recives the type of method to use, \n",
    "        - 0: Clasify using K-Means (Simple)\n",
    "        - 1: Clasify to the codification with the same concept \n",
    "        \"\"\"\n",
    "        self.n_clusters = n_clusters\n",
    "        self.method = method # Method of Processing the data\n",
    "        self.vect_size = vect_size\n",
    "        self.KMeans_dict = {}\n",
    "        self.KMeans_categories = {}\n",
    "\n",
    "        if method == 1:\n",
    "            self.inverse_concept_cluster = {}\n",
    "            self.concept_cluster = {}\n",
    "\n",
    "\n",
    "    def most_frequent(self, List): \n",
    "        \"\"\"\n",
    "        Recives a list of words, and return the word most frequente of\n",
    "        the list\n",
    "        \"\"\"\n",
    "        # ? Agregar la frase 'PENDIENTE' en caso de que haya multiples codificaciones con la misma frecuencia ?\n",
    "        occurence_count = Counter(List) \n",
    "        return occurence_count.most_common(1)[0][0] \n",
    "\n",
    "\n",
    "    def model_train(self, train):\n",
    "        \"\"\"\n",
    "        Recives the train dataset and the number of clusters to train \n",
    "        the k-means model\n",
    "        \"\"\"\n",
    "        \n",
    "        # If the number of clusters is less than the data points aply K Means\n",
    "        if(len(train)>self.n_clusters):\n",
    "            # creates de k-means object\n",
    "            self.kemean = sklearn.cluster.KMeans(n_clusters=self.n_clusters, random_state=0)\n",
    "            # Train the k-means algorithm\n",
    "            self.kemean.fit(train[:,:self.vect_size])\n",
    "\n",
    "            # print(self.kemean.n_clusters)\n",
    "            # Dataframe of train dataset\n",
    "            df = pd.DataFrame(\n",
    "                np.concatenate([\n",
    "                    np.reshape(train[:,self.vect_size+1], (-1, 1)),          # Human codification\n",
    "                    np.reshape(self.kemean.labels_, (-1, 1)),   # Number of the KMean centroid\n",
    "                    np.reshape(train[:,self.vect_size], (-1, 1))           # Concept of the codification\n",
    "                    ], axis=1), \n",
    "                columns=['Human', 'KMeans', 'Concept'])\n",
    "        # Else if the number of clusters is equal than the data points set a number to each point\n",
    "        elif(len(train)==self.n_clusters):\n",
    "             # Dataframe of train dataset\n",
    "            df = pd.DataFrame(\n",
    "                np.concatenate([\n",
    "                    np.reshape(train[:,self.vect_size+1], (-1, 1)),          # Human codification\n",
    "                    np.reshape(range(self.n_clusters), (-1, 1)),   # Number of the KMean centroid\n",
    "                    np.reshape(train[:,self.vect_size], (-1, 1))           # Concept of the codification\n",
    "                    ], axis=1), \n",
    "                columns=['Human', 'KMeans', 'Concept'])\n",
    "\n",
    "            self.cluster_centers_2 = train[:,:self.vect_size].astype(float)\n",
    "\n",
    "        # create a dictionary of all the humans codifications for each Cluster\n",
    "        self.KMeans_dict = df.groupby(by='KMeans')['Human'].apply(list).to_dict()\n",
    "\n",
    "        # Fill a dictionary with the most frecuent value in the centroid\n",
    "        for key, val in self.KMeans_dict.items():\n",
    "            self.KMeans_categories[key] = self.most_frequent(val)\n",
    "        \n",
    "        # Generates the prediction for the train dataset\n",
    "        df['KM_Prediction'] = df['KMeans'].map(self.KMeans_categories)\n",
    "\n",
    "        if self.method == 1:\n",
    "            # dictionary of the codifications that doesn't show in a concept\n",
    "            self.not_concept_cluster = {\n",
    "                i:[False if j in np.unique(df['KMeans'][df['Concept']==i]) else True for j in range(self.n_clusters)] \n",
    "                for i in np.unique(df['Concept'])\n",
    "                }\n",
    "            # dictionary of clusters for each concept\n",
    "            self.concept_cluster = {\n",
    "                i:np.unique(df['KMeans'][df['Concept']==i]) for i in np.unique(df['Concept'])\n",
    "                }\n",
    "        # return self.kemean.inertia_\n",
    "\n",
    "    \n",
    "    def get_distances(self, test):\n",
    "        \"\"\"\n",
    "        recives the test data to calculate the distances of each frase, return \n",
    "        a matrix with the distances sorted\n",
    "        \"\"\"\n",
    "\n",
    "        # Distance matrix of each test point to each cluster center\n",
    "        distance_matrix = np.zeros((test.shape[0],self.n_clusters))\n",
    "\n",
    "        if(len(train)>self.n_clusters):\n",
    "            # for each cluster center\n",
    "            for i in range(distance_matrix.shape[1]):    \n",
    "                # Euclidian distance of each point to the i-est cluster center\n",
    "                distance_matrix[:,i]=np.sqrt(np.sum((test[:,:self.vect_size].astype(float)-self.kemean.cluster_centers_[i,:])**2,axis=1))\n",
    "        elif(len(train)==self.n_clusters):\n",
    "            for i in range(distance_matrix.shape[1]):    \n",
    "                # Euclidian distance of each point to the i-est cluster center\n",
    "                distance_matrix[:,i]=np.sqrt(np.sum((test[:,:self.vect_size].astype(float)-self.cluster_centers_2[i,:])**2,axis=1))\n",
    "        \n",
    "\n",
    "        if self.method == 1:\n",
    "            # for each datapoint\n",
    "            for i in range(distance_matrix.shape[0]):\n",
    "                # if the centroid not share the same concept asing NaN value\n",
    "                distance_matrix[i, self.not_concept_cluster[test[i,self.vect_size]]] = np.nan\n",
    "    \n",
    "\n",
    "        # Sorting distances\n",
    "        self.topk=np.argsort(distance_matrix,axis=1)\n",
    "\n",
    "    \n",
    "    def set_labels(self, test):\n",
    "        \"\"\"\n",
    "        Create a new matrix from the clusters sorted and change the value\n",
    "        from numeric to the string according the codification\n",
    "        \"\"\"\n",
    "\n",
    "        # Change of the numeric value to the codification \n",
    "        self.topKS=pd.DataFrame(self.topk)\n",
    "\n",
    "        # create a temporal array of the kmeans categories\n",
    "        tempData = np.array([value for (_, value) in sorted(self.KMeans_categories.items())])\n",
    "        \n",
    "        # for each cluster center\n",
    "        # print(\"Setting labels\")\n",
    "        # print('len temp',len(self.KMeans_categories))\n",
    "        # print('dim topKS',self.topKS.shape[1])\n",
    "        for j in range(self.topKS.shape[1]):\n",
    "            # set the codification of the numeric value in the topk list\n",
    "            self.topKS.iloc[:,j]=tempData[self.topk[:,j]]\n",
    "        \n",
    "        if self.method == 1:\n",
    "            # for each datapoint\n",
    "            for i in range(self.topKS.shape[0]):\n",
    "                # Remove of the clusters that not share the same concept\n",
    "                self.topKS.iloc[i, np.isin(self.topk[i,:], self.concept_cluster[test[i,self.vect_size]] ,invert=True)]= np.nan\n",
    "\n",
    "\n",
    "    def get_accuracies(self, test):\n",
    "        \"\"\"\n",
    "        Recives the test matrix and return the accuracies of the \n",
    "        diferents predictions\n",
    "        \"\"\"\n",
    "        #Creating the accuracy table to check each data point\n",
    "        testLabel=np.zeros(self.topKS.shape)\n",
    "        indexes_method0=pd.DataFrame(np.zeros((self.topKS.shape[0],2)), columns=['index', 'value']) \n",
    "\n",
    "        #For each data point\n",
    "        for i in range(testLabel.shape[0]):\n",
    "            #Checking if some of the cluster is able to classify it right\n",
    "            boolClass=self.topKS.iloc[i,:]==test[i,numDim+1]\n",
    "            if sum(boolClass)>0:\n",
    "                getIndex=boolClass.idxmax()\n",
    "                indexes_method0.iloc[i,0] = getIndex\n",
    "                indexes_method0.iloc[i,1] = self.topKS.iloc[i,getIndex]\n",
    "                #Setting the rest of the data point as 1\n",
    "                testLabel[i,getIndex:]=1\n",
    "            else:\n",
    "                indexes_method0.iloc[i,0] = np.nan\n",
    "                indexes_method0.iloc[i,1] = np.nan\n",
    "        accuracies=testLabel.sum(axis=0)/testLabel.shape[0]\n",
    "\n",
    "        return accuracies\n",
    "\n",
    "    def process(self, train, test):\n",
    "        self.model_train(train)\n",
    "        self.get_distances(test)\n",
    "        self.set_labels(test)\n",
    "        return self.get_accuracies(test)\n",
    "\n",
    "    def train_process(self, train):\n",
    "        self.model_train(train)\n",
    "        self.get_distances(train)\n",
    "        self.set_labels(train)\n",
    "        return self.get_accuracies(train)\n"
   ]
  },
  {
   "cell_type": "code",
   "execution_count": 16,
   "metadata": {},
   "outputs": [
    {
     "name": "stdout",
     "output_type": "stream",
     "text": [
      "[0.31150362 0.32124031 0.32455908 0.3285997  0.35858651]\n",
      "[0.00337765 0.00309452 0.00173608 0.00223465 0.0031068 ]\n"
     ]
    }
   ],
   "source": [
    "# K = 500\n",
    "# Top 1, 3, 5, 10, 50\n",
    "\n",
    "\n",
    "kfold=KFold(n_splits=5)\n",
    "k500_acc_top = np.zeros((5, 5))\n",
    "\n",
    "tops=(0,2,4,9,49)\n",
    "\n",
    "i=0\n",
    "\n",
    "for train_index, test_index in kfold.split(data_matrix_without_nan):\n",
    "    train = data_matrix_without_nan[train_index, :]\n",
    "    test = data_matrix_without_nan[test_index, :]\n",
    "\n",
    "    proc = PLT_processor(0, vect_size=numDim)\n",
    "    acc = proc.train_process(train)\n",
    "\n",
    "    for j in range(len(tops)):\n",
    "        k500_acc_top[i,j] = acc[tops[j]]\n",
    "\n",
    "    i+=1\n",
    "\n",
    "print(k500_acc_top.mean(axis=0))\n",
    "print(k500_acc_top.std(axis=0))"
   ]
  },
  {
   "cell_type": "code",
   "execution_count": 17,
   "metadata": {},
   "outputs": [
    {
     "name": "stdout",
     "output_type": "stream",
     "text": [
      "[0.28643662 0.29625964 0.29911557 0.30338366 0.33454733]\n",
      "[0.01022057 0.00995744 0.0104379  0.00977119 0.00952298]\n"
     ]
    }
   ],
   "source": [
    "# K = 500\n",
    "# Top 1, 3, 5, 10, 50\n",
    "\n",
    "\n",
    "kfold=KFold(n_splits=5)\n",
    "k500_acc_top = np.zeros((5, 5))\n",
    "\n",
    "tops=(0,2,4,9,49)\n",
    "\n",
    "i=0\n",
    "\n",
    "for train_index, test_index in kfold.split(data_matrix_without_nan):\n",
    "    train = data_matrix_without_nan[train_index, :]\n",
    "    test = data_matrix_without_nan[test_index, :]\n",
    "\n",
    "    proc = PLT_processor(0, vect_size=numDim)\n",
    "    acc = proc.process(train, test)\n",
    "\n",
    "    for j in range(len(tops)):\n",
    "        k500_acc_top[i,j] = acc[tops[j]]\n",
    "\n",
    "    i+=1\n",
    "\n",
    "print(k500_acc_top.mean(axis=0))\n",
    "print(k500_acc_top.std(axis=0))"
   ]
  },
  {
   "cell_type": "code",
   "execution_count": 18,
   "metadata": {},
   "outputs": [
    {
     "name": "stdout",
     "output_type": "stream",
     "text": [
      "[0.25513121 0.26790425 0.27076798 0.27580502 0.31913761]\n",
      "[0.00229781 0.002606   0.00254393 0.00279371 0.00194133]\n"
     ]
    }
   ],
   "source": [
    "from sklearn.decomposition import TruncatedSVD\n",
    "import seaborn as sns\n",
    "\n",
    "# Igualando los numeros de dimensiones con el Word2Vec\n",
    "numDim = 300 # igual al word2vec\n",
    "vocab = contador.get_feature_names_out()\n",
    "\n",
    "lsa = TruncatedSVD(n_components=numDim, n_iter=100, random_state=42)\n",
    "# U, Sigma, VT = np.linalg.svd(tfidf.toarray())\n",
    "tfidf_lsa_data = lsa.fit_transform(tfidf)\n",
    "\n",
    "# sns.barplot(x=list(range(len(Sigma))), y = Sigma)\n",
    "\n",
    "tfidf_lsa_data\n",
    "data_matrix = np.concatenate([tfidf_lsa_data,data[[\"Concepto\", \"Codigo\", \"Respuesta\"]]], axis=1)\n",
    "\n",
    "data_matrix_without_nan = data_matrix[~pd.isnull(data_matrix[:,:numDim]).any(axis=1)]\n",
    "\n",
    "# K = 500\n",
    "# Top 1, 3, 5, 10, 50\n",
    "\n",
    "kfold=KFold(n_splits=5)\n",
    "lsa300_acc_top = np.zeros((5, 5))\n",
    "\n",
    "tops=(0,2,4,9,49)\n",
    "\n",
    "i=0\n",
    "\n",
    "for train_index, test_index in kfold.split(data_matrix_without_nan):\n",
    "    train = data_matrix_without_nan[train_index, :]\n",
    "    test = data_matrix_without_nan[test_index, :]\n",
    "\n",
    "    proc = PLT_processor(0, vect_size=numDim)\n",
    "    acc = proc.train_process(train)\n",
    "\n",
    "    for j in range(len(tops)):\n",
    "        lsa300_acc_top[i,j] = acc[tops[j]]\n",
    "\n",
    "    i+=1\n",
    "print(lsa300_acc_top.mean(axis=0))\n",
    "print(lsa300_acc_top.std(axis=0))"
   ]
  },
  {
   "cell_type": "code",
   "execution_count": 19,
   "metadata": {},
   "outputs": [
    {
     "name": "stdout",
     "output_type": "stream",
     "text": [
      "[0.24491645 0.26013739 0.26311881 0.26804603 0.3129555 ]\n",
      "[0.01096282 0.01008161 0.00995862 0.0104182  0.00827782]\n"
     ]
    }
   ],
   "source": [
    "from sklearn.decomposition import TruncatedSVD\n",
    "import seaborn as sns\n",
    "\n",
    "# Igualando los numeros de dimensiones con el Word2Vec\n",
    "numDim = 300 # igual al word2vec\n",
    "vocab = contador.get_feature_names_out()\n",
    "\n",
    "lsa = TruncatedSVD(n_components=numDim, n_iter=100, random_state=42)\n",
    "# U, Sigma, VT = np.linalg.svd(tfidf.toarray())\n",
    "tfidf_lsa_data = lsa.fit_transform(tfidf)\n",
    "\n",
    "# sns.barplot(x=list(range(len(Sigma))), y = Sigma)\n",
    "\n",
    "tfidf_lsa_data\n",
    "data_matrix = np.concatenate([tfidf_lsa_data,data[[\"Concepto\", \"Codigo\", \"Respuesta\"]]], axis=1)\n",
    "\n",
    "data_matrix_without_nan = data_matrix[~pd.isnull(data_matrix[:,:numDim]).any(axis=1)]\n",
    "\n",
    "# K = 500\n",
    "# Top 1, 3, 5, 10, 50\n",
    "\n",
    "kfold=KFold(n_splits=5)\n",
    "lsa300_acc_top = np.zeros((5, 5))\n",
    "\n",
    "tops=(0,2,4,9,49)\n",
    "\n",
    "i=0\n",
    "\n",
    "for train_index, test_index in kfold.split(data_matrix_without_nan):\n",
    "    train = data_matrix_without_nan[train_index, :]\n",
    "    test = data_matrix_without_nan[test_index, :]\n",
    "\n",
    "    proc = PLT_processor(0, vect_size=numDim)\n",
    "    acc = proc.process(train, test)\n",
    "\n",
    "    for j in range(len(tops)):\n",
    "        lsa300_acc_top[i,j] = acc[tops[j]]\n",
    "\n",
    "    i+=1\n",
    "print(lsa300_acc_top.mean(axis=0))\n",
    "print(lsa300_acc_top.std(axis=0))"
   ]
  },
  {
   "cell_type": "code",
   "execution_count": 20,
   "metadata": {},
   "outputs": [
    {
     "name": "stdout",
     "output_type": "stream",
     "text": [
      "[0.17675122 0.18742941 0.19230953 0.19836652 0.24595158]\n",
      "[0.00250656 0.0021721  0.00293323 0.00323856 0.00323893]\n"
     ]
    }
   ],
   "source": [
    "from sklearn.decomposition import TruncatedSVD\n",
    "import seaborn as sns\n",
    "\n",
    "# Igualando los numeros de dimensiones con el Word2Vec\n",
    "numDim = 120 # numero de conceptos\n",
    "vocab = contador.get_feature_names_out()\n",
    "\n",
    "lsa = TruncatedSVD(n_components=numDim, n_iter=100, random_state=42)\n",
    "# U, Sigma, VT = np.linalg.svd(tfidf.toarray())\n",
    "tfidf_lsa_data = lsa.fit_transform(tfidf)\n",
    "\n",
    "# sns.barplot(x=list(range(len(Sigma))), y = Sigma)\n",
    "\n",
    "tfidf_lsa_data\n",
    "data_matrix = np.concatenate([tfidf_lsa_data,data[[\"Concepto\", \"Codigo\", \"Respuesta\"]]], axis=1)\n",
    "\n",
    "data_matrix_without_nan = data_matrix[~pd.isnull(data_matrix[:,:numDim]).any(axis=1)]\n",
    "\n",
    "# K = 500\n",
    "# Top 1, 3, 5, 10, 50\n",
    "\n",
    "kfold=KFold(n_splits=5)\n",
    "lsa120_acc_top = np.zeros((5, 5))\n",
    "\n",
    "tops=(0,2,4,9,49)\n",
    "\n",
    "i=0\n",
    "\n",
    "for train_index, test_index in kfold.split(data_matrix_without_nan):\n",
    "    train = data_matrix_without_nan[train_index, :]\n",
    "    test = data_matrix_without_nan[test_index, :]\n",
    "\n",
    "    proc = PLT_processor(0, vect_size=numDim)\n",
    "    acc = proc.train_process(train)\n",
    "\n",
    "    for j in range(len(tops)):\n",
    "        lsa120_acc_top[i,j] = acc[tops[j]]\n",
    "\n",
    "    i+=1\n",
    "print(lsa120_acc_top.mean(axis=0))\n",
    "print(lsa120_acc_top.std(axis=0))"
   ]
  },
  {
   "cell_type": "code",
   "execution_count": 21,
   "metadata": {},
   "outputs": [
    {
     "name": "stdout",
     "output_type": "stream",
     "text": [
      "[0.16262919 0.17502566 0.18108264 0.18773588 0.23575226]\n",
      "[0.01220591 0.01283126 0.01244811 0.01082548 0.00796148]\n"
     ]
    }
   ],
   "source": [
    "from sklearn.decomposition import TruncatedSVD\n",
    "import seaborn as sns\n",
    "\n",
    "# Igualando los numeros de dimensiones con el Word2Vec\n",
    "numDim = 120 # numero de conceptos\n",
    "vocab = contador.get_feature_names_out()\n",
    "\n",
    "lsa = TruncatedSVD(n_components=numDim, n_iter=100, random_state=42)\n",
    "# U, Sigma, VT = np.linalg.svd(tfidf.toarray())\n",
    "tfidf_lsa_data = lsa.fit_transform(tfidf)\n",
    "\n",
    "# sns.barplot(x=list(range(len(Sigma))), y = Sigma)\n",
    "\n",
    "tfidf_lsa_data\n",
    "data_matrix = np.concatenate([tfidf_lsa_data,data[[\"Concepto\", \"Codigo\", \"Respuesta\"]]], axis=1)\n",
    "\n",
    "data_matrix_without_nan = data_matrix[~pd.isnull(data_matrix[:,:numDim]).any(axis=1)]\n",
    "\n",
    "# K = 500\n",
    "# Top 1, 3, 5, 10, 50\n",
    "\n",
    "kfold=KFold(n_splits=5)\n",
    "lsa120_acc_top = np.zeros((5, 5))\n",
    "\n",
    "tops=(0,2,4,9,49)\n",
    "\n",
    "i=0\n",
    "\n",
    "for train_index, test_index in kfold.split(data_matrix_without_nan):\n",
    "    train = data_matrix_without_nan[train_index, :]\n",
    "    test = data_matrix_without_nan[test_index, :]\n",
    "\n",
    "    proc = PLT_processor(0, vect_size=numDim)\n",
    "    acc = proc.process(train, test)\n",
    "\n",
    "    for j in range(len(tops)):\n",
    "        lsa120_acc_top[i,j] = acc[tops[j]]\n",
    "\n",
    "    i+=1\n",
    "print(lsa120_acc_top.mean(axis=0))\n",
    "print(lsa120_acc_top.std(axis=0))"
   ]
  }
 ],
 "metadata": {
  "kernelspec": {
   "display_name": "Python 3.8.6 64-bit",
   "language": "python",
   "name": "python3"
  },
  "language_info": {
   "codemirror_mode": {
    "name": "ipython",
    "version": 3
   },
   "file_extension": ".py",
   "mimetype": "text/x-python",
   "name": "python",
   "nbconvert_exporter": "python",
   "pygments_lexer": "ipython3",
   "version": "3.8.6 (tags/v3.8.6:db45529, Sep 23 2020, 15:52:53) [MSC v.1927 64 bit (AMD64)]"
  },
  "orig_nbformat": 4,
  "vscode": {
   "interpreter": {
    "hash": "f86d5b59def65e88dbeda6389e0ae43ef80c1809fa447fa67ec7c4f0e393c674"
   }
  }
 },
 "nbformat": 4,
 "nbformat_minor": 2
}
