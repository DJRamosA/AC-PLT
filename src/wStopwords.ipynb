{
 "cells": [
  {
   "cell_type": "markdown",
   "metadata": {},
   "source": [
    "# CPN generator w/Stopwords"
   ]
  },
  {
   "cell_type": "code",
   "execution_count": 1,
   "metadata": {},
   "outputs": [],
   "source": [
    "import pandas as pd\n",
    "import numpy as np\n",
    "import spacy\n",
    "import gensim\n",
    "from collections import Counter \n",
    "import sklearn.cluster\n",
    "import random\n",
    "\n",
    "random.seed(0)"
   ]
  },
  {
   "cell_type": "code",
   "execution_count": 2,
   "metadata": {},
   "outputs": [],
   "source": [
    "# data import\n",
    "data = pd.read_excel(r'../data/Datos Codificados Estudio v2a.xlsx')\n",
    "model = gensim.models.KeyedVectors.load_word2vec_format( \n",
    "    r'../Data/SBW-vectors-300-min5.bin.gz', # using the spanish billion words embeddings\n",
    "    binary=True # the model is in binary format\n",
    ")"
   ]
  },
  {
   "cell_type": "code",
   "execution_count": 3,
   "metadata": {},
   "outputs": [],
   "source": [
    "# Configuracion de spacy\n",
    "nlp = spacy.load('es_core_news_sm')\n",
    "# nlp.Defaults.stop_words.add(\"my_new_stopword\")"
   ]
  },
  {
   "cell_type": "markdown",
   "metadata": {},
   "source": [
    "## Funciones Importantes"
   ]
  },
  {
   "cell_type": "code",
   "execution_count": 4,
   "metadata": {},
   "outputs": [],
   "source": [
    "\n",
    "def clean_text(text):\n",
    "    \"\"\"\n",
    "    Recive a string and return the string in tokens without punctuations\n",
    "    and in lowercase\n",
    "    \"\"\"\n",
    "    # for each token in the sentence add to the list if is not a punctuation\n",
    "    return [t for t in nlp(text.lower()) if not t.is_punct]\n",
    "\n",
    "\n",
    "def unify_text(tokens):\n",
    "    \"\"\"\n",
    "    Recive al list of string and return in one string without stop words\n",
    "    \"\"\"\n",
    "    # for each token if is not a stop word add the word to the list\n",
    "    words = [t.orth_ for t in tokens]\n",
    "\n",
    "    # return the tokens in one string\n",
    "    return(\" \".join(words))\n",
    "\n",
    "\n",
    "def normalize(tokens):\n",
    "    \"\"\"\n",
    "    Recive al list of string and return in one string without stop words\n",
    "    \"\"\"\n",
    "    # for each token if is not a stop word add the word to the list\n",
    "    words = [t.orth_ for t in tokens if not t.is_stop]\n",
    "\n",
    "    # return the tokens in one string\n",
    "    return(\" \".join(words))\n",
    "\n",
    "\n",
    "def lematize(tokens):\n",
    "    \"\"\"\n",
    "    Recive al list of string and return in one string without stop words \n",
    "    and Lematized\n",
    "    \"\"\"\n",
    "    # for each token if is not a stop word add the lemma of the word in the list\n",
    "    lemmas = [t.lemma_ for t in tokens if not t.is_stop]\n",
    "\n",
    "    # return the tokens in one string\n",
    "    return(\" \".join(lemmas))\n",
    "\n",
    "def to_vector(texto,model):\n",
    "    \"\"\" \n",
    "    Receives a sentence string along with a word embedding model and \n",
    "    returns the vector representation of the sentence\n",
    "    \"\"\"\n",
    "    tokens = texto.split() # splits the text by space and returns a list of words\n",
    "    vec = np.zeros(300) # creates an empty vector of 300 dimensions\n",
    "    for word in tokens: # iterates over the sentence\n",
    "        if word in model: # checks if the word is both in the word embedding\n",
    "            vec += model[word] # adds every word embedding to the vector\n",
    "    return vec / np.linalg.norm(vec) # divides the vector by their normal\n"
   ]
  },
  {
   "cell_type": "markdown",
   "metadata": {},
   "source": [
    "# Preprocesamiento de los datos"
   ]
  },
  {
   "cell_type": "code",
   "execution_count": 5,
   "metadata": {},
   "outputs": [],
   "source": [
    "pd.options.mode.chained_assignment = None # Para evitar que se muestre warnings\n",
    "\n",
    "# Normalizacion de los conceptos, descripciones y codificaciones\n",
    "for i in range(len(data)):\n",
    "    data['Descripción'][i] = unify_text(clean_text(data['Descripción'][i]))"
   ]
  },
  {
   "cell_type": "markdown",
   "metadata": {},
   "source": [
    "## Generación de Matriz de los datos"
   ]
  },
  {
   "cell_type": "code",
   "execution_count": 6,
   "metadata": {},
   "outputs": [
    {
     "name": "stderr",
     "output_type": "stream",
     "text": [
      "C:\\Users\\dra98\\AppData\\Local\\Temp\\ipykernel_35564\\1988974185.py:53: RuntimeWarning: invalid value encountered in true_divide\n",
      "  return vec / np.linalg.norm(vec) # divides the vector by their normal\n"
     ]
    }
   ],
   "source": [
    "# Creation of the matrix to make the clustering process\n",
    "descriptions_matrix = np.zeros( # creatign an empty matrix\n",
    "    (\n",
    "        len(data), # the number of data points\n",
    "        len(model['hola']) # the number of components of the word embedding\n",
    "    )\n",
    ")\n",
    "\n",
    "# matrix filling \n",
    "for i,description in enumerate(data['Descripción']):\n",
    "    vector = to_vector(description,model)\n",
    "    descriptions_matrix[i,] = vector\n",
    "\n",
    "# Concatenate the matrix with the data of each observation\n",
    "data_matrix = np.concatenate([descriptions_matrix,data], axis=1)\n",
    "\n",
    "#--------------------------------------------------------------------------------------\n",
    "# This is the important matrix\n",
    "# Remove of the 'Nan' data\n",
    "data_matrix_without_nan = data_matrix[~pd.isnull(data_matrix[:,:300]).any(axis=1)]\n",
    "#--------------------------------------------------------------------------------------\n",
    "\n",
    "# reduce the matrix to the importan\n",
    "data_matrix_without_nan = np.concatenate(\n",
    "    (data_matrix_without_nan[:,:300],                       # Vector of the description\n",
    "    np.reshape(data_matrix_without_nan[:,302], (-1, 1)),    # Cue/Concept\n",
    "    np.reshape(data_matrix_without_nan[:,306], (-1, 1)),    # Codification\n",
    "    np.reshape(data_matrix_without_nan[:,303], (-1, 1))     # Description of the cue\n",
    "    ),\n",
    "    axis = 1\n",
    ")"
   ]
  },
  {
   "cell_type": "markdown",
   "metadata": {},
   "source": [
    "## Model Creation"
   ]
  },
  {
   "cell_type": "code",
   "execution_count": 7,
   "metadata": {},
   "outputs": [],
   "source": [
    "# Class creation\n",
    "class PLT_processor:\n",
    "\n",
    "    def __init__(self, method = 0, n_clusters = 500):\n",
    "        \"\"\"\n",
    "        Recives the type of method to use, \n",
    "        - 0: Clasify using K-Means (Simple)\n",
    "        - 1: Clasify to the codification with the same concept \n",
    "        \"\"\"\n",
    "        self.n_clusters = n_clusters\n",
    "        self.method = method # Method of Processing the data\n",
    "        self.KMeans_dict = {}\n",
    "        self.KMeans_categories = {}\n",
    "\n",
    "        if method == 1:\n",
    "            self.inverse_concept_cluster = {}\n",
    "            self.concept_cluster = {}\n",
    "\n",
    "        self.topk = np.zeros((test.shape[0],500))\n",
    "\n",
    "    def most_frequent(self, List): \n",
    "        \"\"\"\n",
    "        Recives a list of words, and return the word most frequente of\n",
    "        the list\n",
    "        \"\"\"\n",
    "        # ? Agregar la frase 'PENDIENTE' en caso de que haya multiples codificaciones con la misma frecuencia ?\n",
    "        occurence_count = Counter(List) \n",
    "        return occurence_count.most_common(1)[0][0] \n",
    "\n",
    "\n",
    "    def model_train(self, train):\n",
    "        \"\"\"\n",
    "        Recives the train dataset and the number of clusters to train \n",
    "        the k-means model\n",
    "        \"\"\"\n",
    "        \n",
    "        # If the number of clusters is less than the data points aply K Means\n",
    "        if(len(train)>self.n_clusters):\n",
    "            # creates de k-means object\n",
    "            self.kemean = sklearn.cluster.KMeans(n_clusters=self.n_clusters, random_state=0)\n",
    "            # Train the k-means algorithm\n",
    "            self.kemean.fit(train[:,:300])\n",
    "\n",
    "            # print(self.kemean.n_clusters)\n",
    "            # Dataframe of train dataset\n",
    "            df = pd.DataFrame(\n",
    "                np.concatenate([\n",
    "                    np.reshape(train[:,301], (-1, 1)),          # Human codification\n",
    "                    np.reshape(self.kemean.labels_, (-1, 1)),   # Number of the KMean centroid\n",
    "                    np.reshape(train[:,300], (-1, 1))           # Concept of the codification\n",
    "                    ], axis=1), \n",
    "                columns=['Human', 'KMeans', 'Concept'])\n",
    "        # Else if the number of clusters is equal than the data points set a number to each point\n",
    "        elif(len(train)==self.n_clusters):\n",
    "             # Dataframe of train dataset\n",
    "            df = pd.DataFrame(\n",
    "                np.concatenate([\n",
    "                    np.reshape(train[:,301], (-1, 1)),          # Human codification\n",
    "                    np.reshape(range(self.n_clusters), (-1, 1)),   # Number of the KMean centroid\n",
    "                    np.reshape(train[:,300], (-1, 1))           # Concept of the codification\n",
    "                    ], axis=1), \n",
    "                columns=['Human', 'KMeans', 'Concept'])\n",
    "\n",
    "            self.cluster_centers_2 = train[:,:300].astype(float)\n",
    "\n",
    "        # create a dictionary of all the humans codifications for each Cluster\n",
    "        self.KMeans_dict = df.groupby(by='KMeans')['Human'].apply(list).to_dict()\n",
    "\n",
    "        # Fill a dictionary with the most frecuent value in the centroid\n",
    "        for key, val in self.KMeans_dict.items():\n",
    "            self.KMeans_categories[key] = self.most_frequent(val)\n",
    "        \n",
    "        # Generates the prediction for the train dataset\n",
    "        df['KM_Prediction'] = df['KMeans'].map(self.KMeans_categories)\n",
    "\n",
    "        if self.method == 1:\n",
    "            # dictionary of the codifications that doesn't show in a concept\n",
    "            self.not_concept_cluster = {\n",
    "                i:[False if j in np.unique(df['KMeans'][df['Concept']==i]) else True for j in range(self.n_clusters)] \n",
    "                for i in np.unique(df['Concept'])\n",
    "                }\n",
    "            # dictionary of clusters for each concept\n",
    "            self.concept_cluster = {\n",
    "                i:np.unique(df['KMeans'][df['Concept']==i]) for i in np.unique(df['Concept'])\n",
    "                }\n",
    "        # return self.kemean.inertia_\n",
    "\n",
    "    \n",
    "    def get_distances(self, test):\n",
    "        \"\"\"\n",
    "        recives the test data to calculate the distances of each frase, return \n",
    "        a matrix with the distances sorted\n",
    "        \"\"\"\n",
    "\n",
    "        # Distance matrix of each test point to each cluster center\n",
    "        distance_matrix = np.zeros((test.shape[0],self.n_clusters))\n",
    "\n",
    "        if(len(train)>self.n_clusters):\n",
    "            # for each cluster center\n",
    "            for i in range(distance_matrix.shape[1]):    \n",
    "                # Euclidian distance of each point to the i-est cluster center\n",
    "                distance_matrix[:,i]=np.sqrt(np.sum((test[:,:300].astype(float)-self.kemean.cluster_centers_[i,:])**2,axis=1))\n",
    "        elif(len(train)==self.n_clusters):\n",
    "            for i in range(distance_matrix.shape[1]):    \n",
    "                # Euclidian distance of each point to the i-est cluster center\n",
    "                distance_matrix[:,i]=np.sqrt(np.sum((test[:,:300].astype(float)-self.cluster_centers_2[i,:])**2,axis=1))\n",
    "        \n",
    "\n",
    "        if self.method == 1:\n",
    "            # for each datapoint\n",
    "            for i in range(distance_matrix.shape[0]):\n",
    "                # if the centroid not share the same concept asing NaN value\n",
    "                distance_matrix[i, self.not_concept_cluster[test[i,300]]] = np.nan\n",
    "    \n",
    "\n",
    "        # Sorting distances\n",
    "        self.topk=np.argsort(distance_matrix,axis=1)\n",
    "\n",
    "    \n",
    "    def set_labels(self, test):\n",
    "        \"\"\"\n",
    "        Create a new matrix from the clusters sorted and change the value\n",
    "        from numeric to the string according the codification\n",
    "        \"\"\"\n",
    "\n",
    "        # Change of the numeric value to the codification \n",
    "        self.topKS=pd.DataFrame(self.topk)\n",
    "\n",
    "        # create a temporal array of the kmeans categories\n",
    "        tempData = np.array([value for (_, value) in sorted(self.KMeans_categories.items())])\n",
    "        \n",
    "        # for each cluster center\n",
    "        # print(\"Setting labels\")\n",
    "        # print('len temp',len(self.KMeans_categories))\n",
    "        # print('dim topKS',self.topKS.shape[1])\n",
    "        for j in range(self.topKS.shape[1]):\n",
    "            # set the codification of the numeric value in the topk list\n",
    "            self.topKS.iloc[:,j]=tempData[self.topk[:,j]]\n",
    "        \n",
    "        if self.method == 1:\n",
    "            # for each datapoint\n",
    "            for i in range(self.topKS.shape[0]):\n",
    "                # Remove of the clusters that not share the same concept\n",
    "                self.topKS.iloc[i, np.isin(self.topk[i,:], self.concept_cluster[test[i,300]] ,invert=True)]= np.nan\n",
    "\n",
    "\n",
    "    def get_accuracies(self, test):\n",
    "        \"\"\"\n",
    "        Recives the test matrix and return the accuracies of the \n",
    "        diferents predictions\n",
    "        \"\"\"\n",
    "        #Creating the accuracy table to check each data point\n",
    "        testLabel=np.zeros(self.topKS.shape)\n",
    "        indexes_method0=pd.DataFrame(np.zeros((self.topKS.shape[0],2)), columns=['index', 'value']) \n",
    "\n",
    "        #For each data point\n",
    "        for i in range(testLabel.shape[0]):\n",
    "            #Checking if some of the cluster is able to classify it right\n",
    "            boolClass=self.topKS.iloc[i,:]==test[i,301]\n",
    "            if sum(boolClass)>0:\n",
    "                getIndex=boolClass.idxmax()\n",
    "                indexes_method0.iloc[i,0] = getIndex\n",
    "                indexes_method0.iloc[i,1] = self.topKS.iloc[i,getIndex]\n",
    "                #Setting the rest of the data point as 1\n",
    "                testLabel[i,getIndex:]=1\n",
    "            else:\n",
    "                indexes_method0.iloc[i,0] = np.nan\n",
    "                indexes_method0.iloc[i,1] = np.nan\n",
    "        accuracies=testLabel.sum(axis=0)/testLabel.shape[0]\n",
    "\n",
    "        return accuracies\n",
    "\n",
    "    def process(self, train, test):\n",
    "        self.model_train(train)\n",
    "        self.get_distances(test)\n",
    "        self.set_labels(test)\n",
    "        return self.get_accuracies(test)\n",
    "\n",
    "    def train_process(self, train):\n",
    "        self.model_train(train)\n",
    "        self.get_distances(train)\n",
    "        self.set_labels(train)\n",
    "        return self.get_accuracies(train)"
   ]
  },
  {
   "cell_type": "markdown",
   "metadata": {},
   "source": [
    "# Evaluation"
   ]
  },
  {
   "cell_type": "code",
   "execution_count": 8,
   "metadata": {},
   "outputs": [],
   "source": [
    "# K = 500\n",
    "# Top 1, 3, 5, 10, 50\n",
    "from sklearn.model_selection import KFold\n",
    "\n",
    "kfold=KFold(n_splits=5)\n",
    "k500_acc_top = np.zeros((5, 5))\n",
    "\n",
    "tops=(0,2,4,9,49)\n",
    "\n",
    "i=0\n",
    "\n",
    "for train_index, test_index in kfold.split(data_matrix_without_nan):\n",
    "    train = data_matrix_without_nan[train_index, :]\n",
    "    test = data_matrix_without_nan[test_index, :]\n",
    "\n",
    "    proc = PLT_processor(0)\n",
    "    acc = proc.process(train, test)\n",
    "\n",
    "    for j in range(len(tops)):\n",
    "        k500_acc_top[i,j] = acc[tops[j]]\n",
    "\n",
    "    i+=1"
   ]
  },
  {
   "cell_type": "code",
   "execution_count": 9,
   "metadata": {},
   "outputs": [
    {
     "name": "stdout",
     "output_type": "stream",
     "text": [
      "[0.2539256  0.30059127 0.3195428  0.34970135 0.43019385]\n",
      "[0.01009957 0.01030224 0.01439319 0.01661072 0.02851408]\n"
     ]
    }
   ],
   "source": [
    "print(k500_acc_top.mean(axis=0))\n",
    "print(k500_acc_top.std(axis=0))"
   ]
  },
  {
   "cell_type": "code",
   "execution_count": 10,
   "metadata": {},
   "outputs": [],
   "source": [
    "# K = 500\n",
    "# Top 1, 3, 5, 10, 50\n",
    "from sklearn.model_selection import KFold\n",
    "\n",
    "kfold=KFold(n_splits=5)\n",
    "k500_acc_top = np.zeros((5, 5))\n",
    "\n",
    "tops=(0,2,4,9,49)\n",
    "\n",
    "i=0\n",
    "\n",
    "for train_index, test_index in kfold.split(data_matrix_without_nan):\n",
    "    train = data_matrix_without_nan[train_index, :]\n",
    "    test = data_matrix_without_nan[test_index, :]\n",
    "\n",
    "    proc = PLT_processor(0)\n",
    "    acc = proc.process(train, test)\n",
    "\n",
    "    for j in range(len(tops)):\n",
    "        k500_acc_top[i,j] = acc[tops[j]]\n",
    "\n",
    "    i+=1"
   ]
  },
  {
   "cell_type": "code",
   "execution_count": 11,
   "metadata": {},
   "outputs": [
    {
     "name": "stdout",
     "output_type": "stream",
     "text": [
      "[0.2539256  0.30059127 0.3195428  0.34970135 0.43019385]\n",
      "[0.01009957 0.01030224 0.01439319 0.01661072 0.02851408]\n"
     ]
    }
   ],
   "source": [
    "print(k500_acc_top.mean(axis=0))\n",
    "print(k500_acc_top.std(axis=0))"
   ]
  },
  {
   "cell_type": "code",
   "execution_count": null,
   "metadata": {},
   "outputs": [],
   "source": [
    "# K = 1000\n",
    "# Top 1, 3, 5, 10, 50\n",
    "from sklearn.model_selection import KFold\n",
    "\n",
    "kfold=KFold(n_splits=5)\n",
    "k1000_acc_top = np.zeros((5, 5))\n",
    "\n",
    "tops=(0,2,4,9,49)\n",
    "\n",
    "i=0\n",
    "\n",
    "for train_index, test_index in kfold.split(data_matrix_without_nan):\n",
    "    train = data_matrix_without_nan[train_index, :]\n",
    "    test = data_matrix_without_nan[test_index, :]\n",
    "\n",
    "    proc = PLT_processor(0, n_clusters=1000)\n",
    "    acc = proc.train_process(train)\n",
    "\n",
    "    for j in range(len(tops)):\n",
    "        k1000_acc_top[i,j] = acc[tops[j]]\n",
    "\n",
    "    i+=1"
   ]
  },
  {
   "cell_type": "code",
   "execution_count": null,
   "metadata": {},
   "outputs": [
    {
     "name": "stdout",
     "output_type": "stream",
     "text": [
      "[0.61480993 0.66220763 0.67647398 0.69732477 0.74696931]\n",
      "[0.00526059 0.00491224 0.00495398 0.00464618 0.00537755]\n"
     ]
    }
   ],
   "source": [
    "print(k1000_acc_top.mean(axis=0))\n",
    "print(k1000_acc_top.std(axis=0))"
   ]
  },
  {
   "cell_type": "code",
   "execution_count": 12,
   "metadata": {},
   "outputs": [],
   "source": [
    "# K = 1000\n",
    "# Top 1, 3, 5, 10, 50\n",
    "from sklearn.model_selection import KFold\n",
    "\n",
    "kfold=KFold(n_splits=5)\n",
    "k1000_acc_top = np.zeros((5, 5))\n",
    "\n",
    "tops=(0,2,4,9,49)\n",
    "\n",
    "i=0\n",
    "\n",
    "for train_index, test_index in kfold.split(data_matrix_without_nan):\n",
    "    train = data_matrix_without_nan[train_index, :]\n",
    "    test = data_matrix_without_nan[test_index, :]\n",
    "\n",
    "    proc = PLT_processor(0, n_clusters=1000)\n",
    "    acc = proc.process(train, test)\n",
    "\n",
    "    for j in range(len(tops)):\n",
    "        k1000_acc_top[i,j] = acc[tops[j]]\n",
    "\n",
    "    i+=1"
   ]
  },
  {
   "cell_type": "code",
   "execution_count": 13,
   "metadata": {},
   "outputs": [
    {
     "name": "stdout",
     "output_type": "stream",
     "text": [
      "[0.29672038 0.35459266 0.37884407 0.40859674 0.49989142]\n",
      "[0.01402193 0.01169362 0.01522491 0.01870023 0.02340218]\n"
     ]
    }
   ],
   "source": [
    "print(k1000_acc_top.mean(axis=0))\n",
    "print(k1000_acc_top.std(axis=0))"
   ]
  }
 ],
 "metadata": {
  "kernelspec": {
   "display_name": "Python 3.8.6 64-bit",
   "language": "python",
   "name": "python3"
  },
  "language_info": {
   "codemirror_mode": {
    "name": "ipython",
    "version": 3
   },
   "file_extension": ".py",
   "mimetype": "text/x-python",
   "name": "python",
   "nbconvert_exporter": "python",
   "pygments_lexer": "ipython3",
   "version": "3.8.6"
  },
  "orig_nbformat": 4,
  "vscode": {
   "interpreter": {
    "hash": "f86d5b59def65e88dbeda6389e0ae43ef80c1809fa447fa67ec7c4f0e393c674"
   }
  }
 },
 "nbformat": 4,
 "nbformat_minor": 2
}
